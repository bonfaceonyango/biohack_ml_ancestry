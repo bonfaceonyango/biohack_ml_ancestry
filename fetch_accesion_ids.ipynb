{
 "cells": [
  {
   "cell_type": "code",
   "execution_count": 122,
   "id": "6467d0b8-ebcc-4fee-889f-6a536696b0b0",
   "metadata": {},
   "outputs": [
    {
     "name": "stdout",
     "output_type": "stream",
     "text": [
      "(HLA-A) AND Homo sapiens[porgn:__txid9606] AND KENYA\n"
     ]
    }
   ],
   "source": [
    "from Bio import Entrez\n",
    "Entrez.email = \"odhiambob940@gmail.com\"\n",
    "country_list=[\"KENYA\",\" SOUTH AFRICA\",\"GHANA\"]\n",
    "#Search term for the three sub-types of HLA-A,HLA-B,HLA-C\n",
    "# search_term_A=f\"(HLA-A) AND 'Homo sapiens'[porgn:__txid9606] AND {country}\"\n",
    "# search_term_B=f\"(HLA-B) AND 'Homo sapiens'[porgn:__txid9606] AND {country}\"\n",
    "# search_term_C=f\"(HLA-C) AND 'Homo sapiens'[porgn:__txid9606] AND {country}\"\n",
    "# Create a list of search terms\n",
    "search_list=[search_term_A,search_term_B,search_term_C]\n",
    "#Maximum serach results to be returned\n",
    "batchSize = 10\n",
    "retmax = 10**9\n",
    "#Kenya sequences\n",
    "country=\"Kenya\"\n",
    "search_term_A=\"(HLA-A) AND Homo sapiens[porgn:__txid9606] AND KENYA\"\n",
    "search_term_B=f\"(HLA-B) AND 'Homo sapiens'[porgn:__txid9606] AND KENYA\"\n",
    "search_term_C=f\"(HLA-C) AND 'Homo sapiens'[porgn:__txid9606] AND KENYA\"\n",
    "print(search_term_A)\n",
    "handle1 = Entrez.esearch(db = \"nucleotide\",retmax=batchSize,term=search_term_A)\n",
    "handle2 = Entrez.esearch(db = \"nucleotide\",retmax=batchSize,term=search_term_B)\n",
    "handle3 = Entrez.esearch(db = \"nucleotide\",retmax=batchSize,term=search_term_C)\n",
    "#records = Entrez.read(handle1)\n",
    "handle_list=[handle1,handle2,handle3]\n",
    "for handle in handle_list:\n",
    "    #print(handle)\n",
    "    records = Entrez.read(handle)\n",
    "    fetch = Entrez.efetch(db=\"nucleotide\", id=records['IdList'], rettype=\"fasta\", retmode=\"text\")\n",
    "    y=fetch.read()\n",
    "    #file=\"Kenya_HLA\"\n",
    "    with open(f\"{country}.fasta\",\"a\") as f1:\n",
    "        f1.write(f\"{y}\\n\")\n",
    "        #search_term_A"
   ]
  },
  {
   "cell_type": "code",
   "execution_count": 118,
   "id": "150c011c-c519-47c8-b888-511163a43361",
   "metadata": {},
   "outputs": [
    {
     "data": {
      "text/plain": [
       "dict_keys(['Count', 'RetMax', 'RetStart', 'IdList', 'TranslationSet', 'TranslationStack', 'QueryTranslation'])"
      ]
     },
     "execution_count": 118,
     "metadata": {},
     "output_type": "execute_result"
    }
   ],
   "source": [
    "records.keys()"
   ]
  },
  {
   "cell_type": "code",
   "execution_count": 119,
   "id": "7a16d02e-ed09-4a55-b3ff-ffcaf7dc8683",
   "metadata": {},
   "outputs": [
    {
     "data": {
      "text/plain": [
       "10"
      ]
     },
     "execution_count": 119,
     "metadata": {},
     "output_type": "execute_result"
    }
   ],
   "source": [
    "len(records.get(\"IdList\"))"
   ]
  },
  {
   "cell_type": "code",
   "execution_count": 95,
   "id": "aafe0bce-1fc5-4dbc-8833-d5d7e6e58d71",
   "metadata": {},
   "outputs": [],
   "source": [
    "fetch = Entrez.efetch(db=\"nucleotide\", id=records['IdList'], rettype=\"fasta\", retmode=\"text\")"
   ]
  },
  {
   "cell_type": "code",
   "execution_count": null,
   "id": "9f3c26bd-23d5-497a-b84a-8d724c9fe16b",
   "metadata": {},
   "outputs": [],
   "source": []
  },
  {
   "cell_type": "code",
   "execution_count": 45,
   "id": "d92f6174-a189-4494-b0a1-904065b31959",
   "metadata": {},
   "outputs": [],
   "source": [
    "y=fetch.read()\n",
    "file=\"Kenya_HLA\"\n",
    "with open(file,\"w\") as f1:\n",
    "    f1.write(f\"{y}\\n\")"
   ]
  }
 ],
 "metadata": {
  "kernelspec": {
   "display_name": "Python 3 (ipykernel)",
   "language": "python",
   "name": "python3"
  },
  "language_info": {
   "codemirror_mode": {
    "name": "ipython",
    "version": 3
   },
   "file_extension": ".py",
   "mimetype": "text/x-python",
   "name": "python",
   "nbconvert_exporter": "python",
   "pygments_lexer": "ipython3",
   "version": "3.10.5"
  }
 },
 "nbformat": 4,
 "nbformat_minor": 5
}
