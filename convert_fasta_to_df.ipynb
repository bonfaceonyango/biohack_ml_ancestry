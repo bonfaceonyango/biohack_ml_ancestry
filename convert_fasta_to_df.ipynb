{
 "cells": [
  {
   "cell_type": "code",
   "execution_count": 17,
   "id": "1c891a61-4f27-44b6-a31d-918b1036e2fd",
   "metadata": {
    "tags": []
   },
   "outputs": [
    {
     "name": "stdout",
     "output_type": "stream",
     "text": [
      "63\n"
     ]
    }
   ],
   "source": [
    "\"\"\"\n",
    "Converting fastq to dataframe\n",
    "Created by Bonface Onyango\n",
    "\"\"\"\n",
    "\n",
    "import pandas as pd\n",
    "from pathlib import Path\n",
    "def convert_fasta_to_csv(fasta_file):\n",
    "    with open(fasta_file) as f_file:  # Will close handle cleanly\n",
    "        file=f_file.readlines()\n",
    "        identifier=[]\n",
    "        seq1=\"\"\n",
    "        seq2=[]\n",
    "        length=[]\n",
    "        for line in file: #loop over each line of the file\n",
    "            if line.startswith(\">\"): #check if line starts with > to show that it is a header\n",
    "                id_line=line.split()[0].replace(\">\",\"\") #\n",
    "                identifier.append(id_line)\n",
    "    \n",
    "            else:\n",
    "                if len(line.strip())!=0:   \n",
    "                    seq1+=line.strip()    \n",
    "                else:                        #add each line of the faster file id to a list\n",
    "                    seq2.append(seq1)\n",
    "                    seq1=\"\"\n",
    "        for s in seq2:\n",
    "            pass\n",
    "        print(len(seq2))\n",
    "#             length.append(len(s))\n",
    "#         # empty dataframe\n",
    "#         df=pd.DataFrame()\n",
    "#         #add sequence column\n",
    "#         df[\"seq\"]=seq2\n",
    "#         country=Path(fasta_file).stem.split(\"_\")[0]  #get the file name from file provided\n",
    "#         #add country column\n",
    "#         df[\"length\"]=length\n",
    "#         #df=df[[\"0\",\"1\",\"2\"]]\n",
    "#         df.to_csv(f\"../data/{country}.csv\",index=False)\n",
    "\n",
    "# import glob\n",
    "# #training data\n",
    "for file in glob.glob(\"../data/*.fasta\"):\n",
    "    #print(file)\n",
    "    convert_fasta_to_csv(file)"
   ]
  },
  {
   "cell_type": "code",
   "execution_count": 2,
   "id": "97504104-85c1-4bdc-b7d6-cbbe9331fcbd",
   "metadata": {},
   "outputs": [
    {
     "data": {
      "text/plain": [
       "5"
      ]
     },
     "execution_count": 2,
     "metadata": {},
     "output_type": "execute_result"
    }
   ],
   "source": []
  },
  {
   "cell_type": "markdown",
   "id": "66653f6a-26c7-4a7a-93d8-fedf1219c526",
   "metadata": {},
   "source": [
    "# Convert training csv files to dataframe"
   ]
  },
  {
   "cell_type": "code",
   "execution_count": 7,
   "id": "a61db86d-1812-41ff-8277-cd29f6d53582",
   "metadata": {},
   "outputs": [],
   "source": [
    "import pandas as pd\n",
    "from pathlib import Path\n",
    "def convert_fasta_to_csv(fasta_file):\n",
    "    with open(fasta_file) as f_file:  # Will close handle cleanly\n",
    "        file=f_file.readlines()\n",
    "        identifier=[]\n",
    "        seq1=\"\"\n",
    "        seq2=[]\n",
    "        length=[]\n",
    "        for line in file: #loop over each line of the file\n",
    "            if line.startswith(\">\"): #check if line starts with > to show that it is a header\n",
    "                id_line=line.split()[0].replace(\">\",\"\") #\n",
    "                identifier.append(id_line)\n",
    "    \n",
    "            else:\n",
    "                if len(line.strip())!=0:   \n",
    "                    seq1+=line.strip()    \n",
    "                else:                        #add each line of the faster file id to a list\n",
    "                    seq2.append(seq1)\n",
    "                    seq1=\"\"\n",
    "                    \n",
    "        # empty dataframe\n",
    "        df=pd.DataFrame()\n",
    "        #add sequence column\n",
    "        df[\"2\"]=seq2\n",
    "        country=Path(fasta_file).stem.split(\"_\")[0]  #get the file name from file provided\n",
    "        #train_data=[\"Kenya\",\"Nigeria\",\"Britain\",\"Canada\",\"China\",\"Indaia\"]\n",
    "        df[\"0\"]=country\n",
    "        if country==\"Niger\" or country==\"Ethiopia\":\n",
    "            df[\"1\"]=\"Africa\"\n",
    "\n",
    "        elif country==\"Japan\" or country==\"Korea\":\n",
    "            df[\"1\"]=\"Asia\"\n",
    "        elif country==\"Germany\" or country==\"Russia\":\n",
    "            df[\"1\"]=\"Caucasian\"\n",
    "                #orer of  the columns\n",
    "        df=df[[\"0\",\"1\",\"2\"]]\n",
    "        df.to_csv(f\"../valid_csv/{country}.csv\",index=False)\n",
    "\n",
    "import glob\n",
    "#training data\n",
    "for file in glob.glob(\"../valid_raw_data/*.fasta\"):\n",
    "    convert_fasta_to_csv(file)\n",
    "   # print(file)"
   ]
  },
  {
   "cell_type": "code",
   "execution_count": 27,
   "id": "daf26e1b-f6ff-485a-b182-453d1a2d2e62",
   "metadata": {},
   "outputs": [],
   "source": []
  },
  {
   "cell_type": "markdown",
   "id": "8cb2fe32-6265-4c2b-b0cb-d4b37a0024af",
   "metadata": {},
   "source": [
    "# Merging csv files to main csv"
   ]
  },
  {
   "cell_type": "code",
   "execution_count": 8,
   "id": "46e40476-c611-4f4f-b798-e4f8a118467e",
   "metadata": {},
   "outputs": [],
   "source": [
    "import os\n",
    "import pandas as pd\n",
    "#defines path to training files.\n",
    "paths=['../train_csv/','../valid_csv/']\n",
    "for path in paths:\n",
    "    # creates list with files to merge based on name convention\n",
    "    file_list = [path + f for f in os.listdir(path) if f.endswith('.csv')]\n",
    "    # creates empty list to include the content of each file converted to pandas DF\n",
    "    csv_list = []\n",
    "    # reads each (sorted) file in file_list, converts it to pandas DF and appends it to the csv_list\n",
    "    for file in sorted(file_list):\n",
    "        csv_list.append(pd.read_csv(file))\n",
    "                        # .assign(File_Name = os.path.basename(file)))\n",
    "    # merges single pandas DFs into a single DF, index is refreshed\n",
    "    csv_merged = pd.concat(csv_list, ignore_index=True)\n",
    "    csv_merged.rename(columns={\"Country\":0,\"Seq\":1})\n",
    "    # Single DF is saved to the path in CSV format, without index column.\n",
    "    if \"train\" in path:\n",
    "        csv_merged.to_csv(path + '../processed_data/train.csv', index=False)\n",
    "    else:\n",
    "        csv_merged.to_csv(path + '../processed_data/valid.csv', index=False)\n"
   ]
  },
  {
   "cell_type": "code",
   "execution_count": null,
   "id": "d1e8b973-7b3b-447b-8348-86a1aeda1e19",
   "metadata": {},
   "outputs": [],
   "source": []
  },
  {
   "cell_type": "code",
   "execution_count": null,
   "id": "bd010202-75ec-419e-8932-52391896880d",
   "metadata": {},
   "outputs": [],
   "source": [
    "# "
   ]
  },
  {
   "cell_type": "code",
   "execution_count": null,
   "id": "86923a9a-a483-45d3-a7fe-59029857115d",
   "metadata": {},
   "outputs": [],
   "source": []
  },
  {
   "cell_type": "code",
   "execution_count": null,
   "id": "a7b8605f-1515-4b92-8bf3-fb57e967fab2",
   "metadata": {},
   "outputs": [],
   "source": [
    "\n"
   ]
  },
  {
   "cell_type": "code",
   "execution_count": 44,
   "id": "e6a92ad3-7296-4072-8559-904b55c25d47",
   "metadata": {},
   "outputs": [],
   "source": [
    "#g=[\"../training_raw_data/Kenya_sequences.fasta\",\"../training_raw_data/Nigeria_sequences.fasta\",\"../training_raw_data/China_sequences.fasta\",\"../training_raw_data/India_sequences.fasta\",\"../training_raw_data/Britain_sequences.fasta\",\"../training_raw_data/Canada_sequences.fasta\"]"
   ]
  },
  {
   "cell_type": "code",
   "execution_count": 42,
   "id": "b6b10803-4956-45a6-bee8-4ad9a52a789c",
   "metadata": {},
   "outputs": [],
   "source": []
  },
  {
   "cell_type": "code",
   "execution_count": 45,
   "id": "acfcb421-fc60-4059-a775-4d289d4ebc38",
   "metadata": {},
   "outputs": [],
   "source": []
  },
  {
   "cell_type": "code",
   "execution_count": null,
   "id": "87a694e7-59fd-4c00-bceb-960b76ca5687",
   "metadata": {},
   "outputs": [],
   "source": []
  },
  {
   "cell_type": "code",
   "execution_count": null,
   "id": "48a86555-0db7-4773-b9fd-3355724a9dc6",
   "metadata": {},
   "outputs": [],
   "source": []
  }
 ],
 "metadata": {
  "kernelspec": {
   "display_name": "Python 3 (ipykernel)",
   "language": "python",
   "name": "python3"
  },
  "language_info": {
   "codemirror_mode": {
    "name": "ipython",
    "version": 3
   },
   "file_extension": ".py",
   "mimetype": "text/x-python",
   "name": "python",
   "nbconvert_exporter": "python",
   "pygments_lexer": "ipython3",
   "version": "3.10.5"
  }
 },
 "nbformat": 4,
 "nbformat_minor": 5
}
