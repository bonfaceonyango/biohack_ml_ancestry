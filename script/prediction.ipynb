{
 "cells": [
  {
   "cell_type": "code",
   "execution_count": 1,
   "id": "ba0c5ae2-88a0-46d5-ade8-cf40ead81bb3",
   "metadata": {},
   "outputs": [],
   "source": [
    "#import libraries\n",
    "import pandas as pd\n",
    "import time\n",
    "from sklearn.metrics import accuracy_score,classification_report\n",
    "from sklearn.model_selection import train_test_split\n",
    "from sklearn.pipeline import Pipeline, make_pipeline\n",
    "from sklearn.tree import DecisionTreeClassifier, plot_tree\n",
    "from sklearn.preprocessing import StandardScaler,OrdinalEncoder\n",
    "from sklearn.ensemble import RandomForestClassifier\n",
    "from sklearn.impute import SimpleImputer\n",
    "from sklearn.metrics import ConfusionMatrixDisplay\n",
    "import matplotlib.pyplot as plt\n",
    "\n",
    "\n"
   ]
  },
  {
   "cell_type": "markdown",
   "id": "c5d599de-1f7d-450e-8b91-8d5adf031d0c",
   "metadata": {},
   "source": [
    "## Load data"
   ]
  },
  {
   "cell_type": "code",
   "execution_count": 3,
   "id": "11689eb8-fddb-4650-bfd8-f2e2b983147d",
   "metadata": {},
   "outputs": [],
   "source": [
    "# df1 = pd.read_csv(\"../data/kmerdata.csv\", index_col=\"sample_id\")\n",
    "df = pd.read_csv(\"../data/kmerdata1.csv\", index_col=\"sample_id\")\n"
   ]
  },
  {
   "cell_type": "code",
   "execution_count": 4,
   "id": "5bf7ecb6-876a-4226-aed1-4c2e5657a6e2",
   "metadata": {},
   "outputs": [
    {
     "data": {
      "text/html": [
       "<div>\n",
       "<style scoped>\n",
       "    .dataframe tbody tr th:only-of-type {\n",
       "        vertical-align: middle;\n",
       "    }\n",
       "\n",
       "    .dataframe tbody tr th {\n",
       "        vertical-align: top;\n",
       "    }\n",
       "\n",
       "    .dataframe thead th {\n",
       "        text-align: right;\n",
       "    }\n",
       "</style>\n",
       "<table border=\"1\" class=\"dataframe\">\n",
       "  <thead>\n",
       "    <tr style=\"text-align: right;\">\n",
       "      <th></th>\n",
       "      <th>AAAAAAAAAAAAAAAAAAAAAAAAAAA</th>\n",
       "      <th>GGGATTACAGGCACCTGCCACCACACC</th>\n",
       "      <th>GCCTGGCTAATTTTTATATTTTTAGTA</th>\n",
       "      <th>GGCTGGGCACGGTGGCTCACGCCTGTA</th>\n",
       "      <th>AGGCAGGAGAATGGCATGAACCCGGGA</th>\n",
       "      <th>GCTTCTGCACAGCAAAAGAAACTATCA</th>\n",
       "      <th>ACGCCATTGCACTCCAGCCTGGGCAAC</th>\n",
       "      <th>TCTTGGGAGGGTGTATGTGTCGAGGAA</th>\n",
       "      <th>AGTCTTGCTCTGTCTCCCAGGCTGGAG</th>\n",
       "      <th>CCAAAAAAGAGCCCGCATTGCCAAGTC</th>\n",
       "      <th>...</th>\n",
       "      <th>GGATCGCTTGAGCCCAGGAGTTTGAGA</th>\n",
       "      <th>AAAAAAAAAAAAAAAAGAAAAAAAAAA</th>\n",
       "      <th>GCAGTGAGCTATGATTGCACCACTGCA</th>\n",
       "      <th>ATTCTCCTGCCTCAGCCTCCCGAGTAC</th>\n",
       "      <th>GAAGGAAGGGAGGGAGGGAGGGAGGGA</th>\n",
       "      <th>AACTTAAAGTATAATAATAAAAAAAAA</th>\n",
       "      <th>GGAGTGCAGTGGCACAATCATGGCTCA</th>\n",
       "      <th>CTCCTAATGCTATCCCTCCCCTAGCCC</th>\n",
       "      <th>CGTCTCAAAAAAAAAAAAAAAAAGAAA</th>\n",
       "      <th>ATTGTTCAATTCCCATCTATGAGTGAG</th>\n",
       "    </tr>\n",
       "    <tr>\n",
       "      <th>sample_id</th>\n",
       "      <th></th>\n",
       "      <th></th>\n",
       "      <th></th>\n",
       "      <th></th>\n",
       "      <th></th>\n",
       "      <th></th>\n",
       "      <th></th>\n",
       "      <th></th>\n",
       "      <th></th>\n",
       "      <th></th>\n",
       "      <th></th>\n",
       "      <th></th>\n",
       "      <th></th>\n",
       "      <th></th>\n",
       "      <th></th>\n",
       "      <th></th>\n",
       "      <th></th>\n",
       "      <th></th>\n",
       "      <th></th>\n",
       "      <th></th>\n",
       "      <th></th>\n",
       "    </tr>\n",
       "  </thead>\n",
       "  <tbody>\n",
       "    <tr>\n",
       "      <th>NA19720</th>\n",
       "      <td>184202</td>\n",
       "      <td>1362</td>\n",
       "      <td>1376</td>\n",
       "      <td>3065</td>\n",
       "      <td>5756</td>\n",
       "      <td>3408</td>\n",
       "      <td>3288</td>\n",
       "      <td>1143</td>\n",
       "      <td>1514</td>\n",
       "      <td>1394</td>\n",
       "      <td>...</td>\n",
       "      <td>NaN</td>\n",
       "      <td>NaN</td>\n",
       "      <td>NaN</td>\n",
       "      <td>NaN</td>\n",
       "      <td>NaN</td>\n",
       "      <td>NaN</td>\n",
       "      <td>NaN</td>\n",
       "      <td>NaN</td>\n",
       "      <td>NaN</td>\n",
       "      <td>NaN</td>\n",
       "    </tr>\n",
       "    <tr>\n",
       "      <th>NA19719</th>\n",
       "      <td>184095</td>\n",
       "      <td>1371</td>\n",
       "      <td>1388</td>\n",
       "      <td>3083</td>\n",
       "      <td>5722</td>\n",
       "      <td>3408</td>\n",
       "      <td>3282</td>\n",
       "      <td>1147</td>\n",
       "      <td>1502</td>\n",
       "      <td>1401</td>\n",
       "      <td>...</td>\n",
       "      <td>NaN</td>\n",
       "      <td>NaN</td>\n",
       "      <td>NaN</td>\n",
       "      <td>NaN</td>\n",
       "      <td>NaN</td>\n",
       "      <td>NaN</td>\n",
       "      <td>NaN</td>\n",
       "      <td>NaN</td>\n",
       "      <td>NaN</td>\n",
       "      <td>NaN</td>\n",
       "    </tr>\n",
       "    <tr>\n",
       "      <th>NA19678</th>\n",
       "      <td>184783</td>\n",
       "      <td>1387</td>\n",
       "      <td>1386</td>\n",
       "      <td>3053</td>\n",
       "      <td>5746</td>\n",
       "      <td>3397</td>\n",
       "      <td>3275</td>\n",
       "      <td>1148</td>\n",
       "      <td>1499</td>\n",
       "      <td>1397</td>\n",
       "      <td>...</td>\n",
       "      <td>NaN</td>\n",
       "      <td>NaN</td>\n",
       "      <td>NaN</td>\n",
       "      <td>NaN</td>\n",
       "      <td>NaN</td>\n",
       "      <td>NaN</td>\n",
       "      <td>NaN</td>\n",
       "      <td>NaN</td>\n",
       "      <td>NaN</td>\n",
       "      <td>NaN</td>\n",
       "    </tr>\n",
       "    <tr>\n",
       "      <th>NA19676</th>\n",
       "      <td>183970</td>\n",
       "      <td>1389</td>\n",
       "      <td>1390</td>\n",
       "      <td>3065</td>\n",
       "      <td>5722</td>\n",
       "      <td>3402</td>\n",
       "      <td>3279</td>\n",
       "      <td>1143</td>\n",
       "      <td>1507</td>\n",
       "      <td>1395</td>\n",
       "      <td>...</td>\n",
       "      <td>NaN</td>\n",
       "      <td>NaN</td>\n",
       "      <td>NaN</td>\n",
       "      <td>NaN</td>\n",
       "      <td>NaN</td>\n",
       "      <td>NaN</td>\n",
       "      <td>NaN</td>\n",
       "      <td>NaN</td>\n",
       "      <td>NaN</td>\n",
       "      <td>NaN</td>\n",
       "    </tr>\n",
       "    <tr>\n",
       "      <th>NA19468</th>\n",
       "      <td>182214</td>\n",
       "      <td>1462</td>\n",
       "      <td>1387</td>\n",
       "      <td>3084</td>\n",
       "      <td>5750</td>\n",
       "      <td>3413</td>\n",
       "      <td>3287</td>\n",
       "      <td>1146</td>\n",
       "      <td>1514</td>\n",
       "      <td>1397</td>\n",
       "      <td>...</td>\n",
       "      <td>NaN</td>\n",
       "      <td>NaN</td>\n",
       "      <td>NaN</td>\n",
       "      <td>NaN</td>\n",
       "      <td>NaN</td>\n",
       "      <td>NaN</td>\n",
       "      <td>NaN</td>\n",
       "      <td>NaN</td>\n",
       "      <td>NaN</td>\n",
       "      <td>NaN</td>\n",
       "    </tr>\n",
       "  </tbody>\n",
       "</table>\n",
       "<p>5 rows × 32331 columns</p>\n",
       "</div>"
      ],
      "text/plain": [
       "           AAAAAAAAAAAAAAAAAAAAAAAAAAA  GGGATTACAGGCACCTGCCACCACACC  \\\n",
       "sample_id                                                             \n",
       "NA19720                         184202                         1362   \n",
       "NA19719                         184095                         1371   \n",
       "NA19678                         184783                         1387   \n",
       "NA19676                         183970                         1389   \n",
       "NA19468                         182214                         1462   \n",
       "\n",
       "           GCCTGGCTAATTTTTATATTTTTAGTA  GGCTGGGCACGGTGGCTCACGCCTGTA  \\\n",
       "sample_id                                                             \n",
       "NA19720                           1376                         3065   \n",
       "NA19719                           1388                         3083   \n",
       "NA19678                           1386                         3053   \n",
       "NA19676                           1390                         3065   \n",
       "NA19468                           1387                         3084   \n",
       "\n",
       "           AGGCAGGAGAATGGCATGAACCCGGGA  GCTTCTGCACAGCAAAAGAAACTATCA  \\\n",
       "sample_id                                                             \n",
       "NA19720                           5756                         3408   \n",
       "NA19719                           5722                         3408   \n",
       "NA19678                           5746                         3397   \n",
       "NA19676                           5722                         3402   \n",
       "NA19468                           5750                         3413   \n",
       "\n",
       "           ACGCCATTGCACTCCAGCCTGGGCAAC  TCTTGGGAGGGTGTATGTGTCGAGGAA  \\\n",
       "sample_id                                                             \n",
       "NA19720                           3288                         1143   \n",
       "NA19719                           3282                         1147   \n",
       "NA19678                           3275                         1148   \n",
       "NA19676                           3279                         1143   \n",
       "NA19468                           3287                         1146   \n",
       "\n",
       "           AGTCTTGCTCTGTCTCCCAGGCTGGAG  CCAAAAAAGAGCCCGCATTGCCAAGTC  ...  \\\n",
       "sample_id                                                            ...   \n",
       "NA19720                           1514                         1394  ...   \n",
       "NA19719                           1502                         1401  ...   \n",
       "NA19678                           1499                         1397  ...   \n",
       "NA19676                           1507                         1395  ...   \n",
       "NA19468                           1514                         1397  ...   \n",
       "\n",
       "           GGATCGCTTGAGCCCAGGAGTTTGAGA  AAAAAAAAAAAAAAAAGAAAAAAAAAA  \\\n",
       "sample_id                                                             \n",
       "NA19720                            NaN                          NaN   \n",
       "NA19719                            NaN                          NaN   \n",
       "NA19678                            NaN                          NaN   \n",
       "NA19676                            NaN                          NaN   \n",
       "NA19468                            NaN                          NaN   \n",
       "\n",
       "           GCAGTGAGCTATGATTGCACCACTGCA  ATTCTCCTGCCTCAGCCTCCCGAGTAC  \\\n",
       "sample_id                                                             \n",
       "NA19720                            NaN                          NaN   \n",
       "NA19719                            NaN                          NaN   \n",
       "NA19678                            NaN                          NaN   \n",
       "NA19676                            NaN                          NaN   \n",
       "NA19468                            NaN                          NaN   \n",
       "\n",
       "           GAAGGAAGGGAGGGAGGGAGGGAGGGA  AACTTAAAGTATAATAATAAAAAAAAA  \\\n",
       "sample_id                                                             \n",
       "NA19720                            NaN                          NaN   \n",
       "NA19719                            NaN                          NaN   \n",
       "NA19678                            NaN                          NaN   \n",
       "NA19676                            NaN                          NaN   \n",
       "NA19468                            NaN                          NaN   \n",
       "\n",
       "           GGAGTGCAGTGGCACAATCATGGCTCA  CTCCTAATGCTATCCCTCCCCTAGCCC  \\\n",
       "sample_id                                                             \n",
       "NA19720                            NaN                          NaN   \n",
       "NA19719                            NaN                          NaN   \n",
       "NA19678                            NaN                          NaN   \n",
       "NA19676                            NaN                          NaN   \n",
       "NA19468                            NaN                          NaN   \n",
       "\n",
       "           CGTCTCAAAAAAAAAAAAAAAAAGAAA  ATTGTTCAATTCCCATCTATGAGTGAG  \n",
       "sample_id                                                            \n",
       "NA19720                            NaN                          NaN  \n",
       "NA19719                            NaN                          NaN  \n",
       "NA19678                            NaN                          NaN  \n",
       "NA19676                            NaN                          NaN  \n",
       "NA19468                            NaN                          NaN  \n",
       "\n",
       "[5 rows x 32331 columns]"
      ]
     },
     "execution_count": 4,
     "metadata": {},
     "output_type": "execute_result"
    }
   ],
   "source": [
    "df.head()"
   ]
  },
  {
   "cell_type": "code",
   "execution_count": 6,
   "id": "699345ce-8cbf-43ac-9c02-5c339f6d7d8e",
   "metadata": {},
   "outputs": [
    {
     "data": {
      "text/plain": [
       "MXL    4\n",
       "LWK    4\n",
       "GBR    4\n",
       "Name: code, dtype: int64"
      ]
     },
     "execution_count": 6,
     "metadata": {},
     "output_type": "execute_result"
    }
   ],
   "source": [
    "# df_clean = df.drop([\"HG02061\",\"NA19704\"],axis=0)\n",
    "df.code.value_counts() "
   ]
  },
  {
   "cell_type": "code",
   "execution_count": 7,
   "id": "b78a180b-7c09-4c45-a6e8-f048ccb607d9",
   "metadata": {},
   "outputs": [],
   "source": [
    "# fill NaNs in the data frame with 0\n",
    "df.fillna(0,inplace=True)"
   ]
  },
  {
   "cell_type": "code",
   "execution_count": 10,
   "id": "357c5579-3be4-4112-ae76-debb5ca566ff",
   "metadata": {},
   "outputs": [],
   "source": [
    "# df2.fillna(0,inplace=True)\n",
    "# df1.fillna(0,inplace=True)\n"
   ]
  },
  {
   "cell_type": "code",
   "execution_count": 4,
   "id": "4aeee2aa-e71d-41c2-ace2-61e23ce47fe2",
   "metadata": {},
   "outputs": [
    {
     "name": "stdout",
     "output_type": "stream",
     "text": [
      "['MXL' 'ASW' 'LWK' 'STU' 'KHV']\n",
      "['MXL' 'LWK' 'GBR']\n"
     ]
    }
   ],
   "source": [
    "# print(df1.code.unique())\n",
    "# print(df2.code.unique())"
   ]
  },
  {
   "cell_type": "code",
   "execution_count": 44,
   "id": "e48a287e-51fd-4919-9e50-5fc1cb26ed8e",
   "metadata": {},
   "outputs": [
    {
     "data": {
      "text/plain": [
       "array([0, 1, 3, 4])"
      ]
     },
     "execution_count": 44,
     "metadata": {},
     "output_type": "execute_result"
    }
   ],
   "source": [
    "df1.code.unique()\n",
    "c={'MXL':0, 'ASW':1, 'LWK':2, 'STU':3, 'KHV':4}\n",
    "df1[\"code\"]=df1[\"code\"].replace(c)\n",
    "df1.code.unique()"
   ]
  },
  {
   "cell_type": "code",
   "execution_count": 11,
   "id": "65faa67d-390c-44ed-ae78-7b05764b9710",
   "metadata": {},
   "outputs": [
    {
     "data": {
      "text/plain": [
       "sample_id\n",
       "NA19720    0\n",
       "NA19719    0\n",
       "NA19678    0\n",
       "NA19676    0\n",
       "NA19468    1\n",
       "NA19456    1\n",
       "NA19454    1\n",
       "NA19440    1\n",
       "HG00238    2\n",
       "HG00236    2\n",
       "HG00235    2\n",
       "HG00234    2\n",
       "Name: code, dtype: int64"
      ]
     },
     "execution_count": 11,
     "metadata": {},
     "output_type": "execute_result"
    }
   ],
   "source": [
    "country={\"MXL\":0,\"LWK\":1,\"GBR\":2,\"STU\":3}\n",
    "df2[\"code\"]=df2[\"code\"].replace(country)\n",
    "df2[\"code\"]"
   ]
  },
  {
   "cell_type": "code",
   "execution_count": 4,
   "id": "865b2e08-c6a3-40ba-bfc4-bbf42c3bd150",
   "metadata": {},
   "outputs": [
    {
     "data": {
      "text/plain": [
       "sample_id\n",
       "NA19720    0\n",
       "NA19719    0\n",
       "NA19678    0\n",
       "NA19676    0\n",
       "NA19468    1\n",
       "NA19456    1\n",
       "NA19454    1\n",
       "NA19440    1\n",
       "HG00238    2\n",
       "HG00236    2\n",
       "HG00235    2\n",
       "HG00234    2\n",
       "Name: Population, dtype: int64"
      ]
     },
     "execution_count": 4,
     "metadata": {},
     "output_type": "execute_result"
    }
   ],
   "source": [
    "country={\"MXL\":0,\"LWK\":1,\"GBR\":2,\"STU\":3}\n",
    "df2[\"Population\"]=df2[\"code\"].replace(country)\n",
    "df2[\"Population\"]"
   ]
  },
  {
   "cell_type": "code",
   "execution_count": 5,
   "id": "beeb4236-22ce-46cf-a62f-289a82dcd02c",
   "metadata": {},
   "outputs": [],
   "source": [
    "#drop Code\n",
    "df2.drop(\"code\",axis=1, inplace=True)"
   ]
  },
  {
   "cell_type": "markdown",
   "id": "9e0bbad8-12ab-4a0f-ac11-4cabd08387a1",
   "metadata": {},
   "source": [
    "## Explore"
   ]
  },
  {
   "cell_type": "code",
   "execution_count": 12,
   "id": "9eea5a54-5f4a-4ebc-8b97-84fbfa687208",
   "metadata": {},
   "outputs": [
    {
     "data": {
      "text/plain": [
       "<AxesSubplot:>"
      ]
     },
     "execution_count": 12,
     "metadata": {},
     "output_type": "execute_result"
    },
    {
     "data": {
      "image/png": "[encoded data removed]",
      "text/plain": [
       "<Figure size 432x288 with 1 Axes>"
      ]
     },
     "metadata": {
      "needs_background": "light"
     },
     "output_type": "display_data"
    }
   ],
   "source": [
    "df2[\"code\"].value_counts(normalize=True).plot(kind=\"bar\")\n"
   ]
  },
  {
   "cell_type": "markdown",
   "id": "b84d5820-b316-4a48-8416-9f52414da37e",
   "metadata": {},
   "source": [
    "## Split data"
   ]
  },
  {
   "cell_type": "code",
   "execution_count": 13,
   "id": "9922874f-d934-4a46-9d62-a55fd37d2a3f",
   "metadata": {},
   "outputs": [
    {
     "name": "stdout",
     "output_type": "stream",
     "text": [
      "X shape: (12, 32330)\n",
      "y shape: (12,)\n"
     ]
    }
   ],
   "source": [
    "target = \"code\"\n",
    "X =df2.drop(columns=target)\n",
    "y = df2[target]\n",
    "\n",
    "print(\"X shape:\", X.shape)\n",
    "print(\"y shape:\", y.shape)"
   ]
  },
  {
   "cell_type": "code",
   "execution_count": 46,
   "id": "d90d7577-70ad-492c-b3ae-06fc0b67778d",
   "metadata": {},
   "outputs": [
    {
     "name": "stdout",
     "output_type": "stream",
     "text": [
      "X1 shape: (11, 32343)\n",
      "y1 shape: (11,)\n"
     ]
    }
   ],
   "source": [
    "target = \"code\"\n",
    "X =df1.drop(columns=target)\n",
    "y1 = df1[target]\n",
    "\n",
    "print(\"X1 shape:\", X1.shape)\n",
    "print(\"y1 shape:\", y1.shape)"
   ]
  },
  {
   "cell_type": "code",
   "execution_count": 112,
   "id": "6d3aab6d-7a10-4c0d-b31f-4a3279b79b3c",
   "metadata": {},
   "outputs": [],
   "source": [
    "col=X.columns\n",
    "df3=pd.DataFrame(columns=col)\n",
    "df3.to_csv(\"col_names\")"
   ]
  },
  {
   "cell_type": "code",
   "execution_count": null,
   "id": "f023cee9-e59e-44b2-9cb8-e70cef4f8548",
   "metadata": {},
   "outputs": [],
   "source": []
  },
  {
   "cell_type": "code",
   "execution_count": 94,
   "id": "56e6b5b2-94f9-4f94-8290-878f6f0ca09c",
   "metadata": {},
   "outputs": [
    {
     "data": {
      "text/html": [
       "<div>\n",
       "<style scoped>\n",
       "    .dataframe tbody tr th:only-of-type {\n",
       "        vertical-align: middle;\n",
       "    }\n",
       "\n",
       "    .dataframe tbody tr th {\n",
       "        vertical-align: top;\n",
       "    }\n",
       "\n",
       "    .dataframe thead th {\n",
       "        text-align: right;\n",
       "    }\n",
       "</style>\n",
       "<table border=\"1\" class=\"dataframe\">\n",
       "  <thead>\n",
       "    <tr style=\"text-align: right;\">\n",
       "      <th></th>\n",
       "      <th>AAAAAAAAAAAAAAAAAAAAAAAAAAA</th>\n",
       "      <th>GGGATTACAGGCACCTGCCACCACACC</th>\n",
       "      <th>GCCTGGCTAATTTTTATATTTTTAGTA</th>\n",
       "      <th>GGCTGGGCACGGTGGCTCACGCCTGTA</th>\n",
       "      <th>AGGCAGGAGAATGGCATGAACCCGGGA</th>\n",
       "      <th>GCTTCTGCACAGCAAAAGAAACTATCA</th>\n",
       "      <th>ACGCCATTGCACTCCAGCCTGGGCAAC</th>\n",
       "      <th>TCTTGGGAGGGTGTATGTGTCGAGGAA</th>\n",
       "      <th>AGTCTTGCTCTGTCTCCCAGGCTGGAG</th>\n",
       "      <th>CCAAAAAAGAGCCCGCATTGCCAAGTC</th>\n",
       "      <th>...</th>\n",
       "      <th>GGATCGCTTGAGCCCAGGAGTTTGAGA</th>\n",
       "      <th>AAAAAAAAAAAAAAAAGAAAAAAAAAA</th>\n",
       "      <th>GCAGTGAGCTATGATTGCACCACTGCA</th>\n",
       "      <th>ATTCTCCTGCCTCAGCCTCCCGAGTAC</th>\n",
       "      <th>GAAGGAAGGGAGGGAGGGAGGGAGGGA</th>\n",
       "      <th>AACTTAAAGTATAATAATAAAAAAAAA</th>\n",
       "      <th>GGAGTGCAGTGGCACAATCATGGCTCA</th>\n",
       "      <th>CTCCTAATGCTATCCCTCCCCTAGCCC</th>\n",
       "      <th>CGTCTCAAAAAAAAAAAAAAAAAGAAA</th>\n",
       "      <th>ATTGTTCAATTCCCATCTATGAGTGAG</th>\n",
       "    </tr>\n",
       "    <tr>\n",
       "      <th>sample_id</th>\n",
       "      <th></th>\n",
       "      <th></th>\n",
       "      <th></th>\n",
       "      <th></th>\n",
       "      <th></th>\n",
       "      <th></th>\n",
       "      <th></th>\n",
       "      <th></th>\n",
       "      <th></th>\n",
       "      <th></th>\n",
       "      <th></th>\n",
       "      <th></th>\n",
       "      <th></th>\n",
       "      <th></th>\n",
       "      <th></th>\n",
       "      <th></th>\n",
       "      <th></th>\n",
       "      <th></th>\n",
       "      <th></th>\n",
       "      <th></th>\n",
       "      <th></th>\n",
       "    </tr>\n",
       "  </thead>\n",
       "  <tbody>\n",
       "    <tr>\n",
       "      <th>NA19720</th>\n",
       "      <td>184202</td>\n",
       "      <td>1362</td>\n",
       "      <td>1376</td>\n",
       "      <td>3065</td>\n",
       "      <td>5756</td>\n",
       "      <td>3408</td>\n",
       "      <td>3288</td>\n",
       "      <td>1143</td>\n",
       "      <td>1514</td>\n",
       "      <td>1394</td>\n",
       "      <td>...</td>\n",
       "      <td>0.0</td>\n",
       "      <td>0.0</td>\n",
       "      <td>0.0</td>\n",
       "      <td>0.0</td>\n",
       "      <td>0.0</td>\n",
       "      <td>0.0</td>\n",
       "      <td>0.0</td>\n",
       "      <td>0.0</td>\n",
       "      <td>0.0</td>\n",
       "      <td>0.0</td>\n",
       "    </tr>\n",
       "    <tr>\n",
       "      <th>NA19719</th>\n",
       "      <td>184095</td>\n",
       "      <td>1371</td>\n",
       "      <td>1388</td>\n",
       "      <td>3083</td>\n",
       "      <td>5722</td>\n",
       "      <td>3408</td>\n",
       "      <td>3282</td>\n",
       "      <td>1147</td>\n",
       "      <td>1502</td>\n",
       "      <td>1401</td>\n",
       "      <td>...</td>\n",
       "      <td>0.0</td>\n",
       "      <td>0.0</td>\n",
       "      <td>0.0</td>\n",
       "      <td>0.0</td>\n",
       "      <td>0.0</td>\n",
       "      <td>0.0</td>\n",
       "      <td>0.0</td>\n",
       "      <td>0.0</td>\n",
       "      <td>0.0</td>\n",
       "      <td>0.0</td>\n",
       "    </tr>\n",
       "    <tr>\n",
       "      <th>NA19678</th>\n",
       "      <td>184783</td>\n",
       "      <td>1387</td>\n",
       "      <td>1386</td>\n",
       "      <td>3053</td>\n",
       "      <td>5746</td>\n",
       "      <td>3397</td>\n",
       "      <td>3275</td>\n",
       "      <td>1148</td>\n",
       "      <td>1499</td>\n",
       "      <td>1397</td>\n",
       "      <td>...</td>\n",
       "      <td>0.0</td>\n",
       "      <td>0.0</td>\n",
       "      <td>0.0</td>\n",
       "      <td>0.0</td>\n",
       "      <td>0.0</td>\n",
       "      <td>0.0</td>\n",
       "      <td>0.0</td>\n",
       "      <td>0.0</td>\n",
       "      <td>0.0</td>\n",
       "      <td>0.0</td>\n",
       "    </tr>\n",
       "    <tr>\n",
       "      <th>NA19676</th>\n",
       "      <td>183970</td>\n",
       "      <td>1389</td>\n",
       "      <td>1390</td>\n",
       "      <td>3065</td>\n",
       "      <td>5722</td>\n",
       "      <td>3402</td>\n",
       "      <td>3279</td>\n",
       "      <td>1143</td>\n",
       "      <td>1507</td>\n",
       "      <td>1395</td>\n",
       "      <td>...</td>\n",
       "      <td>0.0</td>\n",
       "      <td>0.0</td>\n",
       "      <td>0.0</td>\n",
       "      <td>0.0</td>\n",
       "      <td>0.0</td>\n",
       "      <td>0.0</td>\n",
       "      <td>0.0</td>\n",
       "      <td>0.0</td>\n",
       "      <td>0.0</td>\n",
       "      <td>0.0</td>\n",
       "    </tr>\n",
       "    <tr>\n",
       "      <th>NA19468</th>\n",
       "      <td>182214</td>\n",
       "      <td>1462</td>\n",
       "      <td>1387</td>\n",
       "      <td>3084</td>\n",
       "      <td>5750</td>\n",
       "      <td>3413</td>\n",
       "      <td>3287</td>\n",
       "      <td>1146</td>\n",
       "      <td>1514</td>\n",
       "      <td>1397</td>\n",
       "      <td>...</td>\n",
       "      <td>0.0</td>\n",
       "      <td>0.0</td>\n",
       "      <td>0.0</td>\n",
       "      <td>0.0</td>\n",
       "      <td>0.0</td>\n",
       "      <td>0.0</td>\n",
       "      <td>0.0</td>\n",
       "      <td>0.0</td>\n",
       "      <td>0.0</td>\n",
       "      <td>0.0</td>\n",
       "    </tr>\n",
       "  </tbody>\n",
       "</table>\n",
       "<p>5 rows × 32330 columns</p>\n",
       "</div>"
      ],
      "text/plain": [
       "           AAAAAAAAAAAAAAAAAAAAAAAAAAA  GGGATTACAGGCACCTGCCACCACACC  \\\n",
       "sample_id                                                             \n",
       "NA19720                         184202                         1362   \n",
       "NA19719                         184095                         1371   \n",
       "NA19678                         184783                         1387   \n",
       "NA19676                         183970                         1389   \n",
       "NA19468                         182214                         1462   \n",
       "\n",
       "           GCCTGGCTAATTTTTATATTTTTAGTA  GGCTGGGCACGGTGGCTCACGCCTGTA  \\\n",
       "sample_id                                                             \n",
       "NA19720                           1376                         3065   \n",
       "NA19719                           1388                         3083   \n",
       "NA19678                           1386                         3053   \n",
       "NA19676                           1390                         3065   \n",
       "NA19468                           1387                         3084   \n",
       "\n",
       "           AGGCAGGAGAATGGCATGAACCCGGGA  GCTTCTGCACAGCAAAAGAAACTATCA  \\\n",
       "sample_id                                                             \n",
       "NA19720                           5756                         3408   \n",
       "NA19719                           5722                         3408   \n",
       "NA19678                           5746                         3397   \n",
       "NA19676                           5722                         3402   \n",
       "NA19468                           5750                         3413   \n",
       "\n",
       "           ACGCCATTGCACTCCAGCCTGGGCAAC  TCTTGGGAGGGTGTATGTGTCGAGGAA  \\\n",
       "sample_id                                                             \n",
       "NA19720                           3288                         1143   \n",
       "NA19719                           3282                         1147   \n",
       "NA19678                           3275                         1148   \n",
       "NA19676                           3279                         1143   \n",
       "NA19468                           3287                         1146   \n",
       "\n",
       "           AGTCTTGCTCTGTCTCCCAGGCTGGAG  CCAAAAAAGAGCCCGCATTGCCAAGTC  ...  \\\n",
       "sample_id                                                            ...   \n",
       "NA19720                           1514                         1394  ...   \n",
       "NA19719                           1502                         1401  ...   \n",
       "NA19678                           1499                         1397  ...   \n",
       "NA19676                           1507                         1395  ...   \n",
       "NA19468                           1514                         1397  ...   \n",
       "\n",
       "           GGATCGCTTGAGCCCAGGAGTTTGAGA  AAAAAAAAAAAAAAAAGAAAAAAAAAA  \\\n",
       "sample_id                                                             \n",
       "NA19720                            0.0                          0.0   \n",
       "NA19719                            0.0                          0.0   \n",
       "NA19678                            0.0                          0.0   \n",
       "NA19676                            0.0                          0.0   \n",
       "NA19468                            0.0                          0.0   \n",
       "\n",
       "           GCAGTGAGCTATGATTGCACCACTGCA  ATTCTCCTGCCTCAGCCTCCCGAGTAC  \\\n",
       "sample_id                                                             \n",
       "NA19720                            0.0                          0.0   \n",
       "NA19719                            0.0                          0.0   \n",
       "NA19678                            0.0                          0.0   \n",
       "NA19676                            0.0                          0.0   \n",
       "NA19468                            0.0                          0.0   \n",
       "\n",
       "           GAAGGAAGGGAGGGAGGGAGGGAGGGA  AACTTAAAGTATAATAATAAAAAAAAA  \\\n",
       "sample_id                                                             \n",
       "NA19720                            0.0                          0.0   \n",
       "NA19719                            0.0                          0.0   \n",
       "NA19678                            0.0                          0.0   \n",
       "NA19676                            0.0                          0.0   \n",
       "NA19468                            0.0                          0.0   \n",
       "\n",
       "           GGAGTGCAGTGGCACAATCATGGCTCA  CTCCTAATGCTATCCCTCCCCTAGCCC  \\\n",
       "sample_id                                                             \n",
       "NA19720                            0.0                          0.0   \n",
       "NA19719                            0.0                          0.0   \n",
       "NA19678                            0.0                          0.0   \n",
       "NA19676                            0.0                          0.0   \n",
       "NA19468                            0.0                          0.0   \n",
       "\n",
       "           CGTCTCAAAAAAAAAAAAAAAAAGAAA  ATTGTTCAATTCCCATCTATGAGTGAG  \n",
       "sample_id                                                            \n",
       "NA19720                            0.0                          0.0  \n",
       "NA19719                            0.0                          0.0  \n",
       "NA19678                            0.0                          0.0  \n",
       "NA19676                            0.0                          0.0  \n",
       "NA19468                            0.0                          0.0  \n",
       "\n",
       "[5 rows x 32330 columns]"
      ]
     },
     "execution_count": 94,
     "metadata": {},
     "output_type": "execute_result"
    }
   ],
   "source": [
    "X.head()"
   ]
  },
  {
   "cell_type": "code",
   "execution_count": 14,
   "id": "c79ffb98-f01f-4313-9dd4-c74b7da1c91b",
   "metadata": {},
   "outputs": [],
   "source": [
    "X_train, X_test, y_train, y_test = train_test_split(X,y,test_size=0.2, random_state=42,stratify=y)"
   ]
  },
  {
   "cell_type": "code",
   "execution_count": 47,
   "id": "0dcb5dd7-79e6-40f1-bf94-495eb3ef0c3d",
   "metadata": {},
   "outputs": [],
   "source": [
    "X1_train, X1_test, y1_train, y1_test = train_test_split(X1,y1,test_size=0.2, random_state=42)"
   ]
  },
  {
   "cell_type": "code",
   "execution_count": 49,
   "id": "cb86a054-5a2d-4a8e-b2f1-79e638b70c85",
   "metadata": {},
   "outputs": [],
   "source": [
    "from sklearn.ensemble import RandomForestClassifier\n",
    "from sklearn.impute import SimpleImputer\n",
    "from sklearn.metrics import ConfusionMatrixDisplay\n",
    "from sklearn.model_selection import GridSearchCV, cross_val_score, train_test_split"
   ]
  },
  {
   "cell_type": "code",
   "execution_count": 88,
   "id": "c6cdd758-8b32-4e28-b408-738939881e2c",
   "metadata": {},
   "outputs": [
    {
     "name": "stdout",
     "output_type": "stream",
     "text": [
      "Pipeline(steps=[('standardscaler', StandardScaler()),\n",
      "                ('randomforestclassifier',\n",
      "                 RandomForestClassifier(random_state=42))])\n"
     ]
    }
   ],
   "source": [
    "clf = make_pipeline(\n",
    "    StandardScaler(),\n",
    "   RandomForestClassifier(n_estimators=100, random_state=42)\n",
    ")\n",
    "print(clf)"
   ]
  },
  {
   "cell_type": "code",
   "execution_count": 89,
   "id": "97a27403-f733-4f6b-97d8-1966adaaa24e",
   "metadata": {},
   "outputs": [],
   "source": [
    "model =clf.fit(X_train,y_train)"
   ]
  },
  {
   "cell_type": "code",
   "execution_count": 90,
   "id": "882cd482-e800-4733-9e60-8be015cf99b1",
   "metadata": {},
   "outputs": [
    {
     "data": {
      "text/plain": [
       "array(['MXL', 'LWK', 'LWK'], dtype=object)"
      ]
     },
     "execution_count": 90,
     "metadata": {},
     "output_type": "execute_result"
    }
   ],
   "source": [
    "model.predict(X_test)"
   ]
  },
  {
   "cell_type": "code",
   "execution_count": 84,
   "id": "6b0a2564-57d9-4a44-b6c2-78171133b282",
   "metadata": {},
   "outputs": [
    {
     "name": "stdout",
     "output_type": "stream",
     "text": [
      "Training Accuracy: 1.0\n",
      "Test Accuracy: 0.6667\n"
     ]
    }
   ],
   "source": [
    "acc_train = clf.score(X_train,y_train)\n",
    "acc_test = clf.score(X_test,y# Train\n",
    "model.fit(iris.data, iris.target)\n",
    "# Extract single tree\n",
    "estimator = model.estimators_[5]\n",
    "\n",
    "from sklearn.tree import export_graphviz\n",
    "# Export as dot file\n",
    "export_graphviz(estimator, out_file='tree.dot', \n",
    "                feature_names = iris.feature_names,\n",
    "                class_names = iris.target_names,\n",
    "                rounded = True, proportion = False, \n",
    "                precision = 2, filled = True)\n",
    "\n",
    "# Convert to png using system command (requires Graphviz)\n",
    "from subprocess import call\n",
    "call(['dot', '-Tpng', 'tree.dot', '-o', 'tree.png', '-Gdpi=600'])\n",
    "\n",
    "# Display in jupyter notebook\n",
    "from IPython.display import Image\n",
    "Image(filename = 'tree.png')_test)\n",
    "\n",
    "print(\"Training Accuracy:\", round(acc_train, 4))\n",
    "print(\"Test Accuracy:\", round(acc_test, 4))"
   ]
  },
  {
   "cell_type": "code",
   "execution_count": 91,
   "id": "1921e4d4-1661-4b8a-a5f3-3abb06798bfc",
   "metadata": {},
   "outputs": [
    {
     "data": {
      "text/plain": [
       "<AxesSubplot:>"
      ]
     },
     "execution_count": 91,
     "metadata": {},
     "output_type": "execute_result"
    },
    {
     "data": {
      "image/png": "[encoded data removed]",
      "text/plain": [
       "<Figure size 432x288 with 1 Axes>"
      ]
     },
     "metadata": {
      "needs_background": "light"
     },
     "output_type": "display_data"
    }
   ],
   "source": [
    "importances1 = model.named_steps[\"randomforestclassifier\"].feature_importances_\n",
    "\n",
    "\n",
    "# Put importances into a Series\n",
    "feat_imp1 = pd.Series(importances1,index=X_train.columns).sort_values()\n",
    "\n",
    "# Plot series\n",
    "feat_imp1.tail(15).plot(kind=\"barh\")\n"
   ]
  },
  {
   "cell_type": "code",
   "execution_count": 96,
   "id": "7387bc6d-3454-4fc2-9f22-a19d7eca5054",
   "metadata": {},
   "outputs": [
    {
     "data": {
      "text/plain": [
       "array([[-1.66073121, -2.20727491, -0.35667494],\n",
       "       [-0.94160854, -0.51082562, -4.60517019],\n",
       "       [-0.94160854, -0.56211892, -3.21887582]])"
      ]
     },
     "execution_count": 96,
     "metadata": {},
     "output_type": "execute_result"
    }
   ],
   "source": [
    "model.predict_log_proba(X_test)"
   ]
  },
  {
   "cell_type": "code",
   "execution_count": null,
   "id": "e570c335-b2fc-4062-badd-efdc4cfc04b7",
   "metadata": {},
   "outputs": [],
   "source": [
    "# View the classification report for test data and predictions\n",
    "print(classification_report(y_test, y_pred_test))"
   ]
  },
  {
   "cell_type": "code",
   "execution_count": 85,
   "id": "20e30385-f918-42c7-8aa9-df5e62caf71a",
   "metadata": {},
   "outputs": [
    {
     "ename": "AttributeError",
     "evalue": "'Pipeline' object has no attribute 'estimators_'",
     "output_type": "error",
     "traceback": [
      "\u001b[0;31m---------------------------------------------------------------------------\u001b[0m",
      "\u001b[0;31mAttributeError\u001b[0m                            Traceback (most recent call last)",
      "Input \u001b[0;32mIn [85]\u001b[0m, in \u001b[0;36m<cell line: 4>\u001b[0;34m()\u001b[0m\n\u001b[1;32m      1\u001b[0m \u001b[38;5;66;03m# Train\u001b[39;00m\n\u001b[1;32m      2\u001b[0m \u001b[38;5;66;03m#model.fit(iris.data, iris.target)\u001b[39;00m\n\u001b[1;32m      3\u001b[0m \u001b[38;5;66;03m# Extract single tree\u001b[39;00m\n\u001b[0;32m----> 4\u001b[0m estimator \u001b[38;5;241m=\u001b[39m \u001b[43mmodel\u001b[49m\u001b[38;5;241;43m.\u001b[39;49m\u001b[43mestimators_\u001b[49m[\u001b[38;5;241m5\u001b[39m]\n\u001b[1;32m      6\u001b[0m \u001b[38;5;28;01mfrom\u001b[39;00m \u001b[38;5;21;01msklearn\u001b[39;00m\u001b[38;5;21;01m.\u001b[39;00m\u001b[38;5;21;01mtree\u001b[39;00m \u001b[38;5;28;01mimport\u001b[39;00m export_graphviz\n\u001b[1;32m      7\u001b[0m \u001b[38;5;66;03m# Export as dot file\u001b[39;00m\n",
      "\u001b[0;31mAttributeError\u001b[0m: 'Pipeline' object has no attribute 'estimators_'"
     ]
    }
   ],
   "source": [
    "#"
   ]
  },
  {
   "cell_type": "code",
   "execution_count": 66,
   "id": "d3d9e6bf-ba91-401c-91e8-4a4e1a4a2be3",
   "metadata": {},
   "outputs": [
    {
     "data": {
      "text/html": [
       "<style>#sk-container-id-8 {color: black;background-color: white;}#sk-container-id-8 pre{padding: 0;}#sk-container-id-8 div.sk-toggleable {background-color: white;}#sk-container-id-8 label.sk-toggleable__label {cursor: pointer;display: block;width: 100%;margin-bottom: 0;padding: 0.3em;box-sizing: border-box;text-align: center;}#sk-container-id-8 label.sk-toggleable__label-arrow:before {content: \"▸\";float: left;margin-right: 0.25em;color: #696969;}#sk-container-id-8 label.sk-toggleable__label-arrow:hover:before {color: black;}#sk-container-id-8 div.sk-estimator:hover label.sk-toggleable__label-arrow:before {color: black;}#sk-container-id-8 div.sk-toggleable__content {max-height: 0;max-width: 0;overflow: hidden;text-align: left;background-color: #f0f8ff;}#sk-container-id-8 div.sk-toggleable__content pre {margin: 0.2em;color: black;border-radius: 0.25em;background-color: #f0f8ff;}#sk-container-id-8 input.sk-toggleable__control:checked~div.sk-toggleable__content {max-height: 200px;max-width: 100%;overflow: auto;}#sk-container-id-8 input.sk-toggleable__control:checked~label.sk-toggleable__label-arrow:before {content: \"▾\";}#sk-container-id-8 div.sk-estimator input.sk-toggleable__control:checked~label.sk-toggleable__label {background-color: #d4ebff;}#sk-container-id-8 div.sk-label input.sk-toggleable__control:checked~label.sk-toggleable__label {background-color: #d4ebff;}#sk-container-id-8 input.sk-hidden--visually {border: 0;clip: rect(1px 1px 1px 1px);clip: rect(1px, 1px, 1px, 1px);height: 1px;margin: -1px;overflow: hidden;padding: 0;position: absolute;width: 1px;}#sk-container-id-8 div.sk-estimator {font-family: monospace;background-color: #f0f8ff;border: 1px dotted black;border-radius: 0.25em;box-sizing: border-box;margin-bottom: 0.5em;}#sk-container-id-8 div.sk-estimator:hover {background-color: #d4ebff;}#sk-container-id-8 div.sk-parallel-item::after {content: \"\";width: 100%;border-bottom: 1px solid gray;flex-grow: 1;}#sk-container-id-8 div.sk-label:hover label.sk-toggleable__label {background-color: #d4ebff;}#sk-container-id-8 div.sk-serial::before {content: \"\";position: absolute;border-left: 1px solid gray;box-sizing: border-box;top: 0;bottom: 0;left: 50%;z-index: 0;}#sk-container-id-8 div.sk-serial {display: flex;flex-direction: column;align-items: center;background-color: white;padding-right: 0.2em;padding-left: 0.2em;position: relative;}#sk-container-id-8 div.sk-item {position: relative;z-index: 1;}#sk-container-id-8 div.sk-parallel {display: flex;align-items: stretch;justify-content: center;background-color: white;position: relative;}#sk-container-id-8 div.sk-item::before, #sk-container-id-8 div.sk-parallel-item::before {content: \"\";position: absolute;border-left: 1px solid gray;box-sizing: border-box;top: 0;bottom: 0;left: 50%;z-index: -1;}#sk-container-id-8 div.sk-parallel-item {display: flex;flex-direction: column;z-index: 1;position: relative;background-color: white;}#sk-container-id-8 div.sk-parallel-item:first-child::after {align-self: flex-end;width: 50%;}#sk-container-id-8 div.sk-parallel-item:last-child::after {align-self: flex-start;width: 50%;}#sk-container-id-8 div.sk-parallel-item:only-child::after {width: 0;}#sk-container-id-8 div.sk-dashed-wrapped {border: 1px dashed gray;margin: 0 0.4em 0.5em 0.4em;box-sizing: border-box;padding-bottom: 0.4em;background-color: white;}#sk-container-id-8 div.sk-label label {font-family: monospace;font-weight: bold;display: inline-block;line-height: 1.2em;}#sk-container-id-8 div.sk-label-container {text-align: center;}#sk-container-id-8 div.sk-container {/* jupyter's `normalize.less` sets `[hidden] { display: none; }` but bootstrap.min.css set `[hidden] { display: none !important; }` so we also need the `!important` here to be able to override the default hidden behavior on the sphinx rendered scikit-learn.org. See: https://github.com/scikit-learn/scikit-learn/issues/21755 */display: inline-block !important;position: relative;}#sk-container-id-8 div.sk-text-repr-fallback {display: none;}</style><div id=\"sk-container-id-8\" class=\"sk-top-container\"><div class=\"sk-text-repr-fallback\"><pre>Pipeline(steps=[(&#x27;standardscaler&#x27;, StandardScaler()),\n",
       "                (&#x27;randomforestclassifier&#x27;,\n",
       "                 RandomForestClassifier(random_state=42))])</pre><b>In a Jupyter environment, please rerun this cell to show the HTML representation or trust the notebook. <br />On GitHub, the HTML representation is unable to render, please try loading this page with nbviewer.org.</b></div><div class=\"sk-container\" hidden><div class=\"sk-item sk-dashed-wrapped\"><div class=\"sk-label-container\"><div class=\"sk-label sk-toggleable\"><input class=\"sk-toggleable__control sk-hidden--visually\" id=\"sk-estimator-id-23\" type=\"checkbox\" ><label for=\"sk-estimator-id-23\" class=\"sk-toggleable__label sk-toggleable__label-arrow\">Pipeline</label><div class=\"sk-toggleable__content\"><pre>Pipeline(steps=[(&#x27;standardscaler&#x27;, StandardScaler()),\n",
       "                (&#x27;randomforestclassifier&#x27;,\n",
       "                 RandomForestClassifier(random_state=42))])</pre></div></div></div><div class=\"sk-serial\"><div class=\"sk-item\"><div class=\"sk-estimator sk-toggleable\"><input class=\"sk-toggleable__control sk-hidden--visually\" id=\"sk-estimator-id-24\" type=\"checkbox\" ><label for=\"sk-estimator-id-24\" class=\"sk-toggleable__label sk-toggleable__label-arrow\">StandardScaler</label><div class=\"sk-toggleable__content\"><pre>StandardScaler()</pre></div></div></div><div class=\"sk-item\"><div class=\"sk-estimator sk-toggleable\"><input class=\"sk-toggleable__control sk-hidden--visually\" id=\"sk-estimator-id-25\" type=\"checkbox\" ><label for=\"sk-estimator-id-25\" class=\"sk-toggleable__label sk-toggleable__label-arrow\">RandomForestClassifier</label><div class=\"sk-toggleable__content\"><pre>RandomForestClassifier(random_state=42)</pre></div></div></div></div></div></div></div>"
      ],
      "text/plain": [
       "Pipeline(steps=[('standardscaler', StandardScaler()),\n",
       "                ('randomforestclassifier',\n",
       "                 RandomForestClassifier(random_state=42))])"
      ]
     },
     "execution_count": 66,
     "metadata": {},
     "output_type": "execute_result"
    }
   ],
   "source": [
    "clf.fit(X1_train,y1_train)"
   ]
  },
  {
   "cell_type": "code",
   "execution_count": 67,
   "id": "514e42d2-7b7c-4316-9afb-d411b8535329",
   "metadata": {},
   "outputs": [
    {
     "data": {
      "text/plain": [
       "array([3, 0, 3])"
      ]
     },
     "execution_count": 67,
     "metadata": {},
     "output_type": "execute_result"
    }
   ],
   "source": [
    "clf.predict(X1_test)"
   ]
  },
  {
   "cell_type": "code",
   "execution_count": 68,
   "id": "ec32ba94-f68d-4510-83f2-095690761070",
   "metadata": {},
   "outputs": [
    {
     "data": {
      "text/plain": [
       "sample_id\n",
       "NA19467    1\n",
       "NA19719    0\n",
       "HG03838    3\n",
       "Name: code, dtype: int64"
      ]
     },
     "execution_count": 68,
     "metadata": {},
     "output_type": "execute_result"
    }
   ],
   "source": [
    "y1_test"
   ]
  },
  {
   "cell_type": "code",
   "execution_count": 63,
   "id": "1a8caa93-b424-45c9-86e4-6f8791059eb7",
   "metadata": {},
   "outputs": [
    {
     "data": {
      "text/plain": [
       "array(['MXL', 'LWK', 'LWK'], dtype=object)"
      ]
     },
     "execution_count": 63,
     "metadata": {},
     "output_type": "execute_result"
    }
   ],
   "source": [
    "clf.predict(X_test)"
   ]
  },
  {
   "cell_type": "code",
   "execution_count": 69,
   "id": "6c79d900-f395-44c3-9c4e-20a043e08890",
   "metadata": {},
   "outputs": [
    {
     "name": "stdout",
     "output_type": "stream",
     "text": [
      "Training Accuracy: 1.0\n",
      "Test Accuracy: 0.6667\n"
     ]
    }
   ],
   "source": [
    "acc_train = clf.score(X1_train,y1_train)\n",
    "acc_test = clf.score(X1_test,y1_test)\n",
    "\n",
    "print(\"Training Accuracy:\", round(acc_train, 4))\n",
    "print(\"Test Accuracy:\", round(acc_test, 4))"
   ]
  },
  {
   "cell_type": "code",
   "execution_count": 75,
   "id": "34bf60df-9531-44b8-92b9-d0a51fd45c3d",
   "metadata": {},
   "outputs": [
    {
     "data": {
      "text/plain": [
       "<AxesSubplot:>"
      ]
     },
     "execution_count": 75,
     "metadata": {},
     "output_type": "execute_result"
    },
    {
     "data": {
      "image/png": "[encoded data removed]",
      "text/plain": [
       "<Figure size 432x288 with 1 Axes>"
      ]
     },
     "metadata": {
      "needs_background": "light"
     },
     "output_type": "display_data"
    }
   ],
   "source": [
    "importances = clf.named_steps[\"randomforestclassifier\"].feature_importances_\n",
    "\n",
    "\n",
    "# Put importances into a Series\n",
    "feat_imp = pd.Series(importances,index=X1_train.columns).sort_values()\n",
    "\n",
    "# Plot series\n",
    "feat_imp.tail(15).plot(kind=\"barh\")\n"
   ]
  },
  {
   "cell_type": "code",
   "execution_count": 15,
   "id": "56d17f09-2572-43c4-956e-429dea5a612f",
   "metadata": {},
   "outputs": [
    {
     "name": "stdout",
     "output_type": "stream",
     "text": [
      "1.0\n",
      "0.6666666666666666\n"
     ]
    }
   ],
   "source": [
    "from sklearn.metrics import accuracy_score, confusion_matrix\n",
    "  \n",
    "\n",
    "from sklearn.svm import SVC\n",
    "  \n",
    "# Building a Support Vector Machine on train data\n",
    "svc_model = SVC(C= .1, kernel='linear', gamma= 1)\n",
    "svc_model.fit(X_train, y_train)\n",
    "  \n",
    "prediction = svc_model.predict(X_test)\n",
    "# check the accuracy on the training set\n",
    "print(svc_model.score(X_train, y_train))\n",
    "print(svc_model.score(X_test, y_test))"
   ]
  },
  {
   "cell_type": "code",
   "execution_count": 104,
   "id": "2d646351-1ea3-4f03-b79b-1729ea2bc202",
   "metadata": {},
   "outputs": [
    {
     "ename": "AttributeError",
     "evalue": "'SVC' object has no attribute 'coef'",
     "output_type": "error",
     "traceback": [
      "\u001b[0;31m---------------------------------------------------------------------------\u001b[0m",
      "\u001b[0;31mAttributeError\u001b[0m                            Traceback (most recent call last)",
      "Input \u001b[0;32mIn [104]\u001b[0m, in \u001b[0;36m<cell line: 14>\u001b[0;34m()\u001b[0m\n\u001b[1;32m     12\u001b[0m svm \u001b[38;5;241m=\u001b[39m svm\u001b[38;5;241m.\u001b[39mSVC(kernel\u001b[38;5;241m=\u001b[39m\u001b[38;5;124m'\u001b[39m\u001b[38;5;124mlinear\u001b[39m\u001b[38;5;124m'\u001b[39m)\n\u001b[1;32m     13\u001b[0m svm\u001b[38;5;241m.\u001b[39mfit(X_train, y_train)\n\u001b[0;32m---> 14\u001b[0m f_importances(\u001b[43msvm\u001b[49m\u001b[38;5;241;43m.\u001b[39;49m\u001b[43mcoef\u001b[49m, features_names)\n",
      "\u001b[0;31mAttributeError\u001b[0m: 'SVC' object has no attribute 'coef'"
     ]
    }
   ],
   "source": [
    "\n"
   ]
  },
  {
   "cell_type": "code",
   "execution_count": 78,
   "id": "203292a0-3da6-4914-9f84-80a63ace6049",
   "metadata": {},
   "outputs": [
    {
     "ename": "AttributeError",
     "evalue": "'Pipeline' object has no attribute 'estimators_'",
     "output_type": "error",
     "traceback": [
      "\u001b[0;31m---------------------------------------------------------------------------\u001b[0m",
      "\u001b[0;31mAttributeError\u001b[0m                            Traceback (most recent call last)",
      "Input \u001b[0;32mIn [78]\u001b[0m, in \u001b[0;36m<cell line: 3>\u001b[0;34m()\u001b[0m\n\u001b[1;32m      1\u001b[0m \u001b[38;5;28;01mfrom\u001b[39;00m \u001b[38;5;21;01msklearn\u001b[39;00m\u001b[38;5;21;01m.\u001b[39;00m\u001b[38;5;21;01mtree\u001b[39;00m \u001b[38;5;28;01mimport\u001b[39;00m export_graphviz\n\u001b[1;32m      2\u001b[0m \u001b[38;5;66;03m# Export as dot file\u001b[39;00m\n\u001b[0;32m----> 3\u001b[0m estimator \u001b[38;5;241m=\u001b[39m \u001b[43mclf\u001b[49m\u001b[38;5;241;43m.\u001b[39;49m\u001b[43mestimators_\u001b[49m[\u001b[38;5;241m5\u001b[39m]\n\u001b[1;32m      5\u001b[0m export_graphviz(estimator, out_file\u001b[38;5;241m=\u001b[39m\u001b[38;5;124m'\u001b[39m\u001b[38;5;124mtree.dot\u001b[39m\u001b[38;5;124m'\u001b[39m, \n\u001b[1;32m      6\u001b[0m                 feature_names \u001b[38;5;241m=\u001b[39m X1\u001b[38;5;241m.\u001b[39mfeature_names,\n\u001b[1;32m      7\u001b[0m                 class_names \u001b[38;5;241m=\u001b[39m y1\u001b[38;5;241m.\u001b[39mtarget_names,\n\u001b[1;32m      8\u001b[0m                 rounded \u001b[38;5;241m=\u001b[39m \u001b[38;5;28;01mTrue\u001b[39;00m, proportion \u001b[38;5;241m=\u001b[39m \u001b[38;5;28;01mFalse\u001b[39;00m, \n\u001b[1;32m      9\u001b[0m                 precision \u001b[38;5;241m=\u001b[39m \u001b[38;5;241m2\u001b[39m, filled \u001b[38;5;241m=\u001b[39m \u001b[38;5;28;01mTrue\u001b[39;00m)\n\u001b[1;32m     11\u001b[0m \u001b[38;5;66;03m# Convert to png using system command (requires Graphviz)\u001b[39;00m\n",
      "\u001b[0;31mAttributeError\u001b[0m: 'Pipeline' object has no attribute 'estimators_'"
     ]
    }
   ],
   "source": []
  },
  {
   "cell_type": "code",
   "execution_count": 48,
   "id": "c2491f6a-bd67-41a2-8e75-ad1f97c1c77a",
   "metadata": {},
   "outputs": [
    {
     "name": "stdout",
     "output_type": "stream",
     "text": [
      "Training Accuracy Scores: []\n",
      "Validation Accuracy Scores: []\n"
     ]
    }
   ],
   "source": [
    "# Create empty lists for training and validation accuracy scores\n",
    "training_acc1 = []\n",
    "validation_acc1 = []\n",
    "\n",
    "for d in depth_hyperparams:\n",
    "    # Create model with `max_depth` of `d`\n",
    "    test_model =  make_pipeline(\n",
    "    StandardScaler(),DecisionTreeClassifier(max_depth=d, random_state=42))\n",
    "    # Fit model to training data\n",
    "    test_model.fit(X1_train, y1_train)\n",
    "    # Calculate training accuracy score and append to `training_acc`\n",
    "    training_acc.append(test_model.score(X1_train, y1_train))\n",
    "    # Calculate validation accuracy score and append to `training_acc`\n",
    "    validation_acc.append(test_model.score(X1_test,y1_test))\n",
    "\n",
    "print(\"Training Accuracy Scores:\", training_acc1[:3])\n",
    "print(\"Validation Accuracy Scores:\", validation_acc1[:3])"
   ]
  },
  {
   "cell_type": "code",
   "execution_count": 23,
   "id": "7bbba2de-4b0c-4971-b10d-7ce6a3193466",
   "metadata": {},
   "outputs": [
    {
     "data": {
      "text/html": [
       "<style>#sk-container-id-4 {color: black;background-color: white;}#sk-container-id-4 pre{padding: 0;}#sk-container-id-4 div.sk-toggleable {background-color: white;}#sk-container-id-4 label.sk-toggleable__label {cursor: pointer;display: block;width: 100%;margin-bottom: 0;padding: 0.3em;box-sizing: border-box;text-align: center;}#sk-container-id-4 label.sk-toggleable__label-arrow:before {content: \"▸\";float: left;margin-right: 0.25em;color: #696969;}#sk-container-id-4 label.sk-toggleable__label-arrow:hover:before {color: black;}#sk-container-id-4 div.sk-estimator:hover label.sk-toggleable__label-arrow:before {color: black;}#sk-container-id-4 div.sk-toggleable__content {max-height: 0;max-width: 0;overflow: hidden;text-align: left;background-color: #f0f8ff;}#sk-container-id-4 div.sk-toggleable__content pre {margin: 0.2em;color: black;border-radius: 0.25em;background-color: #f0f8ff;}#sk-container-id-4 input.sk-toggleable__control:checked~div.sk-toggleable__content {max-height: 200px;max-width: 100%;overflow: auto;}#sk-container-id-4 input.sk-toggleable__control:checked~label.sk-toggleable__label-arrow:before {content: \"▾\";}#sk-container-id-4 div.sk-estimator input.sk-toggleable__control:checked~label.sk-toggleable__label {background-color: #d4ebff;}#sk-container-id-4 div.sk-label input.sk-toggleable__control:checked~label.sk-toggleable__label {background-color: #d4ebff;}#sk-container-id-4 input.sk-hidden--visually {border: 0;clip: rect(1px 1px 1px 1px);clip: rect(1px, 1px, 1px, 1px);height: 1px;margin: -1px;overflow: hidden;padding: 0;position: absolute;width: 1px;}#sk-container-id-4 div.sk-estimator {font-family: monospace;background-color: #f0f8ff;border: 1px dotted black;border-radius: 0.25em;box-sizing: border-box;margin-bottom: 0.5em;}#sk-container-id-4 div.sk-estimator:hover {background-color: #d4ebff;}#sk-container-id-4 div.sk-parallel-item::after {content: \"\";width: 100%;border-bottom: 1px solid gray;flex-grow: 1;}#sk-container-id-4 div.sk-label:hover label.sk-toggleable__label {background-color: #d4ebff;}#sk-container-id-4 div.sk-serial::before {content: \"\";position: absolute;border-left: 1px solid gray;box-sizing: border-box;top: 0;bottom: 0;left: 50%;z-index: 0;}#sk-container-id-4 div.sk-serial {display: flex;flex-direction: column;align-items: center;background-color: white;padding-right: 0.2em;padding-left: 0.2em;position: relative;}#sk-container-id-4 div.sk-item {position: relative;z-index: 1;}#sk-container-id-4 div.sk-parallel {display: flex;align-items: stretch;justify-content: center;background-color: white;position: relative;}#sk-container-id-4 div.sk-item::before, #sk-container-id-4 div.sk-parallel-item::before {content: \"\";position: absolute;border-left: 1px solid gray;box-sizing: border-box;top: 0;bottom: 0;left: 50%;z-index: -1;}#sk-container-id-4 div.sk-parallel-item {display: flex;flex-direction: column;z-index: 1;position: relative;background-color: white;}#sk-container-id-4 div.sk-parallel-item:first-child::after {align-self: flex-end;width: 50%;}#sk-container-id-4 div.sk-parallel-item:last-child::after {align-self: flex-start;width: 50%;}#sk-container-id-4 div.sk-parallel-item:only-child::after {width: 0;}#sk-container-id-4 div.sk-dashed-wrapped {border: 1px dashed gray;margin: 0 0.4em 0.5em 0.4em;box-sizing: border-box;padding-bottom: 0.4em;background-color: white;}#sk-container-id-4 div.sk-label label {font-family: monospace;font-weight: bold;display: inline-block;line-height: 1.2em;}#sk-container-id-4 div.sk-label-container {text-align: center;}#sk-container-id-4 div.sk-container {/* jupyter's `normalize.less` sets `[hidden] { display: none; }` but bootstrap.min.css set `[hidden] { display: none !important; }` so we also need the `!important` here to be able to override the default hidden behavior on the sphinx rendered scikit-learn.org. See: https://github.com/scikit-learn/scikit-learn/issues/21755 */display: inline-block !important;position: relative;}#sk-container-id-4 div.sk-text-repr-fallback {display: none;}</style><div id=\"sk-container-id-4\" class=\"sk-top-container\"><div class=\"sk-text-repr-fallback\"><pre>Pipeline(steps=[(&#x27;standardscaler&#x27;, StandardScaler()),\n",
       "                (&#x27;decisiontreeclassifier&#x27;,\n",
       "                 DecisionTreeClassifier(random_state=42))])</pre><b>In a Jupyter environment, please rerun this cell to show the HTML representation or trust the notebook. <br />On GitHub, the HTML representation is unable to render, please try loading this page with nbviewer.org.</b></div><div class=\"sk-container\" hidden><div class=\"sk-item sk-dashed-wrapped\"><div class=\"sk-label-container\"><div class=\"sk-label sk-toggleable\"><input class=\"sk-toggleable__control sk-hidden--visually\" id=\"sk-estimator-id-11\" type=\"checkbox\" ><label for=\"sk-estimator-id-11\" class=\"sk-toggleable__label sk-toggleable__label-arrow\">Pipeline</label><div class=\"sk-toggleable__content\"><pre>Pipeline(steps=[(&#x27;standardscaler&#x27;, StandardScaler()),\n",
       "                (&#x27;decisiontreeclassifier&#x27;,\n",
       "                 DecisionTreeClassifier(random_state=42))])</pre></div></div></div><div class=\"sk-serial\"><div class=\"sk-item\"><div class=\"sk-estimator sk-toggleable\"><input class=\"sk-toggleable__control sk-hidden--visually\" id=\"sk-estimator-id-12\" type=\"checkbox\" ><label for=\"sk-estimator-id-12\" class=\"sk-toggleable__label sk-toggleable__label-arrow\">StandardScaler</label><div class=\"sk-toggleable__content\"><pre>StandardScaler()</pre></div></div></div><div class=\"sk-item\"><div class=\"sk-estimator sk-toggleable\"><input class=\"sk-toggleable__control sk-hidden--visually\" id=\"sk-estimator-id-13\" type=\"checkbox\" ><label for=\"sk-estimator-id-13\" class=\"sk-toggleable__label sk-toggleable__label-arrow\">DecisionTreeClassifier</label><div class=\"sk-toggleable__content\"><pre>DecisionTreeClassifier(random_state=42)</pre></div></div></div></div></div></div></div>"
      ],
      "text/plain": [
       "Pipeline(steps=[('standardscaler', StandardScaler()),\n",
       "                ('decisiontreeclassifier',\n",
       "                 DecisionTreeClassifier(random_state=42))])"
      ]
     },
     "execution_count": 23,
     "metadata": {},
     "output_type": "execute_result"
    }
   ],
   "source": [
    "# Build Model\n",
    "model = make_pipeline(StandardScaler(),DecisionTreeClassifier(random_state=42))\n",
    "# Fit model to training data\n",
    "model.fit(X_train,y_train)"
   ]
  },
  {
   "cell_type": "code",
   "execution_count": 24,
   "id": "d0f3ab1f-3641-4594-9eba-012652807fb7",
   "metadata": {},
   "outputs": [
    {
     "name": "stdout",
     "output_type": "stream",
     "text": [
      "Training Accuracy: 1.0\n",
      "Test Accuracy: 0.6667\n"
     ]
    }
   ],
   "source": [
    "acc_train = model.score(X_train,y_train)\n",
    "acc_test =model.score(X_test,y_test)\n",
    "print(\"Training Accuracy:\", round(acc_train, 4))\n",
    "print(\"Test Accuracy:\", round(acc_test, 4))"
   ]
  },
  {
   "cell_type": "code",
   "execution_count": null,
   "id": "c0397fb2-e064-4ad4-9266-7101e24dc562",
   "metadata": {},
   "outputs": [],
   "source": [
    "model.p"
   ]
  },
  {
   "cell_type": "code",
   "execution_count": 11,
   "id": "07f50d63-380b-4ec8-9220-172382930f74",
   "metadata": {},
   "outputs": [
    {
     "data": {
      "text/plain": [
       "array([[0., 1., 0.],\n",
       "       [0., 1., 0.],\n",
       "       [1., 0., 0.]])"
      ]
     },
     "execution_count": 11,
     "metadata": {},
     "output_type": "execute_result"
    }
   ],
   "source": [
    "model.predict_proba(X_test)"
   ]
  },
  {
   "cell_type": "code",
   "execution_count": 100,
   "id": "3c94c982-74c0-4dff-9bbe-ada9b0776082",
   "metadata": {},
   "outputs": [
    {
     "data": {
      "text/plain": [
       "sample_id\n",
       "HG00235    2\n",
       "NA19454    1\n",
       "NA19678    0\n",
       "Name: Population, dtype: int64"
      ]
     },
     "execution_count": 100,
     "metadata": {},
     "output_type": "execute_result"
    }
   ],
   "source": [
    "y_test"
   ]
  },
  {
   "cell_type": "code",
   "execution_count": 101,
   "id": "9fb9ea23-5516-4666-8712-b535fd471eb2",
   "metadata": {},
   "outputs": [
    {
     "data": {
      "text/plain": [
       "array([1, 1, 0])"
      ]
     },
     "execution_count": 101,
     "metadata": {},
     "output_type": "execute_result"
    }
   ],
   "source": [
    "model.predict(X_test)"
   ]
  },
  {
   "cell_type": "code",
   "execution_count": 12,
   "id": "8d192446-cd50-4104-b812-98627d7acdb8",
   "metadata": {},
   "outputs": [
    {
     "data": {
      "text/plain": [
       "<AxesSubplot:>"
      ]
     },
     "execution_count": 12,
     "metadata": {},
     "output_type": "execute_result"
    },
    {
     "data": {
      "image/png": "[encoded data removed]",
      "text/plain": [
       "<Figure size 432x288 with 1 Axes>"
      ]
     },
     "metadata": {
      "needs_background": "light"
     },
     "output_type": "display_data"
    }
   ],
   "source": [
    "# Get importances\n",
    "importances = model.named_steps[\"decisiontreeclassifier\"].feature_importances_\n",
    "\n",
    "\n",
    "# Put importances into a Series\n",
    "feat_imp = pd.Series(importances,index=X_train.columns).sort_values()\n",
    "\n",
    "# Plot series\n",
    "feat_imp.tail(15).plot(kind=\"barh\")\n"
   ]
  },
  {
   "cell_type": "code",
   "execution_count": 25,
   "id": "8588f40f-836f-4f3b-991f-201ede9c6962",
   "metadata": {},
   "outputs": [
    {
     "name": "stdout",
     "output_type": "stream",
     "text": [
      "Tree Depth: 2\n"
     ]
    }
   ],
   "source": [
    "tree_depth = model.named_steps[\"decisiontreeclassifier\"].get_depth()\n",
    "print(\"Tree Depth:\", tree_depth)\n",
    "depth_hyperparams = range(1,50,2)"
   ]
  },
  {
   "cell_type": "code",
   "execution_count": 28,
   "id": "da3491a4-a863-43dd-811d-566bd8497fc1",
   "metadata": {},
   "outputs": [
    {
     "name": "stdout",
     "output_type": "stream",
     "text": [
      "Training Accuracy Scores: [0.6666666666666666, 1.0, 1.0]\n",
      "Validation Accuracy Scores: [0.6666666666666666, 0.6666666666666666, 0.6666666666666666]\n"
     ]
    }
   ],
   "source": [
    "# Create empty lists for training and validation accuracy scores\n",
    "training_acc = []\n",
    "validation_acc = []\n",
    "\n",
    "for d in depth_hyperparams:\n",
    "    # Create model with `max_depth` of `d`\n",
    "    test_model =  make_pipeline(\n",
    "    StandardScaler(),DecisionTreeClassifier(max_depth=d, random_state=42))\n",
    "    # Fit model to training data\n",
    "    test_model.fit(X_train, y_train)\n",
    "    # Calculate training accuracy score and append to `training_acc`\n",
    "    training_acc.append(test_model.score(X_train, y_train))\n",
    "    # Calculate validation accuracy score and append to `training_acc`\n",
    "    validation_acc.append(test_model.score(X_test,y_test))\n",
    "\n",
    "print(\"Training Accuracy Scores:\", training_acc[:3])\n",
    "print(\"Validation Accuracy Scores:\", validation_acc[:3])"
   ]
  },
  {
   "cell_type": "code",
   "execution_count": 30,
   "id": "19de11e5-26b2-45de-a9b3-677bde86dd70",
   "metadata": {},
   "outputs": [],
   "source": [
    "import matplotlib.pyplot as plt"
   ]
  },
  {
   "cell_type": "code",
   "execution_count": 31,
   "id": "277cdb8b-9c49-49a6-af28-d11120d3da43",
   "metadata": {},
   "outputs": [
    {
     "data": {
      "text/plain": [
       "[<matplotlib.lines.Line2D at 0x7f38b818d1e0>]"
      ]
     },
     "execution_count": 31,
     "metadata": {},
     "output_type": "execute_result"
    },
    {
     "data": {
      "image/png": "[encoded data removed]",
      "text/plain": [
       "<Figure size 432x288 with 1 Axes>"
      ]
     },
     "metadata": {
      "needs_background": "light"
     },
     "output_type": "display_data"
    }
   ],
   "source": [
    "# Plot `depth_hyperparams`, `training_acc`\n",
    "plt.plot(depth_hyperparams,training_acc,label=\"training\")\n",
    "plt.plot(depth_hyperparams,validation_acc,label=\"validation\")"
   ]
  },
  {
   "cell_type": "code",
   "execution_count": 32,
   "id": "5c24909d-1a28-439a-97e6-25833bc9671c",
   "metadata": {},
   "outputs": [
    {
     "data": {
      "text/plain": [
       "<matplotlib.legend.Legend at 0x7f38ba06d3f0>"
      ]
     },
     "execution_count": 32,
     "metadata": {},
     "output_type": "execute_result"
    },
    {
     "data": {
      "image/png": "[encoded data removed]",
      "text/plain": [
       "<Figure size 432x288 with 1 Axes>"
      ]
     },
     "metadata": {
      "needs_background": "light"
     },
     "output_type": "display_data"
    }
   ],
   "source": [
    "plt.plot(depth_hyperparams,training_acc,label=\"training\")\n",
    "plt.plot(depth_hyperparams,validation_acc,label=\"validation\")\n",
    "plt.xlabel(\"Max Depth\")\n",
    "plt.ylabel(\"Accuracy Score\")\n",
    "plt.title(\"Validation Curve, Decision Tree Model\")\n",
    "plt.legend()"
   ]
  },
  {
   "cell_type": "code",
   "execution_count": 33,
   "id": "1fa5803a-216f-4dd9-9d60-9df727a803da",
   "metadata": {},
   "outputs": [
    {
     "name": "stdout",
     "output_type": "stream",
     "text": [
      "Test Accuracy: 0.67\n"
     ]
    }
   ],
   "source": [
    "# acc_train = accuracy_score(y_train,model.predict(X_train))\n",
    "# acc_val = model.score(X_val,y_val)\n",
    "test_acc =  model.score(X_test,y_test)\n",
    "print(\"Test Accuracy:\", round(test_acc, 2))"
   ]
  },
  {
   "cell_type": "code",
   "execution_count": 34,
   "id": "c7a6db49-7328-48ff-9b7c-933d4319fbe5",
   "metadata": {},
   "outputs": [
    {
     "data": {
      "image/png": "[encoded data removed]",
      "text/plain": [
       "<Figure size 1800x864 with 1 Axes>"
      ]
     },
     "metadata": {
      "needs_background": "light"
     },
     "output_type": "display_data"
    }
   ],
   "source": [
    "# Create larger figure\n",
    "fig, ax = plt.subplots(figsize=(25, 12))\n",
    "# Plot tree\n",
    "plot_tree(\n",
    "    decision_tree= model.named_steps[\"decisiontreeclassifier\"],\n",
    "    feature_names=X_train.columns,\n",
    "    filled=True,  # Color leaf with class\n",
    "    rounded=True,  # Round leaf edges\n",
    "    proportion=True,  # Display proportion of classes in leaf\n",
    "    max_depth=3,  # Only display first 3 levels\n",
    "    fontsize=12,  # Enlarge font\n",
    "    ax=ax,  # Place in figure axis\n",
    ");"
   ]
  },
  {
   "cell_type": "code",
   "execution_count": 107,
   "id": "5e9699f8-5580-42b4-8c4b-05ab9a1e7f22",
   "metadata": {},
   "outputs": [],
   "source": [
    "# Save your model as `\"model-5-2.pkl\"`\n",
    "with open(\"ANCmodel.pkl\",\"wb\") as f:\n",
    "    pickle.dump(model,f)"
   ]
  },
  {
   "cell_type": "code",
   "execution_count": 52,
   "id": "958daf86-4f81-406a-a4d5-0d4d24714841",
   "metadata": {},
   "outputs": [],
   "source": [
    "import pickle"
   ]
  },
  {
   "cell_type": "code",
   "execution_count": 108,
   "id": "da61dc54-3872-44f5-866c-06cdc93dec53",
   "metadata": {},
   "outputs": [
    {
     "name": "stdout",
     "output_type": "stream",
     "text": [
      "Pipeline(steps=[('standardscaler', StandardScaler()),\n",
      "                ('decisiontreeclassifier',\n",
      "                 DecisionTreeClassifier(max_depth=6, random_state=42))])\n"
     ]
    }
   ],
   "source": [
    "# Load `\"model-5-2.pkl\"`\n",
    "with open(\"ANCmodel.pkl\",\"rb\") as f:\n",
    "    loaded_model=pickle.load(f)\n",
    "print(loaded_model)"
   ]
  },
  {
   "cell_type": "code",
   "execution_count": 117,
   "id": "efa8485a-24ee-474e-95e3-90f52b360ef3",
   "metadata": {},
   "outputs": [
    {
     "data": {
      "text/plain": [
       "array([1, 1, 0])"
      ]
     },
     "execution_count": 117,
     "metadata": {},
     "output_type": "execute_result"
    }
   ],
   "source": [
    "loaded_model.predict(X_test)"
   ]
  },
  {
   "cell_type": "code",
   "execution_count": 118,
   "id": "f31ea018-49a2-4bfd-b3da-3f37499a0d8c",
   "metadata": {},
   "outputs": [
    {
     "data": {
      "text/plain": [
       "array([[0., 1., 0.],\n",
       "       [0., 1., 0.],\n",
       "       [1., 0., 0.]])"
      ]
     },
     "execution_count": 118,
     "metadata": {},
     "output_type": "execute_result"
    }
   ],
   "source": [
    "loaded_model.predict_proba(X_test)"
   ]
  },
  {
   "cell_type": "code",
   "execution_count": 119,
   "id": "72ddc488-db47-4cc5-824a-f09d412854a2",
   "metadata": {},
   "outputs": [
    {
     "data": {
      "text/plain": [
       "sample_id\n",
       "HG00235    2\n",
       "NA19454    1\n",
       "NA19678    0\n",
       "Name: Population, dtype: int64"
      ]
     },
     "execution_count": 119,
     "metadata": {},
     "output_type": "execute_result"
    }
   ],
   "source": [
    "y_test"
   ]
  },
  {
   "cell_type": "code",
   "execution_count": 120,
   "id": "08282124-d472-4b79-99eb-3b4b99995d64",
   "metadata": {},
   "outputs": [
    {
     "data": {
      "text/plain": [
       "{'MXL': 0, 'LWK': 1, 'GBR': 2, 'STU': 3}"
      ]
     },
     "execution_count": 120,
     "metadata": {},
     "output_type": "execute_result"
    }
   ],
   "source": [
    "country"
   ]
  },
  {
   "cell_type": "code",
   "execution_count": 121,
   "id": "87739f29-c50a-4da6-a06d-15321712c662",
   "metadata": {},
   "outputs": [
    {
     "data": {
      "text/plain": [
       "array([0, 1, 2])"
      ]
     },
     "execution_count": 121,
     "metadata": {},
     "output_type": "execute_result"
    }
   ],
   "source": [
    "y.unique()"
   ]
  },
  {
   "cell_type": "code",
   "execution_count": null,
   "id": "939842cc-56f0-4c8c-9805-0acb768413e6",
   "metadata": {},
   "outputs": [],
   "source": []
  },
  {
   "cell_type": "code",
   "execution_count": 58,
   "id": "648865a2-153f-43f4-a1a8-9d41d4e191b8",
   "metadata": {},
   "outputs": [
    {
     "name": "stdout",
     "output_type": "stream",
     "text": [
      "1.0\n",
      "0.6666666666666666\n"
     ]
    }
   ],
   "source": [
    "from sklearn.metrics import accuracy_score, confusion_matrix\n",
    "  \n",
    "\n",
    "from sklearn.svm import SVC\n",
    "  \n",
    "# Building a Support Vector Machine on train data\n",
    "svc_model = SVC(C= .1, kernel='linear', gamma= 1)\n",
    "svc_model.fit(X_train, y_train)\n",
    "  \n",
    "prediction = svc_model.predict(X_test)\n",
    "# check the accuracy on the training set\n",
    "print(svc_model.score(X_train, y_train))\n",
    "print(svc_model.score(X_test, y_test))"
   ]
  },
  {
   "cell_type": "code",
   "execution_count": 16,
   "id": "8c67cb7f-d76f-4a84-b0a5-d3be0e3c4e76",
   "metadata": {},
   "outputs": [
    {
     "data": {
      "text/html": [
       "<style>#sk-container-id-1 {color: black;background-color: white;}#sk-container-id-1 pre{padding: 0;}#sk-container-id-1 div.sk-toggleable {background-color: white;}#sk-container-id-1 label.sk-toggleable__label {cursor: pointer;display: block;width: 100%;margin-bottom: 0;padding: 0.3em;box-sizing: border-box;text-align: center;}#sk-container-id-1 label.sk-toggleable__label-arrow:before {content: \"▸\";float: left;margin-right: 0.25em;color: #696969;}#sk-container-id-1 label.sk-toggleable__label-arrow:hover:before {color: black;}#sk-container-id-1 div.sk-estimator:hover label.sk-toggleable__label-arrow:before {color: black;}#sk-container-id-1 div.sk-toggleable__content {max-height: 0;max-width: 0;overflow: hidden;text-align: left;background-color: #f0f8ff;}#sk-container-id-1 div.sk-toggleable__content pre {margin: 0.2em;color: black;border-radius: 0.25em;background-color: #f0f8ff;}#sk-container-id-1 input.sk-toggleable__control:checked~div.sk-toggleable__content {max-height: 200px;max-width: 100%;overflow: auto;}#sk-container-id-1 input.sk-toggleable__control:checked~label.sk-toggleable__label-arrow:before {content: \"▾\";}#sk-container-id-1 div.sk-estimator input.sk-toggleable__control:checked~label.sk-toggleable__label {background-color: #d4ebff;}#sk-container-id-1 div.sk-label input.sk-toggleable__control:checked~label.sk-toggleable__label {background-color: #d4ebff;}#sk-container-id-1 input.sk-hidden--visually {border: 0;clip: rect(1px 1px 1px 1px);clip: rect(1px, 1px, 1px, 1px);height: 1px;margin: -1px;overflow: hidden;padding: 0;position: absolute;width: 1px;}#sk-container-id-1 div.sk-estimator {font-family: monospace;background-color: #f0f8ff;border: 1px dotted black;border-radius: 0.25em;box-sizing: border-box;margin-bottom: 0.5em;}#sk-container-id-1 div.sk-estimator:hover {background-color: #d4ebff;}#sk-container-id-1 div.sk-parallel-item::after {content: \"\";width: 100%;border-bottom: 1px solid gray;flex-grow: 1;}#sk-container-id-1 div.sk-label:hover label.sk-toggleable__label {background-color: #d4ebff;}#sk-container-id-1 div.sk-serial::before {content: \"\";position: absolute;border-left: 1px solid gray;box-sizing: border-box;top: 0;bottom: 0;left: 50%;z-index: 0;}#sk-container-id-1 div.sk-serial {display: flex;flex-direction: column;align-items: center;background-color: white;padding-right: 0.2em;padding-left: 0.2em;position: relative;}#sk-container-id-1 div.sk-item {position: relative;z-index: 1;}#sk-container-id-1 div.sk-parallel {display: flex;align-items: stretch;justify-content: center;background-color: white;position: relative;}#sk-container-id-1 div.sk-item::before, #sk-container-id-1 div.sk-parallel-item::before {content: \"\";position: absolute;border-left: 1px solid gray;box-sizing: border-box;top: 0;bottom: 0;left: 50%;z-index: -1;}#sk-container-id-1 div.sk-parallel-item {display: flex;flex-direction: column;z-index: 1;position: relative;background-color: white;}#sk-container-id-1 div.sk-parallel-item:first-child::after {align-self: flex-end;width: 50%;}#sk-container-id-1 div.sk-parallel-item:last-child::after {align-self: flex-start;width: 50%;}#sk-container-id-1 div.sk-parallel-item:only-child::after {width: 0;}#sk-container-id-1 div.sk-dashed-wrapped {border: 1px dashed gray;margin: 0 0.4em 0.5em 0.4em;box-sizing: border-box;padding-bottom: 0.4em;background-color: white;}#sk-container-id-1 div.sk-label label {font-family: monospace;font-weight: bold;display: inline-block;line-height: 1.2em;}#sk-container-id-1 div.sk-label-container {text-align: center;}#sk-container-id-1 div.sk-container {/* jupyter's `normalize.less` sets `[hidden] { display: none; }` but bootstrap.min.css set `[hidden] { display: none !important; }` so we also need the `!important` here to be able to override the default hidden behavior on the sphinx rendered scikit-learn.org. See: https://github.com/scikit-learn/scikit-learn/issues/21755 */display: inline-block !important;position: relative;}#sk-container-id-1 div.sk-text-repr-fallback {display: none;}</style><div id=\"sk-container-id-1\" class=\"sk-top-container\"><div class=\"sk-text-repr-fallback\"><pre>SVC(C=0.1, gamma=1, kernel=&#x27;linear&#x27;)</pre><b>In a Jupyter environment, please rerun this cell to show the HTML representation or trust the notebook. <br />On GitHub, the HTML representation is unable to render, please try loading this page with nbviewer.org.</b></div><div class=\"sk-container\" hidden><div class=\"sk-item\"><div class=\"sk-estimator sk-toggleable\"><input class=\"sk-toggleable__control sk-hidden--visually\" id=\"sk-estimator-id-1\" type=\"checkbox\" checked><label for=\"sk-estimator-id-1\" class=\"sk-toggleable__label sk-toggleable__label-arrow\">SVC</label><div class=\"sk-toggleable__content\"><pre>SVC(C=0.1, gamma=1, kernel=&#x27;linear&#x27;)</pre></div></div></div></div></div>"
      ],
      "text/plain": [
       "SVC(C=0.1, gamma=1, kernel='linear')"
      ]
     },
     "execution_count": 16,
     "metadata": {},
     "output_type": "execute_result"
    }
   ],
   "source": [
    "svc_model "
   ]
  },
  {
   "cell_type": "code",
   "execution_count": 114,
   "id": "200cd496-08d9-4243-ad96-0e820b15a893",
   "metadata": {},
   "outputs": [
    {
     "ename": "AttributeError",
     "evalue": "'numpy.ndarray' object has no attribute 'score'",
     "output_type": "error",
     "traceback": [
      "\u001b[0;31m---------------------------------------------------------------------------\u001b[0m",
      "\u001b[0;31mAttributeError\u001b[0m                            Traceback (most recent call last)",
      "Input \u001b[0;32mIn [114]\u001b[0m, in \u001b[0;36m<cell line: 1>\u001b[0;34m()\u001b[0m\n\u001b[0;32m----> 1\u001b[0m \u001b[43mprediction\u001b[49m\u001b[38;5;241;43m.\u001b[39;49m\u001b[43mscore\u001b[49m(X_test)\n",
      "\u001b[0;31mAttributeError\u001b[0m: 'numpy.ndarray' object has no attribute 'score'"
     ]
    }
   ],
   "source": [
    "prediction.score(X_test)"
   ]
  },
  {
   "cell_type": "code",
   "execution_count": 64,
   "id": "d1a8a3c1-1567-4d4a-8016-0e75b10c7c90",
   "metadata": {},
   "outputs": [
    {
     "name": "stdout",
     "output_type": "stream",
     "text": [
      "Confusion Matrix:\n",
      " [[0 0 0]\n",
      " [1 1 0]\n",
      " [0 0 1]]\n"
     ]
    }
   ],
   "source": [
    "print(\"Confusion Matrix:\\n\",confusion_matrix(prediction,y_test))"
   ]
  },
  {
   "cell_type": "code",
   "execution_count": 65,
   "id": "509a7658-969e-4124-819d-3c500de3fd3a",
   "metadata": {},
   "outputs": [
    {
     "name": "stdout",
     "output_type": "stream",
     "text": [
      "0.8888888888888888\n",
      "0.6666666666666666\n"
     ]
    }
   ],
   "source": [
    "svc_model = SVC(kernel='sigmoid')\n",
    "svc_model.fit(X_train, y_train)\n",
    "  \n",
    "prediction = svc_model.predict(X_test)\n",
    "  \n",
    "print(svc_model.score(X_train, y_train))\n",
    "print(svc_model.score(X_test, y_test))"
   ]
  },
  {
   "cell_type": "code",
   "execution_count": 66,
   "id": "6f49b49a-78c7-479b-b0cf-465278723a3f",
   "metadata": {},
   "outputs": [
    {
     "name": "stdout",
     "output_type": "stream",
     "text": [
      "Confusion Matrix:\n",
      " [[0 0 0]\n",
      " [1 1 0]\n",
      " [0 0 1]]\n"
     ]
    }
   ],
   "source": [
    "print(\"Confusion Matrix:\\n\",confusion_matrix(prediction,y_test))"
   ]
  },
  {
   "cell_type": "code",
   "execution_count": 19,
   "id": "844343e3-8792-45cf-a58a-2d790bdf191a",
   "metadata": {},
   "outputs": [
    {
     "data": {
      "text/plain": [
       "array([[ 1.95627844e-05, -1.39244934e-06, -4.56187566e-08, ...,\n",
       "         0.00000000e+00,  0.00000000e+00,  0.00000000e+00],\n",
       "       [-2.26089184e-05, -1.38014076e-06, -7.60546720e-08, ...,\n",
       "         0.00000000e+00, -8.89917576e-06, -8.89028547e-06],\n",
       "       [-1.24026775e-04,  3.87745317e-07, -2.91978120e-07, ...,\n",
       "         0.00000000e+00, -8.05431227e-05, -8.04626601e-05]])"
      ]
     },
     "execution_count": 19,
     "metadata": {},
     "output_type": "execute_result"
    }
   ],
   "source": [
    "importances = svc_model.coef_\n",
    "\n",
    "importances\n",
    "# Put importances into a Series\n",
    "# feat_imp = pd.Series(importances,index=X_train.columns).sort_values()\n",
    "\n",
    "# # Plot series\n",
    "# feat_imp.tail(15).plot(kind=\"barh\")\n",
    "# plt.xlabel(\"Gini Importance\")\n",
    "# plt.ylabel(\"Feature\")\n",
    "# plt.title(\"Top Ten Feature Importance\")\n",
    "# plt.savefig(\"feature_importance.png\",dpi=100);"
   ]
  },
  {
   "cell_type": "code",
   "execution_count": 67,
   "id": "577ad60d-2054-42e6-9984-887a3a54ed52",
   "metadata": {},
   "outputs": [
    {
     "data": {
      "text/html": [
       "<style>#sk-container-id-5 {color: black;background-color: white;}#sk-container-id-5 pre{padding: 0;}#sk-container-id-5 div.sk-toggleable {background-color: white;}#sk-container-id-5 label.sk-toggleable__label {cursor: pointer;display: block;width: 100%;margin-bottom: 0;padding: 0.3em;box-sizing: border-box;text-align: center;}#sk-container-id-5 label.sk-toggleable__label-arrow:before {content: \"▸\";float: left;margin-right: 0.25em;color: #696969;}#sk-container-id-5 label.sk-toggleable__label-arrow:hover:before {color: black;}#sk-container-id-5 div.sk-estimator:hover label.sk-toggleable__label-arrow:before {color: black;}#sk-container-id-5 div.sk-toggleable__content {max-height: 0;max-width: 0;overflow: hidden;text-align: left;background-color: #f0f8ff;}#sk-container-id-5 div.sk-toggleable__content pre {margin: 0.2em;color: black;border-radius: 0.25em;background-color: #f0f8ff;}#sk-container-id-5 input.sk-toggleable__control:checked~div.sk-toggleable__content {max-height: 200px;max-width: 100%;overflow: auto;}#sk-container-id-5 input.sk-toggleable__control:checked~label.sk-toggleable__label-arrow:before {content: \"▾\";}#sk-container-id-5 div.sk-estimator input.sk-toggleable__control:checked~label.sk-toggleable__label {background-color: #d4ebff;}#sk-container-id-5 div.sk-label input.sk-toggleable__control:checked~label.sk-toggleable__label {background-color: #d4ebff;}#sk-container-id-5 input.sk-hidden--visually {border: 0;clip: rect(1px 1px 1px 1px);clip: rect(1px, 1px, 1px, 1px);height: 1px;margin: -1px;overflow: hidden;padding: 0;position: absolute;width: 1px;}#sk-container-id-5 div.sk-estimator {font-family: monospace;background-color: #f0f8ff;border: 1px dotted black;border-radius: 0.25em;box-sizing: border-box;margin-bottom: 0.5em;}#sk-container-id-5 div.sk-estimator:hover {background-color: #d4ebff;}#sk-container-id-5 div.sk-parallel-item::after {content: \"\";width: 100%;border-bottom: 1px solid gray;flex-grow: 1;}#sk-container-id-5 div.sk-label:hover label.sk-toggleable__label {background-color: #d4ebff;}#sk-container-id-5 div.sk-serial::before {content: \"\";position: absolute;border-left: 1px solid gray;box-sizing: border-box;top: 0;bottom: 0;left: 50%;z-index: 0;}#sk-container-id-5 div.sk-serial {display: flex;flex-direction: column;align-items: center;background-color: white;padding-right: 0.2em;padding-left: 0.2em;position: relative;}#sk-container-id-5 div.sk-item {position: relative;z-index: 1;}#sk-container-id-5 div.sk-parallel {display: flex;align-items: stretch;justify-content: center;background-color: white;position: relative;}#sk-container-id-5 div.sk-item::before, #sk-container-id-5 div.sk-parallel-item::before {content: \"\";position: absolute;border-left: 1px solid gray;box-sizing: border-box;top: 0;bottom: 0;left: 50%;z-index: -1;}#sk-container-id-5 div.sk-parallel-item {display: flex;flex-direction: column;z-index: 1;position: relative;background-color: white;}#sk-container-id-5 div.sk-parallel-item:first-child::after {align-self: flex-end;width: 50%;}#sk-container-id-5 div.sk-parallel-item:last-child::after {align-self: flex-start;width: 50%;}#sk-container-id-5 div.sk-parallel-item:only-child::after {width: 0;}#sk-container-id-5 div.sk-dashed-wrapped {border: 1px dashed gray;margin: 0 0.4em 0.5em 0.4em;box-sizing: border-box;padding-bottom: 0.4em;background-color: white;}#sk-container-id-5 div.sk-label label {font-family: monospace;font-weight: bold;display: inline-block;line-height: 1.2em;}#sk-container-id-5 div.sk-label-container {text-align: center;}#sk-container-id-5 div.sk-container {/* jupyter's `normalize.less` sets `[hidden] { display: none; }` but bootstrap.min.css set `[hidden] { display: none !important; }` so we also need the `!important` here to be able to override the default hidden behavior on the sphinx rendered scikit-learn.org. See: https://github.com/scikit-learn/scikit-learn/issues/21755 */display: inline-block !important;position: relative;}#sk-container-id-5 div.sk-text-repr-fallback {display: none;}</style><div id=\"sk-container-id-5\" class=\"sk-top-container\"><div class=\"sk-text-repr-fallback\"><pre>SVC()</pre><b>In a Jupyter environment, please rerun this cell to show the HTML representation or trust the notebook. <br />On GitHub, the HTML representation is unable to render, please try loading this page with nbviewer.org.</b></div><div class=\"sk-container\" hidden><div class=\"sk-item\"><div class=\"sk-estimator sk-toggleable\"><input class=\"sk-toggleable__control sk-hidden--visually\" id=\"sk-estimator-id-10\" type=\"checkbox\" checked><label for=\"sk-estimator-id-10\" class=\"sk-toggleable__label sk-toggleable__label-arrow\">SVC</label><div class=\"sk-toggleable__content\"><pre>SVC()</pre></div></div></div></div></div>"
      ],
      "text/plain": [
       "SVC()"
      ]
     },
     "execution_count": 67,
     "metadata": {},
     "output_type": "execute_result"
    }
   ],
   "source": [
    "svc_model = SVC(kernel='rbf')\n",
    "svc_model.fit(X_train, y_train)"
   ]
  },
  {
   "cell_type": "code",
   "execution_count": 8,
   "id": "ee1d94f8-5a15-42d3-aa7f-db6ded6ab299",
   "metadata": {},
   "outputs": [
    {
     "ename": "NameError",
     "evalue": "name 'model' is not defined",
     "output_type": "error",
     "traceback": [
      "\u001b[0;31m---------------------------------------------------------------------------\u001b[0m",
      "\u001b[0;31mNameError\u001b[0m                                 Traceback (most recent call last)",
      "Input \u001b[0;32mIn [8]\u001b[0m, in \u001b[0;36m<cell line: 1>\u001b[0;34m()\u001b[0m\n\u001b[0;32m----> 1\u001b[0m importance \u001b[38;5;241m=\u001b[39m \u001b[43mmodel\u001b[49m\u001b[38;5;241m.\u001b[39mtree_\n",
      "\u001b[0;31mNameError\u001b[0m: name 'model' is not defined"
     ]
    }
   ],
   "source": [
    "importance = model.tree_\n"
   ]
  },
  {
   "cell_type": "code",
   "execution_count": 70,
   "id": "4556512c-18cf-491c-bd2f-83fb97de24b8",
   "metadata": {},
   "outputs": [
    {
     "data": {
      "text/plain": [
       "<sklearn.tree._tree.Tree at 0x7f9e74b93ec0>"
      ]
     },
     "execution_count": 70,
     "metadata": {},
     "output_type": "execute_result"
    }
   ],
   "source": [
    "importance"
   ]
  },
  {
   "cell_type": "code",
   "execution_count": null,
   "id": "b0676dd1-db7a-47b1-bf01-6d7350a9409a",
   "metadata": {},
   "outputs": [],
   "source": []
  }
 ],
 "metadata": {
  "kernelspec": {
   "display_name": "Python 3 (ipykernel)",
   "language": "python",
   "name": "python3"
  },
  "language_info": {
   "codemirror_mode": {
    "name": "ipython",
    "version": 3
   },
   "file_extension": ".py",
   "mimetype": "text/x-python",
   "name": "python",
   "nbconvert_exporter": "python",
   "pygments_lexer": "ipython3",
   "version": "3.10.4"
  }
 },
 "nbformat": 4,
 "nbformat_minor": 5
}
