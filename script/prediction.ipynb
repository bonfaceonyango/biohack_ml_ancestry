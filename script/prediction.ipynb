{
 "cells": [
  {
   "cell_type": "code",
   "execution_count": 28,
   "id": "ba0c5ae2-88a0-46d5-ade8-cf40ead81bb3",
   "metadata": {},
   "outputs": [],
   "source": [
    "#import libraries\n",
    "import pandas as pd\n",
    "import time\n",
    "from sklearn.metrics import accuracy_score\n",
    "from sklearn.model_selection import train_test_split\n",
    "from sklearn.pipeline import Pipeline, make_pipeline\n",
    "from sklearn.tree import DecisionTreeClassifier, plot_tree\n",
    "from sklearn.preprocessing import StandardScaler,OrdinalEncoder\n",
    "\n",
    "from sklearn.impute import SimpleImputer\n",
    "\n"
   ]
  },
  {
   "cell_type": "markdown",
   "id": "c5d599de-1f7d-450e-8b91-8d5adf031d0c",
   "metadata": {},
   "source": [
    "## Load data"
   ]
  },
  {
   "cell_type": "code",
   "execution_count": 2,
   "id": "11689eb8-fddb-4650-bfd8-f2e2b983147d",
   "metadata": {},
   "outputs": [],
   "source": [
    "df1 = pd.read_csv(\"../data/kmerdata.csv\", index_col=\"sample_id\")\n",
    "df2 = pd.read_csv(\"../data/kmerdata1.csv\", index_col=\"sample_id\")\n"
   ]
  },
  {
   "cell_type": "code",
   "execution_count": 3,
   "id": "5bf7ecb6-876a-4226-aed1-4c2e5657a6e2",
   "metadata": {},
   "outputs": [
    {
     "data": {
      "text/html": [
       "<div>\n",
       "<style scoped>\n",
       "    .dataframe tbody tr th:only-of-type {\n",
       "        vertical-align: middle;\n",
       "    }\n",
       "\n",
       "    .dataframe tbody tr th {\n",
       "        vertical-align: top;\n",
       "    }\n",
       "\n",
       "    .dataframe thead th {\n",
       "        text-align: right;\n",
       "    }\n",
       "</style>\n",
       "<table border=\"1\" class=\"dataframe\">\n",
       "  <thead>\n",
       "    <tr style=\"text-align: right;\">\n",
       "      <th></th>\n",
       "      <th>AAAAAAAAAAAAAAAAAAAAAAAAAAA</th>\n",
       "      <th>GGGATTACAGGCACCTGCCACCACACC</th>\n",
       "      <th>GCCTGGCTAATTTTTATATTTTTAGTA</th>\n",
       "      <th>GGCTGGGCACGGTGGCTCACGCCTGTA</th>\n",
       "      <th>AGGCAGGAGAATGGCATGAACCCGGGA</th>\n",
       "      <th>GCTTCTGCACAGCAAAAGAAACTATCA</th>\n",
       "      <th>ACGCCATTGCACTCCAGCCTGGGCAAC</th>\n",
       "      <th>TCTTGGGAGGGTGTATGTGTCGAGGAA</th>\n",
       "      <th>AGTCTTGCTCTGTCTCCCAGGCTGGAG</th>\n",
       "      <th>CCAAAAAAGAGCCCGCATTGCCAAGTC</th>\n",
       "      <th>...</th>\n",
       "      <th>CATTCCATTCCATTCCATTCCACTCGG</th>\n",
       "      <th>ACAACCGGTACCAGCCGCTGCAAAATC</th>\n",
       "      <th>AGGATCACTTGAGCCCAGGAGGTTGAG</th>\n",
       "      <th>CTCCCGACCTCAGGTGATCCACCCGCC</th>\n",
       "      <th>AAAAAAAAAAAAAAAAGAAAAAAAAAA</th>\n",
       "      <th>CTGCACTCTAGCCTGGGCAACAGAGCA</th>\n",
       "      <th>GCAATGGCGCAATCTCAGCTCACTGCA</th>\n",
       "      <th>CAAGTAGCTGGGACTACAGGCACCCAC</th>\n",
       "      <th>AGGCTGGTCTCAAACTCCTGACTTCAG</th>\n",
       "      <th>GAAGGAAGGGAGGGAGGGAGGGAGGGA</th>\n",
       "    </tr>\n",
       "    <tr>\n",
       "      <th>sample_id</th>\n",
       "      <th></th>\n",
       "      <th></th>\n",
       "      <th></th>\n",
       "      <th></th>\n",
       "      <th></th>\n",
       "      <th></th>\n",
       "      <th></th>\n",
       "      <th></th>\n",
       "      <th></th>\n",
       "      <th></th>\n",
       "      <th></th>\n",
       "      <th></th>\n",
       "      <th></th>\n",
       "      <th></th>\n",
       "      <th></th>\n",
       "      <th></th>\n",
       "      <th></th>\n",
       "      <th></th>\n",
       "      <th></th>\n",
       "      <th></th>\n",
       "      <th></th>\n",
       "    </tr>\n",
       "  </thead>\n",
       "  <tbody>\n",
       "    <tr>\n",
       "      <th>NA19719</th>\n",
       "      <td>184095</td>\n",
       "      <td>1371.0</td>\n",
       "      <td>1388.0</td>\n",
       "      <td>3083.0</td>\n",
       "      <td>5722.0</td>\n",
       "      <td>3408.0</td>\n",
       "      <td>3282.0</td>\n",
       "      <td>1147.0</td>\n",
       "      <td>1502.0</td>\n",
       "      <td>1401.0</td>\n",
       "      <td>...</td>\n",
       "      <td>NaN</td>\n",
       "      <td>NaN</td>\n",
       "      <td>NaN</td>\n",
       "      <td>NaN</td>\n",
       "      <td>NaN</td>\n",
       "      <td>NaN</td>\n",
       "      <td>NaN</td>\n",
       "      <td>NaN</td>\n",
       "      <td>NaN</td>\n",
       "      <td>NaN</td>\n",
       "    </tr>\n",
       "    <tr>\n",
       "      <th>NA19704</th>\n",
       "      <td>183996</td>\n",
       "      <td>1372.0</td>\n",
       "      <td>1394.0</td>\n",
       "      <td>3059.0</td>\n",
       "      <td>5737.0</td>\n",
       "      <td>3402.0</td>\n",
       "      <td>3288.0</td>\n",
       "      <td>1145.0</td>\n",
       "      <td>1509.0</td>\n",
       "      <td>1397.0</td>\n",
       "      <td>...</td>\n",
       "      <td>NaN</td>\n",
       "      <td>NaN</td>\n",
       "      <td>NaN</td>\n",
       "      <td>NaN</td>\n",
       "      <td>NaN</td>\n",
       "      <td>NaN</td>\n",
       "      <td>NaN</td>\n",
       "      <td>NaN</td>\n",
       "      <td>NaN</td>\n",
       "      <td>NaN</td>\n",
       "    </tr>\n",
       "    <tr>\n",
       "      <th>NA19675</th>\n",
       "      <td>184427</td>\n",
       "      <td>1386.0</td>\n",
       "      <td>1382.0</td>\n",
       "      <td>3076.0</td>\n",
       "      <td>5726.0</td>\n",
       "      <td>3411.0</td>\n",
       "      <td>3284.0</td>\n",
       "      <td>1143.0</td>\n",
       "      <td>1515.0</td>\n",
       "      <td>1394.0</td>\n",
       "      <td>...</td>\n",
       "      <td>NaN</td>\n",
       "      <td>NaN</td>\n",
       "      <td>NaN</td>\n",
       "      <td>NaN</td>\n",
       "      <td>NaN</td>\n",
       "      <td>NaN</td>\n",
       "      <td>NaN</td>\n",
       "      <td>NaN</td>\n",
       "      <td>NaN</td>\n",
       "      <td>NaN</td>\n",
       "    </tr>\n",
       "    <tr>\n",
       "      <th>NA19670</th>\n",
       "      <td>184133</td>\n",
       "      <td>1383.0</td>\n",
       "      <td>1390.0</td>\n",
       "      <td>3076.0</td>\n",
       "      <td>5723.0</td>\n",
       "      <td>3408.0</td>\n",
       "      <td>3278.0</td>\n",
       "      <td>1147.0</td>\n",
       "      <td>1512.0</td>\n",
       "      <td>1393.0</td>\n",
       "      <td>...</td>\n",
       "      <td>NaN</td>\n",
       "      <td>NaN</td>\n",
       "      <td>NaN</td>\n",
       "      <td>NaN</td>\n",
       "      <td>NaN</td>\n",
       "      <td>NaN</td>\n",
       "      <td>NaN</td>\n",
       "      <td>NaN</td>\n",
       "      <td>NaN</td>\n",
       "      <td>NaN</td>\n",
       "    </tr>\n",
       "    <tr>\n",
       "      <th>NA19669</th>\n",
       "      <td>183749</td>\n",
       "      <td>1390.0</td>\n",
       "      <td>1381.0</td>\n",
       "      <td>3065.0</td>\n",
       "      <td>5743.0</td>\n",
       "      <td>3406.0</td>\n",
       "      <td>3287.0</td>\n",
       "      <td>1147.0</td>\n",
       "      <td>1508.0</td>\n",
       "      <td>1398.0</td>\n",
       "      <td>...</td>\n",
       "      <td>NaN</td>\n",
       "      <td>NaN</td>\n",
       "      <td>NaN</td>\n",
       "      <td>NaN</td>\n",
       "      <td>NaN</td>\n",
       "      <td>NaN</td>\n",
       "      <td>NaN</td>\n",
       "      <td>NaN</td>\n",
       "      <td>NaN</td>\n",
       "      <td>NaN</td>\n",
       "    </tr>\n",
       "  </tbody>\n",
       "</table>\n",
       "<p>5 rows × 32344 columns</p>\n",
       "</div>"
      ],
      "text/plain": [
       "           AAAAAAAAAAAAAAAAAAAAAAAAAAA  GGGATTACAGGCACCTGCCACCACACC  \\\n",
       "sample_id                                                             \n",
       "NA19719                         184095                       1371.0   \n",
       "NA19704                         183996                       1372.0   \n",
       "NA19675                         184427                       1386.0   \n",
       "NA19670                         184133                       1383.0   \n",
       "NA19669                         183749                       1390.0   \n",
       "\n",
       "           GCCTGGCTAATTTTTATATTTTTAGTA  GGCTGGGCACGGTGGCTCACGCCTGTA  \\\n",
       "sample_id                                                             \n",
       "NA19719                         1388.0                       3083.0   \n",
       "NA19704                         1394.0                       3059.0   \n",
       "NA19675                         1382.0                       3076.0   \n",
       "NA19670                         1390.0                       3076.0   \n",
       "NA19669                         1381.0                       3065.0   \n",
       "\n",
       "           AGGCAGGAGAATGGCATGAACCCGGGA  GCTTCTGCACAGCAAAAGAAACTATCA  \\\n",
       "sample_id                                                             \n",
       "NA19719                         5722.0                       3408.0   \n",
       "NA19704                         5737.0                       3402.0   \n",
       "NA19675                         5726.0                       3411.0   \n",
       "NA19670                         5723.0                       3408.0   \n",
       "NA19669                         5743.0                       3406.0   \n",
       "\n",
       "           ACGCCATTGCACTCCAGCCTGGGCAAC  TCTTGGGAGGGTGTATGTGTCGAGGAA  \\\n",
       "sample_id                                                             \n",
       "NA19719                         3282.0                       1147.0   \n",
       "NA19704                         3288.0                       1145.0   \n",
       "NA19675                         3284.0                       1143.0   \n",
       "NA19670                         3278.0                       1147.0   \n",
       "NA19669                         3287.0                       1147.0   \n",
       "\n",
       "           AGTCTTGCTCTGTCTCCCAGGCTGGAG  CCAAAAAAGAGCCCGCATTGCCAAGTC  ...  \\\n",
       "sample_id                                                            ...   \n",
       "NA19719                         1502.0                       1401.0  ...   \n",
       "NA19704                         1509.0                       1397.0  ...   \n",
       "NA19675                         1515.0                       1394.0  ...   \n",
       "NA19670                         1512.0                       1393.0  ...   \n",
       "NA19669                         1508.0                       1398.0  ...   \n",
       "\n",
       "           CATTCCATTCCATTCCATTCCACTCGG  ACAACCGGTACCAGCCGCTGCAAAATC  \\\n",
       "sample_id                                                             \n",
       "NA19719                            NaN                          NaN   \n",
       "NA19704                            NaN                          NaN   \n",
       "NA19675                            NaN                          NaN   \n",
       "NA19670                            NaN                          NaN   \n",
       "NA19669                            NaN                          NaN   \n",
       "\n",
       "           AGGATCACTTGAGCCCAGGAGGTTGAG  CTCCCGACCTCAGGTGATCCACCCGCC  \\\n",
       "sample_id                                                             \n",
       "NA19719                            NaN                          NaN   \n",
       "NA19704                            NaN                          NaN   \n",
       "NA19675                            NaN                          NaN   \n",
       "NA19670                            NaN                          NaN   \n",
       "NA19669                            NaN                          NaN   \n",
       "\n",
       "           AAAAAAAAAAAAAAAAGAAAAAAAAAA  CTGCACTCTAGCCTGGGCAACAGAGCA  \\\n",
       "sample_id                                                             \n",
       "NA19719                            NaN                          NaN   \n",
       "NA19704                            NaN                          NaN   \n",
       "NA19675                            NaN                          NaN   \n",
       "NA19670                            NaN                          NaN   \n",
       "NA19669                            NaN                          NaN   \n",
       "\n",
       "           GCAATGGCGCAATCTCAGCTCACTGCA  CAAGTAGCTGGGACTACAGGCACCCAC  \\\n",
       "sample_id                                                             \n",
       "NA19719                            NaN                          NaN   \n",
       "NA19704                            NaN                          NaN   \n",
       "NA19675                            NaN                          NaN   \n",
       "NA19670                            NaN                          NaN   \n",
       "NA19669                            NaN                          NaN   \n",
       "\n",
       "           AGGCTGGTCTCAAACTCCTGACTTCAG  GAAGGAAGGGAGGGAGGGAGGGAGGGA  \n",
       "sample_id                                                            \n",
       "NA19719                            NaN                          NaN  \n",
       "NA19704                            NaN                          NaN  \n",
       "NA19675                            NaN                          NaN  \n",
       "NA19670                            NaN                          NaN  \n",
       "NA19669                            NaN                          NaN  \n",
       "\n",
       "[5 rows x 32344 columns]"
      ]
     },
     "execution_count": 3,
     "metadata": {},
     "output_type": "execute_result"
    }
   ],
   "source": [
    "df1.head()"
   ]
  },
  {
   "cell_type": "code",
   "execution_count": 4,
   "id": "146f8510-a103-4f9c-8fee-a30881980464",
   "metadata": {},
   "outputs": [
    {
     "data": {
      "text/html": [
       "<div>\n",
       "<style scoped>\n",
       "    .dataframe tbody tr th:only-of-type {\n",
       "        vertical-align: middle;\n",
       "    }\n",
       "\n",
       "    .dataframe tbody tr th {\n",
       "        vertical-align: top;\n",
       "    }\n",
       "\n",
       "    .dataframe thead th {\n",
       "        text-align: right;\n",
       "    }\n",
       "</style>\n",
       "<table border=\"1\" class=\"dataframe\">\n",
       "  <thead>\n",
       "    <tr style=\"text-align: right;\">\n",
       "      <th></th>\n",
       "      <th>AAAAAAAAAAAAAAAAAAAAAAAAAAA</th>\n",
       "      <th>GGGATTACAGGCACCTGCCACCACACC</th>\n",
       "      <th>GCCTGGCTAATTTTTATATTTTTAGTA</th>\n",
       "      <th>GGCTGGGCACGGTGGCTCACGCCTGTA</th>\n",
       "      <th>AGGCAGGAGAATGGCATGAACCCGGGA</th>\n",
       "      <th>GCTTCTGCACAGCAAAAGAAACTATCA</th>\n",
       "      <th>ACGCCATTGCACTCCAGCCTGGGCAAC</th>\n",
       "      <th>TCTTGGGAGGGTGTATGTGTCGAGGAA</th>\n",
       "      <th>AGTCTTGCTCTGTCTCCCAGGCTGGAG</th>\n",
       "      <th>CCAAAAAAGAGCCCGCATTGCCAAGTC</th>\n",
       "      <th>...</th>\n",
       "      <th>GGATCGCTTGAGCCCAGGAGTTTGAGA</th>\n",
       "      <th>AAAAAAAAAAAAAAAAGAAAAAAAAAA</th>\n",
       "      <th>GCAGTGAGCTATGATTGCACCACTGCA</th>\n",
       "      <th>ATTCTCCTGCCTCAGCCTCCCGAGTAC</th>\n",
       "      <th>GAAGGAAGGGAGGGAGGGAGGGAGGGA</th>\n",
       "      <th>AACTTAAAGTATAATAATAAAAAAAAA</th>\n",
       "      <th>GGAGTGCAGTGGCACAATCATGGCTCA</th>\n",
       "      <th>CTCCTAATGCTATCCCTCCCCTAGCCC</th>\n",
       "      <th>CGTCTCAAAAAAAAAAAAAAAAAGAAA</th>\n",
       "      <th>ATTGTTCAATTCCCATCTATGAGTGAG</th>\n",
       "    </tr>\n",
       "    <tr>\n",
       "      <th>sample_id</th>\n",
       "      <th></th>\n",
       "      <th></th>\n",
       "      <th></th>\n",
       "      <th></th>\n",
       "      <th></th>\n",
       "      <th></th>\n",
       "      <th></th>\n",
       "      <th></th>\n",
       "      <th></th>\n",
       "      <th></th>\n",
       "      <th></th>\n",
       "      <th></th>\n",
       "      <th></th>\n",
       "      <th></th>\n",
       "      <th></th>\n",
       "      <th></th>\n",
       "      <th></th>\n",
       "      <th></th>\n",
       "      <th></th>\n",
       "      <th></th>\n",
       "      <th></th>\n",
       "    </tr>\n",
       "  </thead>\n",
       "  <tbody>\n",
       "    <tr>\n",
       "      <th>NA19720</th>\n",
       "      <td>184202</td>\n",
       "      <td>1362</td>\n",
       "      <td>1376</td>\n",
       "      <td>3065</td>\n",
       "      <td>5756</td>\n",
       "      <td>3408</td>\n",
       "      <td>3288</td>\n",
       "      <td>1143</td>\n",
       "      <td>1514</td>\n",
       "      <td>1394</td>\n",
       "      <td>...</td>\n",
       "      <td>NaN</td>\n",
       "      <td>NaN</td>\n",
       "      <td>NaN</td>\n",
       "      <td>NaN</td>\n",
       "      <td>NaN</td>\n",
       "      <td>NaN</td>\n",
       "      <td>NaN</td>\n",
       "      <td>NaN</td>\n",
       "      <td>NaN</td>\n",
       "      <td>NaN</td>\n",
       "    </tr>\n",
       "    <tr>\n",
       "      <th>NA19719</th>\n",
       "      <td>184095</td>\n",
       "      <td>1371</td>\n",
       "      <td>1388</td>\n",
       "      <td>3083</td>\n",
       "      <td>5722</td>\n",
       "      <td>3408</td>\n",
       "      <td>3282</td>\n",
       "      <td>1147</td>\n",
       "      <td>1502</td>\n",
       "      <td>1401</td>\n",
       "      <td>...</td>\n",
       "      <td>NaN</td>\n",
       "      <td>NaN</td>\n",
       "      <td>NaN</td>\n",
       "      <td>NaN</td>\n",
       "      <td>NaN</td>\n",
       "      <td>NaN</td>\n",
       "      <td>NaN</td>\n",
       "      <td>NaN</td>\n",
       "      <td>NaN</td>\n",
       "      <td>NaN</td>\n",
       "    </tr>\n",
       "    <tr>\n",
       "      <th>NA19678</th>\n",
       "      <td>184783</td>\n",
       "      <td>1387</td>\n",
       "      <td>1386</td>\n",
       "      <td>3053</td>\n",
       "      <td>5746</td>\n",
       "      <td>3397</td>\n",
       "      <td>3275</td>\n",
       "      <td>1148</td>\n",
       "      <td>1499</td>\n",
       "      <td>1397</td>\n",
       "      <td>...</td>\n",
       "      <td>NaN</td>\n",
       "      <td>NaN</td>\n",
       "      <td>NaN</td>\n",
       "      <td>NaN</td>\n",
       "      <td>NaN</td>\n",
       "      <td>NaN</td>\n",
       "      <td>NaN</td>\n",
       "      <td>NaN</td>\n",
       "      <td>NaN</td>\n",
       "      <td>NaN</td>\n",
       "    </tr>\n",
       "    <tr>\n",
       "      <th>NA19676</th>\n",
       "      <td>183970</td>\n",
       "      <td>1389</td>\n",
       "      <td>1390</td>\n",
       "      <td>3065</td>\n",
       "      <td>5722</td>\n",
       "      <td>3402</td>\n",
       "      <td>3279</td>\n",
       "      <td>1143</td>\n",
       "      <td>1507</td>\n",
       "      <td>1395</td>\n",
       "      <td>...</td>\n",
       "      <td>NaN</td>\n",
       "      <td>NaN</td>\n",
       "      <td>NaN</td>\n",
       "      <td>NaN</td>\n",
       "      <td>NaN</td>\n",
       "      <td>NaN</td>\n",
       "      <td>NaN</td>\n",
       "      <td>NaN</td>\n",
       "      <td>NaN</td>\n",
       "      <td>NaN</td>\n",
       "    </tr>\n",
       "    <tr>\n",
       "      <th>NA19468</th>\n",
       "      <td>182214</td>\n",
       "      <td>1462</td>\n",
       "      <td>1387</td>\n",
       "      <td>3084</td>\n",
       "      <td>5750</td>\n",
       "      <td>3413</td>\n",
       "      <td>3287</td>\n",
       "      <td>1146</td>\n",
       "      <td>1514</td>\n",
       "      <td>1397</td>\n",
       "      <td>...</td>\n",
       "      <td>NaN</td>\n",
       "      <td>NaN</td>\n",
       "      <td>NaN</td>\n",
       "      <td>NaN</td>\n",
       "      <td>NaN</td>\n",
       "      <td>NaN</td>\n",
       "      <td>NaN</td>\n",
       "      <td>NaN</td>\n",
       "      <td>NaN</td>\n",
       "      <td>NaN</td>\n",
       "    </tr>\n",
       "  </tbody>\n",
       "</table>\n",
       "<p>5 rows × 32331 columns</p>\n",
       "</div>"
      ],
      "text/plain": [
       "           AAAAAAAAAAAAAAAAAAAAAAAAAAA  GGGATTACAGGCACCTGCCACCACACC  \\\n",
       "sample_id                                                             \n",
       "NA19720                         184202                         1362   \n",
       "NA19719                         184095                         1371   \n",
       "NA19678                         184783                         1387   \n",
       "NA19676                         183970                         1389   \n",
       "NA19468                         182214                         1462   \n",
       "\n",
       "           GCCTGGCTAATTTTTATATTTTTAGTA  GGCTGGGCACGGTGGCTCACGCCTGTA  \\\n",
       "sample_id                                                             \n",
       "NA19720                           1376                         3065   \n",
       "NA19719                           1388                         3083   \n",
       "NA19678                           1386                         3053   \n",
       "NA19676                           1390                         3065   \n",
       "NA19468                           1387                         3084   \n",
       "\n",
       "           AGGCAGGAGAATGGCATGAACCCGGGA  GCTTCTGCACAGCAAAAGAAACTATCA  \\\n",
       "sample_id                                                             \n",
       "NA19720                           5756                         3408   \n",
       "NA19719                           5722                         3408   \n",
       "NA19678                           5746                         3397   \n",
       "NA19676                           5722                         3402   \n",
       "NA19468                           5750                         3413   \n",
       "\n",
       "           ACGCCATTGCACTCCAGCCTGGGCAAC  TCTTGGGAGGGTGTATGTGTCGAGGAA  \\\n",
       "sample_id                                                             \n",
       "NA19720                           3288                         1143   \n",
       "NA19719                           3282                         1147   \n",
       "NA19678                           3275                         1148   \n",
       "NA19676                           3279                         1143   \n",
       "NA19468                           3287                         1146   \n",
       "\n",
       "           AGTCTTGCTCTGTCTCCCAGGCTGGAG  CCAAAAAAGAGCCCGCATTGCCAAGTC  ...  \\\n",
       "sample_id                                                            ...   \n",
       "NA19720                           1514                         1394  ...   \n",
       "NA19719                           1502                         1401  ...   \n",
       "NA19678                           1499                         1397  ...   \n",
       "NA19676                           1507                         1395  ...   \n",
       "NA19468                           1514                         1397  ...   \n",
       "\n",
       "           GGATCGCTTGAGCCCAGGAGTTTGAGA  AAAAAAAAAAAAAAAAGAAAAAAAAAA  \\\n",
       "sample_id                                                             \n",
       "NA19720                            NaN                          NaN   \n",
       "NA19719                            NaN                          NaN   \n",
       "NA19678                            NaN                          NaN   \n",
       "NA19676                            NaN                          NaN   \n",
       "NA19468                            NaN                          NaN   \n",
       "\n",
       "           GCAGTGAGCTATGATTGCACCACTGCA  ATTCTCCTGCCTCAGCCTCCCGAGTAC  \\\n",
       "sample_id                                                             \n",
       "NA19720                            NaN                          NaN   \n",
       "NA19719                            NaN                          NaN   \n",
       "NA19678                            NaN                          NaN   \n",
       "NA19676                            NaN                          NaN   \n",
       "NA19468                            NaN                          NaN   \n",
       "\n",
       "           GAAGGAAGGGAGGGAGGGAGGGAGGGA  AACTTAAAGTATAATAATAAAAAAAAA  \\\n",
       "sample_id                                                             \n",
       "NA19720                            NaN                          NaN   \n",
       "NA19719                            NaN                          NaN   \n",
       "NA19678                            NaN                          NaN   \n",
       "NA19676                            NaN                          NaN   \n",
       "NA19468                            NaN                          NaN   \n",
       "\n",
       "           GGAGTGCAGTGGCACAATCATGGCTCA  CTCCTAATGCTATCCCTCCCCTAGCCC  \\\n",
       "sample_id                                                             \n",
       "NA19720                            NaN                          NaN   \n",
       "NA19719                            NaN                          NaN   \n",
       "NA19678                            NaN                          NaN   \n",
       "NA19676                            NaN                          NaN   \n",
       "NA19468                            NaN                          NaN   \n",
       "\n",
       "           CGTCTCAAAAAAAAAAAAAAAAAGAAA  ATTGTTCAATTCCCATCTATGAGTGAG  \n",
       "sample_id                                                            \n",
       "NA19720                            NaN                          NaN  \n",
       "NA19719                            NaN                          NaN  \n",
       "NA19678                            NaN                          NaN  \n",
       "NA19676                            NaN                          NaN  \n",
       "NA19468                            NaN                          NaN  \n",
       "\n",
       "[5 rows x 32331 columns]"
      ]
     },
     "execution_count": 4,
     "metadata": {},
     "output_type": "execute_result"
    }
   ],
   "source": [
    "df2.head()"
   ]
  },
  {
   "cell_type": "code",
   "execution_count": 6,
   "id": "e39e065e-f39b-4c67-acb7-9cdb3e375664",
   "metadata": {},
   "outputs": [
    {
     "data": {
      "text/html": [
       "<div>\n",
       "<style scoped>\n",
       "    .dataframe tbody tr th:only-of-type {\n",
       "        vertical-align: middle;\n",
       "    }\n",
       "\n",
       "    .dataframe tbody tr th {\n",
       "        vertical-align: top;\n",
       "    }\n",
       "\n",
       "    .dataframe thead th {\n",
       "        text-align: right;\n",
       "    }\n",
       "</style>\n",
       "<table border=\"1\" class=\"dataframe\">\n",
       "  <thead>\n",
       "    <tr style=\"text-align: right;\">\n",
       "      <th></th>\n",
       "      <th>AAAAAAAAAAAAAAAAAAAAAAAAAAA</th>\n",
       "      <th>GGGATTACAGGCACCTGCCACCACACC</th>\n",
       "      <th>GCCTGGCTAATTTTTATATTTTTAGTA</th>\n",
       "      <th>GGCTGGGCACGGTGGCTCACGCCTGTA</th>\n",
       "      <th>AGGCAGGAGAATGGCATGAACCCGGGA</th>\n",
       "      <th>GCTTCTGCACAGCAAAAGAAACTATCA</th>\n",
       "      <th>ACGCCATTGCACTCCAGCCTGGGCAAC</th>\n",
       "      <th>TCTTGGGAGGGTGTATGTGTCGAGGAA</th>\n",
       "      <th>AGTCTTGCTCTGTCTCCCAGGCTGGAG</th>\n",
       "      <th>CCAAAAAAGAGCCCGCATTGCCAAGTC</th>\n",
       "      <th>...</th>\n",
       "      <th>CTATTATTGTGTGGGAGTCTAAGTCTC</th>\n",
       "      <th>CTCGGGAGGCTGAGGCAGAAGAATCAC</th>\n",
       "      <th>AGGTTGCAGTGAGCCAAGATGGTGCCA</th>\n",
       "      <th>CCTGAAAGTGACAGGGAGAATGGAACC</th>\n",
       "      <th>CAGGAGTTTGAGACCAGCCTAGCCAAC</th>\n",
       "      <th>AGCCGGGCATGGTGGCGGGTGCCTGTA</th>\n",
       "      <th>GGATCGCTTGAGCCCAGGAGTTTGAGA</th>\n",
       "      <th>AACTTAAAGTATAATAATAAAAAAAAA</th>\n",
       "      <th>CTCCTAATGCTATCCCTCCCCTAGCCC</th>\n",
       "      <th>CGTCTCAAAAAAAAAAAAAAAAAGAAA</th>\n",
       "    </tr>\n",
       "    <tr>\n",
       "      <th>sample_id</th>\n",
       "      <th></th>\n",
       "      <th></th>\n",
       "      <th></th>\n",
       "      <th></th>\n",
       "      <th></th>\n",
       "      <th></th>\n",
       "      <th></th>\n",
       "      <th></th>\n",
       "      <th></th>\n",
       "      <th></th>\n",
       "      <th></th>\n",
       "      <th></th>\n",
       "      <th></th>\n",
       "      <th></th>\n",
       "      <th></th>\n",
       "      <th></th>\n",
       "      <th></th>\n",
       "      <th></th>\n",
       "      <th></th>\n",
       "      <th></th>\n",
       "      <th></th>\n",
       "    </tr>\n",
       "  </thead>\n",
       "  <tbody>\n",
       "    <tr>\n",
       "      <th>NA19719</th>\n",
       "      <td>184095</td>\n",
       "      <td>1371.0</td>\n",
       "      <td>1388.0</td>\n",
       "      <td>3083.0</td>\n",
       "      <td>5722.0</td>\n",
       "      <td>3408.0</td>\n",
       "      <td>3282.0</td>\n",
       "      <td>1147.0</td>\n",
       "      <td>1502.0</td>\n",
       "      <td>1401.0</td>\n",
       "      <td>...</td>\n",
       "      <td>NaN</td>\n",
       "      <td>NaN</td>\n",
       "      <td>NaN</td>\n",
       "      <td>NaN</td>\n",
       "      <td>NaN</td>\n",
       "      <td>NaN</td>\n",
       "      <td>NaN</td>\n",
       "      <td>NaN</td>\n",
       "      <td>NaN</td>\n",
       "      <td>NaN</td>\n",
       "    </tr>\n",
       "    <tr>\n",
       "      <th>NA19704</th>\n",
       "      <td>183996</td>\n",
       "      <td>1372.0</td>\n",
       "      <td>1394.0</td>\n",
       "      <td>3059.0</td>\n",
       "      <td>5737.0</td>\n",
       "      <td>3402.0</td>\n",
       "      <td>3288.0</td>\n",
       "      <td>1145.0</td>\n",
       "      <td>1509.0</td>\n",
       "      <td>1397.0</td>\n",
       "      <td>...</td>\n",
       "      <td>NaN</td>\n",
       "      <td>NaN</td>\n",
       "      <td>NaN</td>\n",
       "      <td>NaN</td>\n",
       "      <td>NaN</td>\n",
       "      <td>NaN</td>\n",
       "      <td>NaN</td>\n",
       "      <td>NaN</td>\n",
       "      <td>NaN</td>\n",
       "      <td>NaN</td>\n",
       "    </tr>\n",
       "    <tr>\n",
       "      <th>NA19675</th>\n",
       "      <td>184427</td>\n",
       "      <td>1386.0</td>\n",
       "      <td>1382.0</td>\n",
       "      <td>3076.0</td>\n",
       "      <td>5726.0</td>\n",
       "      <td>3411.0</td>\n",
       "      <td>3284.0</td>\n",
       "      <td>1143.0</td>\n",
       "      <td>1515.0</td>\n",
       "      <td>1394.0</td>\n",
       "      <td>...</td>\n",
       "      <td>NaN</td>\n",
       "      <td>NaN</td>\n",
       "      <td>NaN</td>\n",
       "      <td>NaN</td>\n",
       "      <td>NaN</td>\n",
       "      <td>NaN</td>\n",
       "      <td>NaN</td>\n",
       "      <td>NaN</td>\n",
       "      <td>NaN</td>\n",
       "      <td>NaN</td>\n",
       "    </tr>\n",
       "    <tr>\n",
       "      <th>NA19670</th>\n",
       "      <td>184133</td>\n",
       "      <td>1383.0</td>\n",
       "      <td>1390.0</td>\n",
       "      <td>3076.0</td>\n",
       "      <td>5723.0</td>\n",
       "      <td>3408.0</td>\n",
       "      <td>3278.0</td>\n",
       "      <td>1147.0</td>\n",
       "      <td>1512.0</td>\n",
       "      <td>1393.0</td>\n",
       "      <td>...</td>\n",
       "      <td>NaN</td>\n",
       "      <td>NaN</td>\n",
       "      <td>NaN</td>\n",
       "      <td>NaN</td>\n",
       "      <td>NaN</td>\n",
       "      <td>NaN</td>\n",
       "      <td>NaN</td>\n",
       "      <td>NaN</td>\n",
       "      <td>NaN</td>\n",
       "      <td>NaN</td>\n",
       "    </tr>\n",
       "    <tr>\n",
       "      <th>NA19669</th>\n",
       "      <td>183749</td>\n",
       "      <td>1390.0</td>\n",
       "      <td>1381.0</td>\n",
       "      <td>3065.0</td>\n",
       "      <td>5743.0</td>\n",
       "      <td>3406.0</td>\n",
       "      <td>3287.0</td>\n",
       "      <td>1147.0</td>\n",
       "      <td>1508.0</td>\n",
       "      <td>1398.0</td>\n",
       "      <td>...</td>\n",
       "      <td>NaN</td>\n",
       "      <td>NaN</td>\n",
       "      <td>NaN</td>\n",
       "      <td>NaN</td>\n",
       "      <td>NaN</td>\n",
       "      <td>NaN</td>\n",
       "      <td>NaN</td>\n",
       "      <td>NaN</td>\n",
       "      <td>NaN</td>\n",
       "      <td>NaN</td>\n",
       "    </tr>\n",
       "  </tbody>\n",
       "</table>\n",
       "<p>5 rows × 32363 columns</p>\n",
       "</div>"
      ],
      "text/plain": [
       "           AAAAAAAAAAAAAAAAAAAAAAAAAAA  GGGATTACAGGCACCTGCCACCACACC  \\\n",
       "sample_id                                                             \n",
       "NA19719                         184095                       1371.0   \n",
       "NA19704                         183996                       1372.0   \n",
       "NA19675                         184427                       1386.0   \n",
       "NA19670                         184133                       1383.0   \n",
       "NA19669                         183749                       1390.0   \n",
       "\n",
       "           GCCTGGCTAATTTTTATATTTTTAGTA  GGCTGGGCACGGTGGCTCACGCCTGTA  \\\n",
       "sample_id                                                             \n",
       "NA19719                         1388.0                       3083.0   \n",
       "NA19704                         1394.0                       3059.0   \n",
       "NA19675                         1382.0                       3076.0   \n",
       "NA19670                         1390.0                       3076.0   \n",
       "NA19669                         1381.0                       3065.0   \n",
       "\n",
       "           AGGCAGGAGAATGGCATGAACCCGGGA  GCTTCTGCACAGCAAAAGAAACTATCA  \\\n",
       "sample_id                                                             \n",
       "NA19719                         5722.0                       3408.0   \n",
       "NA19704                         5737.0                       3402.0   \n",
       "NA19675                         5726.0                       3411.0   \n",
       "NA19670                         5723.0                       3408.0   \n",
       "NA19669                         5743.0                       3406.0   \n",
       "\n",
       "           ACGCCATTGCACTCCAGCCTGGGCAAC  TCTTGGGAGGGTGTATGTGTCGAGGAA  \\\n",
       "sample_id                                                             \n",
       "NA19719                         3282.0                       1147.0   \n",
       "NA19704                         3288.0                       1145.0   \n",
       "NA19675                         3284.0                       1143.0   \n",
       "NA19670                         3278.0                       1147.0   \n",
       "NA19669                         3287.0                       1147.0   \n",
       "\n",
       "           AGTCTTGCTCTGTCTCCCAGGCTGGAG  CCAAAAAAGAGCCCGCATTGCCAAGTC  ...  \\\n",
       "sample_id                                                            ...   \n",
       "NA19719                         1502.0                       1401.0  ...   \n",
       "NA19704                         1509.0                       1397.0  ...   \n",
       "NA19675                         1515.0                       1394.0  ...   \n",
       "NA19670                         1512.0                       1393.0  ...   \n",
       "NA19669                         1508.0                       1398.0  ...   \n",
       "\n",
       "           CTATTATTGTGTGGGAGTCTAAGTCTC  CTCGGGAGGCTGAGGCAGAAGAATCAC  \\\n",
       "sample_id                                                             \n",
       "NA19719                            NaN                          NaN   \n",
       "NA19704                            NaN                          NaN   \n",
       "NA19675                            NaN                          NaN   \n",
       "NA19670                            NaN                          NaN   \n",
       "NA19669                            NaN                          NaN   \n",
       "\n",
       "           AGGTTGCAGTGAGCCAAGATGGTGCCA  CCTGAAAGTGACAGGGAGAATGGAACC  \\\n",
       "sample_id                                                             \n",
       "NA19719                            NaN                          NaN   \n",
       "NA19704                            NaN                          NaN   \n",
       "NA19675                            NaN                          NaN   \n",
       "NA19670                            NaN                          NaN   \n",
       "NA19669                            NaN                          NaN   \n",
       "\n",
       "           CAGGAGTTTGAGACCAGCCTAGCCAAC  AGCCGGGCATGGTGGCGGGTGCCTGTA  \\\n",
       "sample_id                                                             \n",
       "NA19719                            NaN                          NaN   \n",
       "NA19704                            NaN                          NaN   \n",
       "NA19675                            NaN                          NaN   \n",
       "NA19670                            NaN                          NaN   \n",
       "NA19669                            NaN                          NaN   \n",
       "\n",
       "           GGATCGCTTGAGCCCAGGAGTTTGAGA  AACTTAAAGTATAATAATAAAAAAAAA  \\\n",
       "sample_id                                                             \n",
       "NA19719                            NaN                          NaN   \n",
       "NA19704                            NaN                          NaN   \n",
       "NA19675                            NaN                          NaN   \n",
       "NA19670                            NaN                          NaN   \n",
       "NA19669                            NaN                          NaN   \n",
       "\n",
       "           CTCCTAATGCTATCCCTCCCCTAGCCC  CGTCTCAAAAAAAAAAAAAAAAAGAAA  \n",
       "sample_id                                                            \n",
       "NA19719                            NaN                          NaN  \n",
       "NA19704                            NaN                          NaN  \n",
       "NA19675                            NaN                          NaN  \n",
       "NA19670                            NaN                          NaN  \n",
       "NA19669                            NaN                          NaN  \n",
       "\n",
       "[5 rows x 32363 columns]"
      ]
     },
     "execution_count": 6,
     "metadata": {},
     "output_type": "execute_result"
    }
   ],
   "source": [
    "df = pd.concat([df1,df2])\n",
    "df.head()"
   ]
  },
  {
   "cell_type": "code",
   "execution_count": 7,
   "id": "699345ce-8cbf-43ac-9c02-5c339f6d7d8e",
   "metadata": {},
   "outputs": [
    {
     "data": {
      "text/plain": [
       "MXL    8\n",
       "LWK    6\n",
       "GBR    4\n",
       "STU    3\n",
       "Name: code, dtype: int64"
      ]
     },
     "execution_count": 7,
     "metadata": {},
     "output_type": "execute_result"
    }
   ],
   "source": [
    "df_clean = df.drop([\"HG02061\",\"NA19704\"],axis=0)\n",
    "df_clean.code.value_counts() "
   ]
  },
  {
   "cell_type": "code",
   "execution_count": 8,
   "id": "b78a180b-7c09-4c45-a6e8-f048ccb607d9",
   "metadata": {},
   "outputs": [],
   "source": [
    "# fill NaNs in the data frame with 0\n",
    "df_clean.fillna(0,inplace=True)"
   ]
  },
  {
   "cell_type": "code",
   "execution_count": 36,
   "id": "357c5579-3be4-4112-ae76-debb5ca566ff",
   "metadata": {},
   "outputs": [],
   "source": [
    "df2.fillna(0,inplace=True)"
   ]
  },
  {
   "cell_type": "code",
   "execution_count": 87,
   "id": "865b2e08-c6a3-40ba-bfc4-bbf42c3bd150",
   "metadata": {},
   "outputs": [
    {
     "data": {
      "text/plain": [
       "sample_id\n",
       "NA19720    0\n",
       "NA19719    0\n",
       "NA19678    0\n",
       "NA19676    0\n",
       "NA19468    1\n",
       "NA19456    1\n",
       "NA19454    1\n",
       "NA19440    1\n",
       "HG00238    2\n",
       "HG00236    2\n",
       "HG00235    2\n",
       "HG00234    2\n",
       "Name: Population, dtype: int64"
      ]
     },
     "execution_count": 87,
     "metadata": {},
     "output_type": "execute_result"
    }
   ],
   "source": [
    "country={\"MXL\":0,\"LWK\":1,\"GBR\":2,\"STU\":3}\n",
    "df2[\"Population\"]=df2[\"code\"].replace(country)\n",
    "df2[\"Population\"]"
   ]
  },
  {
   "cell_type": "code",
   "execution_count": 89,
   "id": "beeb4236-22ce-46cf-a62f-289a82dcd02c",
   "metadata": {},
   "outputs": [],
   "source": [
    "#drop Code\n",
    "df2.drop(\"code\",axis=1, inplace=True)"
   ]
  },
  {
   "cell_type": "markdown",
   "id": "9e0bbad8-12ab-4a0f-ac11-4cabd08387a1",
   "metadata": {},
   "source": [
    "## Explore"
   ]
  },
  {
   "cell_type": "code",
   "execution_count": 91,
   "id": "9eea5a54-5f4a-4ebc-8b97-84fbfa687208",
   "metadata": {},
   "outputs": [
    {
     "data": {
      "text/plain": [
       "<AxesSubplot:>"
      ]
     },
     "execution_count": 91,
     "metadata": {},
     "output_type": "execute_result"
    },
    {
     "data": {
      "image/png": "[encoded data removed]",
      "text/plain": [
       "<Figure size 432x288 with 1 Axes>"
      ]
     },
     "metadata": {
      "needs_background": "light"
     },
     "output_type": "display_data"
    }
   ],
   "source": [
    "df2[\"Population\"].value_counts(normalize=True).plot(kind=\"bar\")\n"
   ]
  },
  {
   "cell_type": "markdown",
   "id": "b84d5820-b316-4a48-8416-9f52414da37e",
   "metadata": {},
   "source": [
    "## Split data"
   ]
  },
  {
   "cell_type": "code",
   "execution_count": 93,
   "id": "9922874f-d934-4a46-9d62-a55fd37d2a3f",
   "metadata": {},
   "outputs": [
    {
     "name": "stdout",
     "output_type": "stream",
     "text": [
      "X shape: (12, 32330)\n",
      "y shape: (12,)\n"
     ]
    }
   ],
   "source": [
    "target = \"Population\"\n",
    "X =df2.drop(columns=target)\n",
    "y = df2[target]\n",
    "\n",
    "print(\"X shape:\", X.shape)\n",
    "print(\"y shape:\", y.shape)"
   ]
  },
  {
   "cell_type": "code",
   "execution_count": 112,
   "id": "6d3aab6d-7a10-4c0d-b31f-4a3279b79b3c",
   "metadata": {},
   "outputs": [],
   "source": [
    "col=X.columns\n",
    "df3=pd.DataFrame(columns=col)\n",
    "df3.to_csv(\"col_names\")"
   ]
  },
  {
   "cell_type": "code",
   "execution_count": null,
   "id": "f023cee9-e59e-44b2-9cb8-e70cef4f8548",
   "metadata": {},
   "outputs": [],
   "source": []
  },
  {
   "cell_type": "code",
   "execution_count": 94,
   "id": "56e6b5b2-94f9-4f94-8290-878f6f0ca09c",
   "metadata": {},
   "outputs": [
    {
     "data": {
      "text/html": [
       "<div>\n",
       "<style scoped>\n",
       "    .dataframe tbody tr th:only-of-type {\n",
       "        vertical-align: middle;\n",
       "    }\n",
       "\n",
       "    .dataframe tbody tr th {\n",
       "        vertical-align: top;\n",
       "    }\n",
       "\n",
       "    .dataframe thead th {\n",
       "        text-align: right;\n",
       "    }\n",
       "</style>\n",
       "<table border=\"1\" class=\"dataframe\">\n",
       "  <thead>\n",
       "    <tr style=\"text-align: right;\">\n",
       "      <th></th>\n",
       "      <th>AAAAAAAAAAAAAAAAAAAAAAAAAAA</th>\n",
       "      <th>GGGATTACAGGCACCTGCCACCACACC</th>\n",
       "      <th>GCCTGGCTAATTTTTATATTTTTAGTA</th>\n",
       "      <th>GGCTGGGCACGGTGGCTCACGCCTGTA</th>\n",
       "      <th>AGGCAGGAGAATGGCATGAACCCGGGA</th>\n",
       "      <th>GCTTCTGCACAGCAAAAGAAACTATCA</th>\n",
       "      <th>ACGCCATTGCACTCCAGCCTGGGCAAC</th>\n",
       "      <th>TCTTGGGAGGGTGTATGTGTCGAGGAA</th>\n",
       "      <th>AGTCTTGCTCTGTCTCCCAGGCTGGAG</th>\n",
       "      <th>CCAAAAAAGAGCCCGCATTGCCAAGTC</th>\n",
       "      <th>...</th>\n",
       "      <th>GGATCGCTTGAGCCCAGGAGTTTGAGA</th>\n",
       "      <th>AAAAAAAAAAAAAAAAGAAAAAAAAAA</th>\n",
       "      <th>GCAGTGAGCTATGATTGCACCACTGCA</th>\n",
       "      <th>ATTCTCCTGCCTCAGCCTCCCGAGTAC</th>\n",
       "      <th>GAAGGAAGGGAGGGAGGGAGGGAGGGA</th>\n",
       "      <th>AACTTAAAGTATAATAATAAAAAAAAA</th>\n",
       "      <th>GGAGTGCAGTGGCACAATCATGGCTCA</th>\n",
       "      <th>CTCCTAATGCTATCCCTCCCCTAGCCC</th>\n",
       "      <th>CGTCTCAAAAAAAAAAAAAAAAAGAAA</th>\n",
       "      <th>ATTGTTCAATTCCCATCTATGAGTGAG</th>\n",
       "    </tr>\n",
       "    <tr>\n",
       "      <th>sample_id</th>\n",
       "      <th></th>\n",
       "      <th></th>\n",
       "      <th></th>\n",
       "      <th></th>\n",
       "      <th></th>\n",
       "      <th></th>\n",
       "      <th></th>\n",
       "      <th></th>\n",
       "      <th></th>\n",
       "      <th></th>\n",
       "      <th></th>\n",
       "      <th></th>\n",
       "      <th></th>\n",
       "      <th></th>\n",
       "      <th></th>\n",
       "      <th></th>\n",
       "      <th></th>\n",
       "      <th></th>\n",
       "      <th></th>\n",
       "      <th></th>\n",
       "      <th></th>\n",
       "    </tr>\n",
       "  </thead>\n",
       "  <tbody>\n",
       "    <tr>\n",
       "      <th>NA19720</th>\n",
       "      <td>184202</td>\n",
       "      <td>1362</td>\n",
       "      <td>1376</td>\n",
       "      <td>3065</td>\n",
       "      <td>5756</td>\n",
       "      <td>3408</td>\n",
       "      <td>3288</td>\n",
       "      <td>1143</td>\n",
       "      <td>1514</td>\n",
       "      <td>1394</td>\n",
       "      <td>...</td>\n",
       "      <td>0.0</td>\n",
       "      <td>0.0</td>\n",
       "      <td>0.0</td>\n",
       "      <td>0.0</td>\n",
       "      <td>0.0</td>\n",
       "      <td>0.0</td>\n",
       "      <td>0.0</td>\n",
       "      <td>0.0</td>\n",
       "      <td>0.0</td>\n",
       "      <td>0.0</td>\n",
       "    </tr>\n",
       "    <tr>\n",
       "      <th>NA19719</th>\n",
       "      <td>184095</td>\n",
       "      <td>1371</td>\n",
       "      <td>1388</td>\n",
       "      <td>3083</td>\n",
       "      <td>5722</td>\n",
       "      <td>3408</td>\n",
       "      <td>3282</td>\n",
       "      <td>1147</td>\n",
       "      <td>1502</td>\n",
       "      <td>1401</td>\n",
       "      <td>...</td>\n",
       "      <td>0.0</td>\n",
       "      <td>0.0</td>\n",
       "      <td>0.0</td>\n",
       "      <td>0.0</td>\n",
       "      <td>0.0</td>\n",
       "      <td>0.0</td>\n",
       "      <td>0.0</td>\n",
       "      <td>0.0</td>\n",
       "      <td>0.0</td>\n",
       "      <td>0.0</td>\n",
       "    </tr>\n",
       "    <tr>\n",
       "      <th>NA19678</th>\n",
       "      <td>184783</td>\n",
       "      <td>1387</td>\n",
       "      <td>1386</td>\n",
       "      <td>3053</td>\n",
       "      <td>5746</td>\n",
       "      <td>3397</td>\n",
       "      <td>3275</td>\n",
       "      <td>1148</td>\n",
       "      <td>1499</td>\n",
       "      <td>1397</td>\n",
       "      <td>...</td>\n",
       "      <td>0.0</td>\n",
       "      <td>0.0</td>\n",
       "      <td>0.0</td>\n",
       "      <td>0.0</td>\n",
       "      <td>0.0</td>\n",
       "      <td>0.0</td>\n",
       "      <td>0.0</td>\n",
       "      <td>0.0</td>\n",
       "      <td>0.0</td>\n",
       "      <td>0.0</td>\n",
       "    </tr>\n",
       "    <tr>\n",
       "      <th>NA19676</th>\n",
       "      <td>183970</td>\n",
       "      <td>1389</td>\n",
       "      <td>1390</td>\n",
       "      <td>3065</td>\n",
       "      <td>5722</td>\n",
       "      <td>3402</td>\n",
       "      <td>3279</td>\n",
       "      <td>1143</td>\n",
       "      <td>1507</td>\n",
       "      <td>1395</td>\n",
       "      <td>...</td>\n",
       "      <td>0.0</td>\n",
       "      <td>0.0</td>\n",
       "      <td>0.0</td>\n",
       "      <td>0.0</td>\n",
       "      <td>0.0</td>\n",
       "      <td>0.0</td>\n",
       "      <td>0.0</td>\n",
       "      <td>0.0</td>\n",
       "      <td>0.0</td>\n",
       "      <td>0.0</td>\n",
       "    </tr>\n",
       "    <tr>\n",
       "      <th>NA19468</th>\n",
       "      <td>182214</td>\n",
       "      <td>1462</td>\n",
       "      <td>1387</td>\n",
       "      <td>3084</td>\n",
       "      <td>5750</td>\n",
       "      <td>3413</td>\n",
       "      <td>3287</td>\n",
       "      <td>1146</td>\n",
       "      <td>1514</td>\n",
       "      <td>1397</td>\n",
       "      <td>...</td>\n",
       "      <td>0.0</td>\n",
       "      <td>0.0</td>\n",
       "      <td>0.0</td>\n",
       "      <td>0.0</td>\n",
       "      <td>0.0</td>\n",
       "      <td>0.0</td>\n",
       "      <td>0.0</td>\n",
       "      <td>0.0</td>\n",
       "      <td>0.0</td>\n",
       "      <td>0.0</td>\n",
       "    </tr>\n",
       "  </tbody>\n",
       "</table>\n",
       "<p>5 rows × 32330 columns</p>\n",
       "</div>"
      ],
      "text/plain": [
       "           AAAAAAAAAAAAAAAAAAAAAAAAAAA  GGGATTACAGGCACCTGCCACCACACC  \\\n",
       "sample_id                                                             \n",
       "NA19720                         184202                         1362   \n",
       "NA19719                         184095                         1371   \n",
       "NA19678                         184783                         1387   \n",
       "NA19676                         183970                         1389   \n",
       "NA19468                         182214                         1462   \n",
       "\n",
       "           GCCTGGCTAATTTTTATATTTTTAGTA  GGCTGGGCACGGTGGCTCACGCCTGTA  \\\n",
       "sample_id                                                             \n",
       "NA19720                           1376                         3065   \n",
       "NA19719                           1388                         3083   \n",
       "NA19678                           1386                         3053   \n",
       "NA19676                           1390                         3065   \n",
       "NA19468                           1387                         3084   \n",
       "\n",
       "           AGGCAGGAGAATGGCATGAACCCGGGA  GCTTCTGCACAGCAAAAGAAACTATCA  \\\n",
       "sample_id                                                             \n",
       "NA19720                           5756                         3408   \n",
       "NA19719                           5722                         3408   \n",
       "NA19678                           5746                         3397   \n",
       "NA19676                           5722                         3402   \n",
       "NA19468                           5750                         3413   \n",
       "\n",
       "           ACGCCATTGCACTCCAGCCTGGGCAAC  TCTTGGGAGGGTGTATGTGTCGAGGAA  \\\n",
       "sample_id                                                             \n",
       "NA19720                           3288                         1143   \n",
       "NA19719                           3282                         1147   \n",
       "NA19678                           3275                         1148   \n",
       "NA19676                           3279                         1143   \n",
       "NA19468                           3287                         1146   \n",
       "\n",
       "           AGTCTTGCTCTGTCTCCCAGGCTGGAG  CCAAAAAAGAGCCCGCATTGCCAAGTC  ...  \\\n",
       "sample_id                                                            ...   \n",
       "NA19720                           1514                         1394  ...   \n",
       "NA19719                           1502                         1401  ...   \n",
       "NA19678                           1499                         1397  ...   \n",
       "NA19676                           1507                         1395  ...   \n",
       "NA19468                           1514                         1397  ...   \n",
       "\n",
       "           GGATCGCTTGAGCCCAGGAGTTTGAGA  AAAAAAAAAAAAAAAAGAAAAAAAAAA  \\\n",
       "sample_id                                                             \n",
       "NA19720                            0.0                          0.0   \n",
       "NA19719                            0.0                          0.0   \n",
       "NA19678                            0.0                          0.0   \n",
       "NA19676                            0.0                          0.0   \n",
       "NA19468                            0.0                          0.0   \n",
       "\n",
       "           GCAGTGAGCTATGATTGCACCACTGCA  ATTCTCCTGCCTCAGCCTCCCGAGTAC  \\\n",
       "sample_id                                                             \n",
       "NA19720                            0.0                          0.0   \n",
       "NA19719                            0.0                          0.0   \n",
       "NA19678                            0.0                          0.0   \n",
       "NA19676                            0.0                          0.0   \n",
       "NA19468                            0.0                          0.0   \n",
       "\n",
       "           GAAGGAAGGGAGGGAGGGAGGGAGGGA  AACTTAAAGTATAATAATAAAAAAAAA  \\\n",
       "sample_id                                                             \n",
       "NA19720                            0.0                          0.0   \n",
       "NA19719                            0.0                          0.0   \n",
       "NA19678                            0.0                          0.0   \n",
       "NA19676                            0.0                          0.0   \n",
       "NA19468                            0.0                          0.0   \n",
       "\n",
       "           GGAGTGCAGTGGCACAATCATGGCTCA  CTCCTAATGCTATCCCTCCCCTAGCCC  \\\n",
       "sample_id                                                             \n",
       "NA19720                            0.0                          0.0   \n",
       "NA19719                            0.0                          0.0   \n",
       "NA19678                            0.0                          0.0   \n",
       "NA19676                            0.0                          0.0   \n",
       "NA19468                            0.0                          0.0   \n",
       "\n",
       "           CGTCTCAAAAAAAAAAAAAAAAAGAAA  ATTGTTCAATTCCCATCTATGAGTGAG  \n",
       "sample_id                                                            \n",
       "NA19720                            0.0                          0.0  \n",
       "NA19719                            0.0                          0.0  \n",
       "NA19678                            0.0                          0.0  \n",
       "NA19676                            0.0                          0.0  \n",
       "NA19468                            0.0                          0.0  \n",
       "\n",
       "[5 rows x 32330 columns]"
      ]
     },
     "execution_count": 94,
     "metadata": {},
     "output_type": "execute_result"
    }
   ],
   "source": [
    "X.head()"
   ]
  },
  {
   "cell_type": "code",
   "execution_count": 95,
   "id": "c79ffb98-f01f-4313-9dd4-c74b7da1c91b",
   "metadata": {},
   "outputs": [],
   "source": [
    "X_train, X_test, y_train, y_test = train_test_split(X,y,test_size=0.2, random_state=42,stratify=y)"
   ]
  },
  {
   "cell_type": "code",
   "execution_count": 96,
   "id": "7bbba2de-4b0c-4971-b10d-7ce6a3193466",
   "metadata": {},
   "outputs": [
    {
     "data": {
      "text/html": [
       "<style>#sk-container-id-8 {color: black;background-color: white;}#sk-container-id-8 pre{padding: 0;}#sk-container-id-8 div.sk-toggleable {background-color: white;}#sk-container-id-8 label.sk-toggleable__label {cursor: pointer;display: block;width: 100%;margin-bottom: 0;padding: 0.3em;box-sizing: border-box;text-align: center;}#sk-container-id-8 label.sk-toggleable__label-arrow:before {content: \"▸\";float: left;margin-right: 0.25em;color: #696969;}#sk-container-id-8 label.sk-toggleable__label-arrow:hover:before {color: black;}#sk-container-id-8 div.sk-estimator:hover label.sk-toggleable__label-arrow:before {color: black;}#sk-container-id-8 div.sk-toggleable__content {max-height: 0;max-width: 0;overflow: hidden;text-align: left;background-color: #f0f8ff;}#sk-container-id-8 div.sk-toggleable__content pre {margin: 0.2em;color: black;border-radius: 0.25em;background-color: #f0f8ff;}#sk-container-id-8 input.sk-toggleable__control:checked~div.sk-toggleable__content {max-height: 200px;max-width: 100%;overflow: auto;}#sk-container-id-8 input.sk-toggleable__control:checked~label.sk-toggleable__label-arrow:before {content: \"▾\";}#sk-container-id-8 div.sk-estimator input.sk-toggleable__control:checked~label.sk-toggleable__label {background-color: #d4ebff;}#sk-container-id-8 div.sk-label input.sk-toggleable__control:checked~label.sk-toggleable__label {background-color: #d4ebff;}#sk-container-id-8 input.sk-hidden--visually {border: 0;clip: rect(1px 1px 1px 1px);clip: rect(1px, 1px, 1px, 1px);height: 1px;margin: -1px;overflow: hidden;padding: 0;position: absolute;width: 1px;}#sk-container-id-8 div.sk-estimator {font-family: monospace;background-color: #f0f8ff;border: 1px dotted black;border-radius: 0.25em;box-sizing: border-box;margin-bottom: 0.5em;}#sk-container-id-8 div.sk-estimator:hover {background-color: #d4ebff;}#sk-container-id-8 div.sk-parallel-item::after {content: \"\";width: 100%;border-bottom: 1px solid gray;flex-grow: 1;}#sk-container-id-8 div.sk-label:hover label.sk-toggleable__label {background-color: #d4ebff;}#sk-container-id-8 div.sk-serial::before {content: \"\";position: absolute;border-left: 1px solid gray;box-sizing: border-box;top: 0;bottom: 0;left: 50%;z-index: 0;}#sk-container-id-8 div.sk-serial {display: flex;flex-direction: column;align-items: center;background-color: white;padding-right: 0.2em;padding-left: 0.2em;position: relative;}#sk-container-id-8 div.sk-item {position: relative;z-index: 1;}#sk-container-id-8 div.sk-parallel {display: flex;align-items: stretch;justify-content: center;background-color: white;position: relative;}#sk-container-id-8 div.sk-item::before, #sk-container-id-8 div.sk-parallel-item::before {content: \"\";position: absolute;border-left: 1px solid gray;box-sizing: border-box;top: 0;bottom: 0;left: 50%;z-index: -1;}#sk-container-id-8 div.sk-parallel-item {display: flex;flex-direction: column;z-index: 1;position: relative;background-color: white;}#sk-container-id-8 div.sk-parallel-item:first-child::after {align-self: flex-end;width: 50%;}#sk-container-id-8 div.sk-parallel-item:last-child::after {align-self: flex-start;width: 50%;}#sk-container-id-8 div.sk-parallel-item:only-child::after {width: 0;}#sk-container-id-8 div.sk-dashed-wrapped {border: 1px dashed gray;margin: 0 0.4em 0.5em 0.4em;box-sizing: border-box;padding-bottom: 0.4em;background-color: white;}#sk-container-id-8 div.sk-label label {font-family: monospace;font-weight: bold;display: inline-block;line-height: 1.2em;}#sk-container-id-8 div.sk-label-container {text-align: center;}#sk-container-id-8 div.sk-container {/* jupyter's `normalize.less` sets `[hidden] { display: none; }` but bootstrap.min.css set `[hidden] { display: none !important; }` so we also need the `!important` here to be able to override the default hidden behavior on the sphinx rendered scikit-learn.org. See: https://github.com/scikit-learn/scikit-learn/issues/21755 */display: inline-block !important;position: relative;}#sk-container-id-8 div.sk-text-repr-fallback {display: none;}</style><div id=\"sk-container-id-8\" class=\"sk-top-container\"><div class=\"sk-text-repr-fallback\"><pre>Pipeline(steps=[(&#x27;standardscaler&#x27;, StandardScaler()),\n",
       "                (&#x27;decisiontreeclassifier&#x27;,\n",
       "                 DecisionTreeClassifier(max_depth=6, random_state=42))])</pre><b>In a Jupyter environment, please rerun this cell to show the HTML representation or trust the notebook. <br />On GitHub, the HTML representation is unable to render, please try loading this page with nbviewer.org.</b></div><div class=\"sk-container\" hidden><div class=\"sk-item sk-dashed-wrapped\"><div class=\"sk-label-container\"><div class=\"sk-label sk-toggleable\"><input class=\"sk-toggleable__control sk-hidden--visually\" id=\"sk-estimator-id-18\" type=\"checkbox\" ><label for=\"sk-estimator-id-18\" class=\"sk-toggleable__label sk-toggleable__label-arrow\">Pipeline</label><div class=\"sk-toggleable__content\"><pre>Pipeline(steps=[(&#x27;standardscaler&#x27;, StandardScaler()),\n",
       "                (&#x27;decisiontreeclassifier&#x27;,\n",
       "                 DecisionTreeClassifier(max_depth=6, random_state=42))])</pre></div></div></div><div class=\"sk-serial\"><div class=\"sk-item\"><div class=\"sk-estimator sk-toggleable\"><input class=\"sk-toggleable__control sk-hidden--visually\" id=\"sk-estimator-id-19\" type=\"checkbox\" ><label for=\"sk-estimator-id-19\" class=\"sk-toggleable__label sk-toggleable__label-arrow\">StandardScaler</label><div class=\"sk-toggleable__content\"><pre>StandardScaler()</pre></div></div></div><div class=\"sk-item\"><div class=\"sk-estimator sk-toggleable\"><input class=\"sk-toggleable__control sk-hidden--visually\" id=\"sk-estimator-id-20\" type=\"checkbox\" ><label for=\"sk-estimator-id-20\" class=\"sk-toggleable__label sk-toggleable__label-arrow\">DecisionTreeClassifier</label><div class=\"sk-toggleable__content\"><pre>DecisionTreeClassifier(max_depth=6, random_state=42)</pre></div></div></div></div></div></div></div>"
      ],
      "text/plain": [
       "Pipeline(steps=[('standardscaler', StandardScaler()),\n",
       "                ('decisiontreeclassifier',\n",
       "                 DecisionTreeClassifier(max_depth=6, random_state=42))])"
      ]
     },
     "execution_count": 96,
     "metadata": {},
     "output_type": "execute_result"
    }
   ],
   "source": [
    "# Build Model\n",
    "model = make_pipeline(StandardScaler(),DecisionTreeClassifier(max_depth=6,random_state=42))\n",
    "# Fit model to training data\n",
    "model.fit(X_train,y_train)"
   ]
  },
  {
   "cell_type": "code",
   "execution_count": 97,
   "id": "d0f3ab1f-3641-4594-9eba-012652807fb7",
   "metadata": {},
   "outputs": [
    {
     "name": "stdout",
     "output_type": "stream",
     "text": [
      "Training Accuracy: 1.0\n",
      "Test Accuracy: 0.6667\n"
     ]
    }
   ],
   "source": [
    "acc_train = model.score(X_train,y_train)\n",
    "acc_test =model.score(X_test,y_test)\n",
    "print(\"Training Accuracy:\", round(acc_train, 4))\n",
    "print(\"Test Accuracy:\", round(acc_test, 4))"
   ]
  },
  {
   "cell_type": "code",
   "execution_count": null,
   "id": "c0397fb2-e064-4ad4-9266-7101e24dc562",
   "metadata": {},
   "outputs": [],
   "source": [
    "model.p"
   ]
  },
  {
   "cell_type": "code",
   "execution_count": 99,
   "id": "07f50d63-380b-4ec8-9220-172382930f74",
   "metadata": {},
   "outputs": [
    {
     "data": {
      "text/plain": [
       "array([[0., 1., 0.],\n",
       "       [0., 1., 0.],\n",
       "       [1., 0., 0.]])"
      ]
     },
     "execution_count": 99,
     "metadata": {},
     "output_type": "execute_result"
    }
   ],
   "source": [
    "model.predict_proba(X_test)"
   ]
  },
  {
   "cell_type": "code",
   "execution_count": 100,
   "id": "3c94c982-74c0-4dff-9bbe-ada9b0776082",
   "metadata": {},
   "outputs": [
    {
     "data": {
      "text/plain": [
       "sample_id\n",
       "HG00235    2\n",
       "NA19454    1\n",
       "NA19678    0\n",
       "Name: Population, dtype: int64"
      ]
     },
     "execution_count": 100,
     "metadata": {},
     "output_type": "execute_result"
    }
   ],
   "source": [
    "y_test"
   ]
  },
  {
   "cell_type": "code",
   "execution_count": 101,
   "id": "9fb9ea23-5516-4666-8712-b535fd471eb2",
   "metadata": {},
   "outputs": [
    {
     "data": {
      "text/plain": [
       "array([1, 1, 0])"
      ]
     },
     "execution_count": 101,
     "metadata": {},
     "output_type": "execute_result"
    }
   ],
   "source": [
    "model.predict(X_test)"
   ]
  },
  {
   "cell_type": "code",
   "execution_count": 105,
   "id": "8d192446-cd50-4104-b812-98627d7acdb8",
   "metadata": {},
   "outputs": [
    {
     "data": {
      "text/plain": [
       "<AxesSubplot:>"
      ]
     },
     "execution_count": 105,
     "metadata": {},
     "output_type": "execute_result"
    },
    {
     "data": {
      "image/png": "[encoded data removed]",
      "text/plain": [
       "<Figure size 432x288 with 1 Axes>"
      ]
     },
     "metadata": {
      "needs_background": "light"
     },
     "output_type": "display_data"
    }
   ],
   "source": [
    "# Get importances\n",
    "importances = model.named_steps[\"decisiontreeclassifier\"].feature_importances_\n",
    "\n",
    "\n",
    "# Put importances into a Series\n",
    "feat_imp = pd.Series(importances,index=X_train.columns).sort_values()\n",
    "\n",
    "# Plot series\n",
    "feat_imp.tail(15).plot(kind=\"barh\")\n"
   ]
  },
  {
   "cell_type": "code",
   "execution_count": null,
   "id": "8588f40f-836f-4f3b-991f-201ede9c6962",
   "metadata": {},
   "outputs": [],
   "source": []
  },
  {
   "cell_type": "code",
   "execution_count": 106,
   "id": "da3491a4-a863-43dd-811d-566bd8497fc1",
   "metadata": {},
   "outputs": [
    {
     "ename": "TypeError",
     "evalue": "Cannot use method 'nlargest' with dtype object",
     "output_type": "error",
     "traceback": [
      "\u001b[0;31m---------------------------------------------------------------------------\u001b[0m",
      "\u001b[0;31mTypeError\u001b[0m                                 Traceback (most recent call last)",
      "Input \u001b[0;32mIn [106]\u001b[0m, in \u001b[0;36m<cell line: 2>\u001b[0;34m()\u001b[0m\n\u001b[1;32m      1\u001b[0m feat_importances \u001b[38;5;241m=\u001b[39m pd\u001b[38;5;241m.\u001b[39mSeries(model\u001b[38;5;241m.\u001b[39mnamed_steps[\u001b[38;5;124m\"\u001b[39m\u001b[38;5;124mdecisiontreeclassifier\u001b[39m\u001b[38;5;124m\"\u001b[39m], index\u001b[38;5;241m=\u001b[39mX\u001b[38;5;241m.\u001b[39mcolumns)\n\u001b[0;32m----> 2\u001b[0m \u001b[43mfeat_importances\u001b[49m\u001b[38;5;241;43m.\u001b[39;49m\u001b[43mnlargest\u001b[49m\u001b[43m(\u001b[49m\u001b[38;5;241;43m10\u001b[39;49m\u001b[43m)\u001b[49m\u001b[38;5;241m.\u001b[39mplot(kind\u001b[38;5;241m=\u001b[39m\u001b[38;5;124m'\u001b[39m\u001b[38;5;124mbarh\u001b[39m\u001b[38;5;124m'\u001b[39m)\n\u001b[1;32m      3\u001b[0m plt\u001b[38;5;241m.\u001b[39mshow()\n",
      "File \u001b[0;32m~/yes/envs/CADD/lib/python3.10/site-packages/pandas/core/series.py:3836\u001b[0m, in \u001b[0;36mSeries.nlargest\u001b[0;34m(self, n, keep)\u001b[0m\n\u001b[1;32m   3740\u001b[0m \u001b[38;5;28;01mdef\u001b[39;00m \u001b[38;5;21mnlargest\u001b[39m(\u001b[38;5;28mself\u001b[39m, n\u001b[38;5;241m=\u001b[39m\u001b[38;5;241m5\u001b[39m, keep\u001b[38;5;241m=\u001b[39m\u001b[38;5;124m\"\u001b[39m\u001b[38;5;124mfirst\u001b[39m\u001b[38;5;124m\"\u001b[39m) \u001b[38;5;241m-\u001b[39m\u001b[38;5;241m>\u001b[39m Series:\n\u001b[1;32m   3741\u001b[0m     \u001b[38;5;124;03m\"\"\"\u001b[39;00m\n\u001b[1;32m   3742\u001b[0m \u001b[38;5;124;03m    Return the largest `n` elements.\u001b[39;00m\n\u001b[1;32m   3743\u001b[0m \n\u001b[0;32m   (...)\u001b[0m\n\u001b[1;32m   3834\u001b[0m \u001b[38;5;124;03m    dtype: int64\u001b[39;00m\n\u001b[1;32m   3835\u001b[0m \u001b[38;5;124;03m    \"\"\"\u001b[39;00m\n\u001b[0;32m-> 3836\u001b[0m     \u001b[38;5;28;01mreturn\u001b[39;00m \u001b[43malgorithms\u001b[49m\u001b[38;5;241;43m.\u001b[39;49m\u001b[43mSelectNSeries\u001b[49m\u001b[43m(\u001b[49m\u001b[38;5;28;43mself\u001b[39;49m\u001b[43m,\u001b[49m\u001b[43m \u001b[49m\u001b[43mn\u001b[49m\u001b[38;5;241;43m=\u001b[39;49m\u001b[43mn\u001b[49m\u001b[43m,\u001b[49m\u001b[43m \u001b[49m\u001b[43mkeep\u001b[49m\u001b[38;5;241;43m=\u001b[39;49m\u001b[43mkeep\u001b[49m\u001b[43m)\u001b[49m\u001b[38;5;241;43m.\u001b[39;49m\u001b[43mnlargest\u001b[49m\u001b[43m(\u001b[49m\u001b[43m)\u001b[49m\n",
      "File \u001b[0;32m~/yes/envs/CADD/lib/python3.10/site-packages/pandas/core/algorithms.py:1137\u001b[0m, in \u001b[0;36mSelectN.nlargest\u001b[0;34m(self)\u001b[0m\n\u001b[1;32m   1135\u001b[0m \u001b[38;5;129m@final\u001b[39m\n\u001b[1;32m   1136\u001b[0m \u001b[38;5;28;01mdef\u001b[39;00m \u001b[38;5;21mnlargest\u001b[39m(\u001b[38;5;28mself\u001b[39m):\n\u001b[0;32m-> 1137\u001b[0m     \u001b[38;5;28;01mreturn\u001b[39;00m \u001b[38;5;28;43mself\u001b[39;49m\u001b[38;5;241;43m.\u001b[39;49m\u001b[43mcompute\u001b[49m\u001b[43m(\u001b[49m\u001b[38;5;124;43m\"\u001b[39;49m\u001b[38;5;124;43mnlargest\u001b[39;49m\u001b[38;5;124;43m\"\u001b[39;49m\u001b[43m)\u001b[49m\n",
      "File \u001b[0;32m~/yes/envs/CADD/lib/python3.10/site-packages/pandas/core/algorithms.py:1177\u001b[0m, in \u001b[0;36mSelectNSeries.compute\u001b[0;34m(self, method)\u001b[0m\n\u001b[1;32m   1175\u001b[0m dtype \u001b[38;5;241m=\u001b[39m \u001b[38;5;28mself\u001b[39m\u001b[38;5;241m.\u001b[39mobj\u001b[38;5;241m.\u001b[39mdtype\n\u001b[1;32m   1176\u001b[0m \u001b[38;5;28;01mif\u001b[39;00m \u001b[38;5;129;01mnot\u001b[39;00m \u001b[38;5;28mself\u001b[39m\u001b[38;5;241m.\u001b[39mis_valid_dtype_n_method(dtype):\n\u001b[0;32m-> 1177\u001b[0m     \u001b[38;5;28;01mraise\u001b[39;00m \u001b[38;5;167;01mTypeError\u001b[39;00m(\u001b[38;5;124mf\u001b[39m\u001b[38;5;124m\"\u001b[39m\u001b[38;5;124mCannot use method \u001b[39m\u001b[38;5;124m'\u001b[39m\u001b[38;5;132;01m{\u001b[39;00mmethod\u001b[38;5;132;01m}\u001b[39;00m\u001b[38;5;124m'\u001b[39m\u001b[38;5;124m with dtype \u001b[39m\u001b[38;5;132;01m{\u001b[39;00mdtype\u001b[38;5;132;01m}\u001b[39;00m\u001b[38;5;124m\"\u001b[39m)\n\u001b[1;32m   1179\u001b[0m \u001b[38;5;28;01mif\u001b[39;00m n \u001b[38;5;241m<\u001b[39m\u001b[38;5;241m=\u001b[39m \u001b[38;5;241m0\u001b[39m:\n\u001b[1;32m   1180\u001b[0m     \u001b[38;5;28;01mreturn\u001b[39;00m \u001b[38;5;28mself\u001b[39m\u001b[38;5;241m.\u001b[39mobj[[]]\n",
      "\u001b[0;31mTypeError\u001b[0m: Cannot use method 'nlargest' with dtype object"
     ]
    }
   ],
   "source": [
    "feat_importances = pd.Series(model.named_steps[\"decisiontreeclassifier\"], index=X.columns)\n",
    "feat_importances.nlargest(10).plot(kind='barh')\n",
    "plt.show()"
   ]
  },
  {
   "cell_type": "code",
   "execution_count": 107,
   "id": "5e9699f8-5580-42b4-8c4b-05ab9a1e7f22",
   "metadata": {},
   "outputs": [],
   "source": [
    "# Save your model as `\"model-5-2.pkl\"`\n",
    "with open(\"ANCmodel.pkl\",\"wb\") as f:\n",
    "    pickle.dump(model,f)"
   ]
  },
  {
   "cell_type": "code",
   "execution_count": 52,
   "id": "958daf86-4f81-406a-a4d5-0d4d24714841",
   "metadata": {},
   "outputs": [],
   "source": [
    "import pickle"
   ]
  },
  {
   "cell_type": "code",
   "execution_count": 108,
   "id": "da61dc54-3872-44f5-866c-06cdc93dec53",
   "metadata": {},
   "outputs": [
    {
     "name": "stdout",
     "output_type": "stream",
     "text": [
      "Pipeline(steps=[('standardscaler', StandardScaler()),\n",
      "                ('decisiontreeclassifier',\n",
      "                 DecisionTreeClassifier(max_depth=6, random_state=42))])\n"
     ]
    }
   ],
   "source": [
    "# Load `\"model-5-2.pkl\"`\n",
    "with open(\"ANCmodel.pkl\",\"rb\") as f:\n",
    "    loaded_model=pickle.load(f)\n",
    "print(loaded_model)"
   ]
  },
  {
   "cell_type": "code",
   "execution_count": 117,
   "id": "efa8485a-24ee-474e-95e3-90f52b360ef3",
   "metadata": {},
   "outputs": [
    {
     "data": {
      "text/plain": [
       "array([1, 1, 0])"
      ]
     },
     "execution_count": 117,
     "metadata": {},
     "output_type": "execute_result"
    }
   ],
   "source": [
    "loaded_model.predict(X_test)"
   ]
  },
  {
   "cell_type": "code",
   "execution_count": 118,
   "id": "f31ea018-49a2-4bfd-b3da-3f37499a0d8c",
   "metadata": {},
   "outputs": [
    {
     "data": {
      "text/plain": [
       "array([[0., 1., 0.],\n",
       "       [0., 1., 0.],\n",
       "       [1., 0., 0.]])"
      ]
     },
     "execution_count": 118,
     "metadata": {},
     "output_type": "execute_result"
    }
   ],
   "source": [
    "loaded_model.predict_proba(X_test)"
   ]
  },
  {
   "cell_type": "code",
   "execution_count": 58,
   "id": "648865a2-153f-43f4-a1a8-9d41d4e191b8",
   "metadata": {},
   "outputs": [
    {
     "name": "stdout",
     "output_type": "stream",
     "text": [
      "1.0\n",
      "0.6666666666666666\n"
     ]
    }
   ],
   "source": [
    "from sklearn.metrics import accuracy_score, confusion_matrix\n",
    "  \n",
    "\n",
    "from sklearn.svm import SVC\n",
    "  \n",
    "# Building a Support Vector Machine on train data\n",
    "svc_model = SVC(C= .1, kernel='linear', gamma= 1)\n",
    "svc_model.fit(X_train, y_train)\n",
    "  \n",
    "prediction = svc_model.predict(X_test)\n",
    "# check the accuracy on the training set\n",
    "print(svc_model.score(X_train, y_train))\n",
    "print(svc_model.score(X_test, y_test))"
   ]
  },
  {
   "cell_type": "code",
   "execution_count": 114,
   "id": "200cd496-08d9-4243-ad96-0e820b15a893",
   "metadata": {},
   "outputs": [
    {
     "ename": "AttributeError",
     "evalue": "'numpy.ndarray' object has no attribute 'score'",
     "output_type": "error",
     "traceback": [
      "\u001b[0;31m---------------------------------------------------------------------------\u001b[0m",
      "\u001b[0;31mAttributeError\u001b[0m                            Traceback (most recent call last)",
      "Input \u001b[0;32mIn [114]\u001b[0m, in \u001b[0;36m<cell line: 1>\u001b[0;34m()\u001b[0m\n\u001b[0;32m----> 1\u001b[0m \u001b[43mprediction\u001b[49m\u001b[38;5;241;43m.\u001b[39;49m\u001b[43mscore\u001b[49m(X_test)\n",
      "\u001b[0;31mAttributeError\u001b[0m: 'numpy.ndarray' object has no attribute 'score'"
     ]
    }
   ],
   "source": [
    "prediction.score(X_test)"
   ]
  },
  {
   "cell_type": "code",
   "execution_count": 64,
   "id": "d1a8a3c1-1567-4d4a-8016-0e75b10c7c90",
   "metadata": {},
   "outputs": [
    {
     "name": "stdout",
     "output_type": "stream",
     "text": [
      "Confusion Matrix:\n",
      " [[0 0 0]\n",
      " [1 1 0]\n",
      " [0 0 1]]\n"
     ]
    }
   ],
   "source": [
    "print(\"Confusion Matrix:\\n\",confusion_matrix(prediction,y_test))"
   ]
  },
  {
   "cell_type": "code",
   "execution_count": 65,
   "id": "509a7658-969e-4124-819d-3c500de3fd3a",
   "metadata": {},
   "outputs": [
    {
     "name": "stdout",
     "output_type": "stream",
     "text": [
      "0.8888888888888888\n",
      "0.6666666666666666\n"
     ]
    }
   ],
   "source": [
    "svc_model = SVC(kernel='sigmoid')\n",
    "svc_model.fit(X_train, y_train)\n",
    "  \n",
    "prediction = svc_model.predict(X_test)\n",
    "  \n",
    "print(svc_model.score(X_train, y_train))\n",
    "print(svc_model.score(X_test, y_test))"
   ]
  },
  {
   "cell_type": "code",
   "execution_count": 66,
   "id": "6f49b49a-78c7-479b-b0cf-465278723a3f",
   "metadata": {},
   "outputs": [
    {
     "name": "stdout",
     "output_type": "stream",
     "text": [
      "Confusion Matrix:\n",
      " [[0 0 0]\n",
      " [1 1 0]\n",
      " [0 0 1]]\n"
     ]
    }
   ],
   "source": [
    "print(\"Confusion Matrix:\\n\",confusion_matrix(prediction,y_test))"
   ]
  },
  {
   "cell_type": "code",
   "execution_count": 67,
   "id": "577ad60d-2054-42e6-9984-887a3a54ed52",
   "metadata": {},
   "outputs": [
    {
     "data": {
      "text/html": [
       "<style>#sk-container-id-5 {color: black;background-color: white;}#sk-container-id-5 pre{padding: 0;}#sk-container-id-5 div.sk-toggleable {background-color: white;}#sk-container-id-5 label.sk-toggleable__label {cursor: pointer;display: block;width: 100%;margin-bottom: 0;padding: 0.3em;box-sizing: border-box;text-align: center;}#sk-container-id-5 label.sk-toggleable__label-arrow:before {content: \"▸\";float: left;margin-right: 0.25em;color: #696969;}#sk-container-id-5 label.sk-toggleable__label-arrow:hover:before {color: black;}#sk-container-id-5 div.sk-estimator:hover label.sk-toggleable__label-arrow:before {color: black;}#sk-container-id-5 div.sk-toggleable__content {max-height: 0;max-width: 0;overflow: hidden;text-align: left;background-color: #f0f8ff;}#sk-container-id-5 div.sk-toggleable__content pre {margin: 0.2em;color: black;border-radius: 0.25em;background-color: #f0f8ff;}#sk-container-id-5 input.sk-toggleable__control:checked~div.sk-toggleable__content {max-height: 200px;max-width: 100%;overflow: auto;}#sk-container-id-5 input.sk-toggleable__control:checked~label.sk-toggleable__label-arrow:before {content: \"▾\";}#sk-container-id-5 div.sk-estimator input.sk-toggleable__control:checked~label.sk-toggleable__label {background-color: #d4ebff;}#sk-container-id-5 div.sk-label input.sk-toggleable__control:checked~label.sk-toggleable__label {background-color: #d4ebff;}#sk-container-id-5 input.sk-hidden--visually {border: 0;clip: rect(1px 1px 1px 1px);clip: rect(1px, 1px, 1px, 1px);height: 1px;margin: -1px;overflow: hidden;padding: 0;position: absolute;width: 1px;}#sk-container-id-5 div.sk-estimator {font-family: monospace;background-color: #f0f8ff;border: 1px dotted black;border-radius: 0.25em;box-sizing: border-box;margin-bottom: 0.5em;}#sk-container-id-5 div.sk-estimator:hover {background-color: #d4ebff;}#sk-container-id-5 div.sk-parallel-item::after {content: \"\";width: 100%;border-bottom: 1px solid gray;flex-grow: 1;}#sk-container-id-5 div.sk-label:hover label.sk-toggleable__label {background-color: #d4ebff;}#sk-container-id-5 div.sk-serial::before {content: \"\";position: absolute;border-left: 1px solid gray;box-sizing: border-box;top: 0;bottom: 0;left: 50%;z-index: 0;}#sk-container-id-5 div.sk-serial {display: flex;flex-direction: column;align-items: center;background-color: white;padding-right: 0.2em;padding-left: 0.2em;position: relative;}#sk-container-id-5 div.sk-item {position: relative;z-index: 1;}#sk-container-id-5 div.sk-parallel {display: flex;align-items: stretch;justify-content: center;background-color: white;position: relative;}#sk-container-id-5 div.sk-item::before, #sk-container-id-5 div.sk-parallel-item::before {content: \"\";position: absolute;border-left: 1px solid gray;box-sizing: border-box;top: 0;bottom: 0;left: 50%;z-index: -1;}#sk-container-id-5 div.sk-parallel-item {display: flex;flex-direction: column;z-index: 1;position: relative;background-color: white;}#sk-container-id-5 div.sk-parallel-item:first-child::after {align-self: flex-end;width: 50%;}#sk-container-id-5 div.sk-parallel-item:last-child::after {align-self: flex-start;width: 50%;}#sk-container-id-5 div.sk-parallel-item:only-child::after {width: 0;}#sk-container-id-5 div.sk-dashed-wrapped {border: 1px dashed gray;margin: 0 0.4em 0.5em 0.4em;box-sizing: border-box;padding-bottom: 0.4em;background-color: white;}#sk-container-id-5 div.sk-label label {font-family: monospace;font-weight: bold;display: inline-block;line-height: 1.2em;}#sk-container-id-5 div.sk-label-container {text-align: center;}#sk-container-id-5 div.sk-container {/* jupyter's `normalize.less` sets `[hidden] { display: none; }` but bootstrap.min.css set `[hidden] { display: none !important; }` so we also need the `!important` here to be able to override the default hidden behavior on the sphinx rendered scikit-learn.org. See: https://github.com/scikit-learn/scikit-learn/issues/21755 */display: inline-block !important;position: relative;}#sk-container-id-5 div.sk-text-repr-fallback {display: none;}</style><div id=\"sk-container-id-5\" class=\"sk-top-container\"><div class=\"sk-text-repr-fallback\"><pre>SVC()</pre><b>In a Jupyter environment, please rerun this cell to show the HTML representation or trust the notebook. <br />On GitHub, the HTML representation is unable to render, please try loading this page with nbviewer.org.</b></div><div class=\"sk-container\" hidden><div class=\"sk-item\"><div class=\"sk-estimator sk-toggleable\"><input class=\"sk-toggleable__control sk-hidden--visually\" id=\"sk-estimator-id-10\" type=\"checkbox\" checked><label for=\"sk-estimator-id-10\" class=\"sk-toggleable__label sk-toggleable__label-arrow\">SVC</label><div class=\"sk-toggleable__content\"><pre>SVC()</pre></div></div></div></div></div>"
      ],
      "text/plain": [
       "SVC()"
      ]
     },
     "execution_count": 67,
     "metadata": {},
     "output_type": "execute_result"
    }
   ],
   "source": [
    "svc_model = SVC(kernel='rbf')\n",
    "svc_model.fit(X_train, y_train)"
   ]
  },
  {
   "cell_type": "code",
   "execution_count": 69,
   "id": "ee1d94f8-5a15-42d3-aa7f-db6ded6ab299",
   "metadata": {},
   "outputs": [],
   "source": [
    "importance = model.tree_\n"
   ]
  },
  {
   "cell_type": "code",
   "execution_count": 70,
   "id": "4556512c-18cf-491c-bd2f-83fb97de24b8",
   "metadata": {},
   "outputs": [
    {
     "data": {
      "text/plain": [
       "<sklearn.tree._tree.Tree at 0x7f9e74b93ec0>"
      ]
     },
     "execution_count": 70,
     "metadata": {},
     "output_type": "execute_result"
    }
   ],
   "source": [
    "importance"
   ]
  },
  {
   "cell_type": "code",
   "execution_count": null,
   "id": "b0676dd1-db7a-47b1-bf01-6d7350a9409a",
   "metadata": {},
   "outputs": [],
   "source": []
  }
 ],
 "metadata": {
  "kernelspec": {
   "display_name": "Python 3 (ipykernel)",
   "language": "python",
   "name": "python3"
  },
  "language_info": {
   "codemirror_mode": {
    "name": "ipython",
    "version": 3
   },
   "file_extension": ".py",
   "mimetype": "text/x-python",
   "name": "python",
   "nbconvert_exporter": "python",
   "pygments_lexer": "ipython3",
   "version": "3.10.4"
  }
 },
 "nbformat": 4,
 "nbformat_minor": 5
}
